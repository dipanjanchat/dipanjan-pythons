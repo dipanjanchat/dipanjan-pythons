{
 "cells": [
  {
   "cell_type": "code",
   "execution_count": 1,
   "id": "4da93203",
   "metadata": {},
   "outputs": [
    {
     "name": "stdout",
     "output_type": "stream",
     "text": [
      "enter 1st number:5\n",
      "enter 2nd number:4\n",
      "Before swapping;\n",
      "\t1st number: 5 \n",
      "\t2nd number: 4\n",
      "After swapping;\n",
      "\t1st number: 4 \n",
      "\t2nd number: 5\n"
     ]
    }
   ],
   "source": [
    "#Q1. swapping of two numbers without using third variable:\n",
    "\n",
    "x=int(input(\"enter 1st number:\"))\n",
    "y=int(input(\"enter 2nd number:\"))\n",
    "print(\"Before swapping;\" \"\\n\\t1st number:\",x, \"\\n\\t2nd number:\",y)\n",
    "x=(x+y)\n",
    "y=(x-y)\n",
    "x=(x-y)\n",
    "print(\"After swapping;\" \"\\n\\t1st number:\",x, \"\\n\\t2nd number:\",y)"
   ]
  },
  {
   "cell_type": "code",
   "execution_count": 1,
   "id": "da498841",
   "metadata": {},
   "outputs": [
    {
     "name": "stdout",
     "output_type": "stream",
     "text": [
      "=: Find the area of a Rectangle := \n",
      "\n",
      "\t enter the length: 12.11\n",
      "\t enter the width :23\n",
      " the area of the rectangle is: 278.53\n"
     ]
    }
   ],
   "source": [
    "#Q2. area of rectangle:\n",
    "\n",
    "print(\"=: Find the area of a Rectangle := \\n\")\n",
    "length=float(input(\"\\t enter the length: \"))\n",
    "width=float(input(\"\\t enter the width :\"))\n",
    "area=(length*width)\n",
    "\n",
    "print(\" the area of the rectangle is:\",area)"
   ]
  },
  {
   "cell_type": "code",
   "execution_count": 2,
   "id": "83f537d5",
   "metadata": {},
   "outputs": [
    {
     "name": "stdout",
     "output_type": "stream",
     "text": [
      "=: Conversion of temperature from Celcius to Farenhite:=\n",
      "\n",
      "Temperature in Celcius(degree celcius): 35.91\n",
      "Temperature in Farenhite(degree farenhite): 96.63799999999999\n"
     ]
    }
   ],
   "source": [
    "#Q3. conversion from celcius to farenhite\n",
    "#we know c/5 = (f-32)/9\n",
    "\n",
    "print(\"=: Conversion of temperature from Celcius to Farenhite:=\\n\")\n",
    "\n",
    "cel=float(input(\"Temperature in Celcius(degree celcius): \"))\n",
    "faren= ((9/5 * cel)+ 32)\n",
    "print(\"Temperature in Farenhite(degree farenhite):\", faren)"
   ]
  },
  {
   "cell_type": "code",
   "execution_count": 7,
   "id": "45fe9da8",
   "metadata": {},
   "outputs": [
    {
     "name": "stdout",
     "output_type": "stream",
     "text": [
      "enter string: Dipanjan Chatterjee from your 2023 BSC CMSA batch.\n",
      "string length: 50\n"
     ]
    }
   ],
   "source": [
    "#Q1. print the length of string\n",
    "\n",
    "#using loop:\n",
    "\n",
    "string=str(input(\"enter string: \"))\n",
    "count=0\n",
    "for i in string:\n",
    "    count+=1\n",
    "    \n",
    "print(\"string length:\",count)\n",
    "\n",
    "#using syntax:\n",
    "\n",
    "#string=str(input(\"enter string: \"))\n",
    "#length=len(string)\n",
    "#print(\"string length:\", length)\n"
   ]
  },
  {
   "cell_type": "code",
   "execution_count": 8,
   "id": "942db02e",
   "metadata": {},
   "outputs": [
    {
     "name": "stdout",
     "output_type": "stream",
     "text": [
      "enter string: Here is an example of a string\n",
      "number of vowels in the above string is: 10\n"
     ]
    }
   ],
   "source": [
    "#Q2. Count the number of vowels in a string\n",
    "string=input(\"enter string: \")\n",
    "vowels=0\n",
    "for i in string:\n",
    "    if i=='a' or i=='e' or i=='i' or i=='o' or i=='u' or i=='A' or i=='E' or i=='I' or i== 'O' or i=='U':\n",
    "        vowels+=1\n",
    "        \n",
    "print(\"number of vowels in the above string is:\",vowels)"
   ]
  },
  {
   "cell_type": "code",
   "execution_count": 9,
   "id": "ad6aebba",
   "metadata": {
    "scrolled": true
   },
   "outputs": [
    {
     "name": "stdout",
     "output_type": "stream",
     "text": [
      "=: Reverse a String and check if it is Palindrome or not :=\n",
      "enter string: hello\n",
      "\n",
      "The Original string is: hello\n",
      "The Reversed string is: olleh\n",
      "\n",
      "\t The string is non-palindrome...\n"
     ]
    }
   ],
   "source": [
    "# Q3 & Q4. Reverse a string\n",
    "#using syntax:\n",
    "print(\"=: Reverse a String and check if it is Palindrome or not :=\")\n",
    "\n",
    "string=input(\"enter string: \")\n",
    "print(\"\\nThe Original string is:\",string)\n",
    "print(\"The Reversed string is:\", string[::-1])\n",
    "if string == string[::-1]:\n",
    "    print(\"\\n\\t The string is palindrome...\")\n",
    "else:\n",
    "    print(\"\\n\\t The string is non-palindrome...\")\n",
    "\n",
    "#using loop:\n",
    "\n",
    "#def reverse(string):\n",
    " #      string=string[::-1]\n",
    " #      return string\n",
    "\n",
    "#string=input(\"enter string: \")\n",
    "#print(\"\\nThe Original string is:\",string)\n",
    "#print(\"\\n The Reversed string is:\", reverse(string))\n",
    "#if string == reverse(string):\n",
    " #   print(\"\\t The string is palindrome...\")\n",
    "#else:\n",
    " #   print(\"\\t The string is non-palindrome...\")"
   ]
  },
  {
   "cell_type": "code",
   "execution_count": 85,
   "id": "d38e5d52",
   "metadata": {},
   "outputs": [
    {
     "name": "stdout",
     "output_type": "stream",
     "text": [
      "enter original string: di pan jan c hatt er jee\n",
      "\n",
      "Before removing space the string is:\n",
      "\t di pan jan c hatt er jee\n",
      "\n",
      "After removing space the string is:\n",
      "\t dipanjanchatterjee\n"
     ]
    }
   ],
   "source": [
    "#Q5. remove all spaces from a string\n",
    "\n",
    "string=input(\"enter original string: \")\n",
    "print(\"\\nBefore removing space the string is:\")\n",
    "print(\"\\t\",string)\n",
    "newstr=string.replace(\" \",'')\n",
    "print(\"\\nAfter removing space the string is:\")\n",
    "print(\"\\t\",newstr)"
   ]
  }
 ],
 "metadata": {
  "kernelspec": {
   "display_name": "Python 3 (ipykernel)",
   "language": "python",
   "name": "python3"
  },
  "language_info": {
   "codemirror_mode": {
    "name": "ipython",
    "version": 3
   },
   "file_extension": ".py",
   "mimetype": "text/x-python",
   "name": "python",
   "nbconvert_exporter": "python",
   "pygments_lexer": "ipython3",
   "version": "3.11.4"
  }
 },
 "nbformat": 4,
 "nbformat_minor": 5
}
