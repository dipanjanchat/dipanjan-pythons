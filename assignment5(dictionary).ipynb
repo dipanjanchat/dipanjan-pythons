{
 "cells": [
  {
   "cell_type": "code",
   "execution_count": null,
   "id": "28a49f0b",
   "metadata": {},
   "outputs": [],
   "source": []
  },
  {
   "cell_type": "code",
   "execution_count": 3,
   "id": "563abe4e",
   "metadata": {},
   "outputs": [
    {
     "name": "stdout",
     "output_type": "stream",
     "text": [
      "enter number of entries:5\n",
      "\n",
      "enter name 1:joy\n",
      "enter age 1:13\n",
      "\n",
      "enter name 2:surja\n",
      "enter age 2:16\n",
      "\n",
      "enter name 3:arup\n",
      "enter age 3:18\n",
      "\n",
      "enter name 4:nondo\n",
      "enter age 4:15\n",
      "\n",
      "enter name 5:itachi\n",
      "enter age 5:20\n",
      "{'joy': 13, 'surja': 16, 'arup': 18, 'nondo': 15, 'itachi': 20}\n"
     ]
    }
   ],
   "source": [
    "my_dict={}\n",
    "n=int(input(\"enter number of entries:\"))\n",
    "for i in range(n):\n",
    "    key=input(f\"\\nenter name {i+1}:\")\n",
    "    value=int(input(f\"enter age {i+1}:\"))\n",
    "    my_dict[key]=value\n",
    "print(\"\\nYour Dictionary is below:\\n\")\n",
    "print(my_dict)"
   ]
  },
  {
   "cell_type": "code",
   "execution_count": 18,
   "id": "61380ae2",
   "metadata": {},
   "outputs": [
    {
     "name": "stdout",
     "output_type": "stream",
     "text": [
      "Name of person: itachi\n",
      "Value: 60\n",
      "Name of person: sasuke\n",
      "Value: 120\n",
      "Name of person: shisui\n",
      "Value: 180\n",
      "Name of person: jiraiya\n",
      "Value: 240\n",
      "Name of person: orochimaru\n",
      "Value: 300\n"
     ]
    }
   ],
   "source": [
    "rec={}\n",
    "rec['itachi']=60\n",
    "rec['sasuke']=120\n",
    "rec['shisui']=180\n",
    "rec['jiraiya']=240\n",
    "rec['orochimaru']=300\n",
    "for x in rec:\n",
    "    print(\"Name of person:\",x)\n",
    "    print(\"Value:\",rec[x])\n"
   ]
  },
  {
   "cell_type": "code",
   "execution_count": 33,
   "id": "0be0f573",
   "metadata": {},
   "outputs": [
    {
     "name": "stdout",
     "output_type": "stream",
     "text": [
      "{'i': 5, 'j': 3, 'g': 10}\n"
     ]
    }
   ],
   "source": [
    "d=dict({\"i\":5,\"j\":3,\"g\":10,\"e\":6})\n",
    "d.pop(\"e\")\n",
    "print(d)"
   ]
  },
  {
   "cell_type": "code",
   "execution_count": 11,
   "id": "8df3640d",
   "metadata": {},
   "outputs": [
    {
     "name": "stdout",
     "output_type": "stream",
     "text": [
      "enter number:153\n",
      "15 3 27\n",
      "1 5 152\n",
      "0 1 153\n",
      "armstrong\n"
     ]
    }
   ],
   "source": [
    "n=int(input(\"enter number:\"))\n",
    "sum=0\n",
    "temp=n\n",
    "while(temp>0):\n",
    "    digit=temp%10\n",
    "    sum+=(digit**3)\n",
    "    temp=temp//10\n",
    "    print(temp,digit,sum)\n",
    "if n==sum:\n",
    "    print(\"armstrong\")\n",
    "else:\n",
    "    print(\"no\")"
   ]
  },
  {
   "cell_type": "code",
   "execution_count": 1,
   "id": "73eebd21",
   "metadata": {},
   "outputs": [
    {
     "name": "stdout",
     "output_type": "stream",
     "text": [
      "enter range: 3\n",
      "\n",
      " enter key 1: 100\n",
      " enter value 1: apple\n",
      "\n",
      " enter key 2: 200\n",
      " enter value 2: banana\n",
      "\n",
      " enter key 3: 300\n",
      " enter value 3: orange\n",
      "{100: 'apple', 200: 'banana', 300: 'orange'}\n",
      "\t 100: apple\n",
      "\t 200: banana\n",
      "\t 300: orange\n"
     ]
    }
   ],
   "source": [
    "dic={}\n",
    "n=int(input(\"enter range: \"))\n",
    "for i in range(n):\n",
    "    key=int(input(f\"\\n enter key {i+1}: \"))\n",
    "    value=input(f\" enter value {i+1}: \")\n",
    "    dic[key]=value\n",
    "print(dic)\n",
    "for key,value in dic.items():\n",
    "    print(f\"\\t {key}: {value}\")"
   ]
  },
  {
   "cell_type": "code",
   "execution_count": 2,
   "id": "22dc3365",
   "metadata": {},
   "outputs": [
    {
     "name": "stdout",
     "output_type": "stream",
     "text": [
      "{100: 'dip', 200: 'joy', 300: 'raavi', 400: 'savitri', 500: 'sukhvindar'}\n",
      "{100: 'dip', 200: 'joy', 300: 'ravi', 400: 'savitri', 500: 'sukhvindar'}\n"
     ]
    }
   ],
   "source": [
    "dic={\n",
    "    100:\"dip\",\n",
    "    200:\"joy\",\n",
    "    300:\"raavi\",\n",
    "    400:\"savitri\",\n",
    "    500: \"sukhvindar\"\n",
    "}\n",
    "print(dic)\n",
    "\n",
    "dic[300]=\"ravi\"\n",
    "print(dic)"
   ]
  },
  {
   "cell_type": "code",
   "execution_count": 3,
   "id": "36e6b8c8",
   "metadata": {},
   "outputs": [
    {
     "name": "stdout",
     "output_type": "stream",
     "text": [
      "enter key:200\n",
      "element deleted...\n",
      "{100: 'dip', 300: 'raavi', 400: 'savitri', 500: 'sukhvindar'}\n"
     ]
    }
   ],
   "source": [
    "dic={\n",
    "    100:\"dip\",\n",
    "    200:\"joy\",\n",
    "    300:\"raavi\",\n",
    "    400:\"savitri\",\n",
    "    500: \"sukhvindar\"\n",
    "}\n",
    "key=int(input(\"enter key:\"))\n",
    "del(dic[key])\n",
    "\n",
    "try:\n",
    "    if key not in dic:\n",
    "        print(f\"{dic[key]} deleted...\")\n",
    "except KeyError:\n",
    "    print(\"element deleted...\")\n",
    "    \n",
    "print(dic)"
   ]
  },
  {
   "cell_type": "code",
   "execution_count": 4,
   "id": "6ce75acf",
   "metadata": {},
   "outputs": [
    {
     "name": "stdout",
     "output_type": "stream",
     "text": [
      "\n",
      " {100: 'dip', 200: 'joy', 300: 'raavi', 400: 'savitri', 500: 'sukhvindar', 600: 'rajib', 700: 'ajoy', 800: 'joydeep', 900: 'jack', 1000: 'albert'}\n",
      "enter key: 1000\n",
      "element deleted...\n",
      "\n",
      " {100: 'dip', 200: 'joy', 300: 'raavi', 400: 'savitri', 500: 'sukhvindar', 600: 'rajib', 700: 'ajoy', 800: 'joydeep', 900: 'jack'}\n",
      "enter key: 800\n",
      "element deleted\n",
      "\n",
      " {100: 'dip', 200: 'joy', 300: 'raavi', 400: 'savitri', 500: 'sukhvindar', 600: 'rajib', 700: 'ajoy', 900: 'jack'}\n",
      "(900, 'jack')\n",
      "\n",
      " {100: 'dip', 200: 'joy', 300: 'raavi', 400: 'savitri', 500: 'sukhvindar', 600: 'rajib', 700: 'ajoy'}\n"
     ]
    }
   ],
   "source": [
    "dic={\n",
    "    100:\"dip\",\n",
    "    200:\"joy\",\n",
    "    300:\"raavi\",\n",
    "    400:\"savitri\",\n",
    "    500: \"sukhvindar\",\n",
    "    600: \"rajib\",\n",
    "    700: \"ajoy\",\n",
    "    800:\"joydeep\",\n",
    "    900:\"jack\",\n",
    "    1000:\"albert\"\n",
    "}\n",
    "print(\"\\n\",dic)\n",
    "\n",
    "key1=int(input(\"enter key: \"))\n",
    "dic.pop(key1)\n",
    "print(\"element deleted...\")\n",
    "print(\"\\n\",dic)\n",
    "\n",
    "key2=int(input(\"enter key: \"))\n",
    "del(dic[key2])\n",
    "print(\"element deleted\")\n",
    "print(\"\\n\",dic)\n",
    "\n",
    "print(dic.popitem())\n",
    "print(\"\\n\",dic)"
   ]
  },
  {
   "cell_type": "code",
   "execution_count": null,
   "id": "5014d5ca",
   "metadata": {},
   "outputs": [],
   "source": []
  }
 ],
 "metadata": {
  "kernelspec": {
   "display_name": "Python 3 (ipykernel)",
   "language": "python",
   "name": "python3"
  },
  "language_info": {
   "codemirror_mode": {
    "name": "ipython",
    "version": 3
   },
   "file_extension": ".py",
   "mimetype": "text/x-python",
   "name": "python",
   "nbconvert_exporter": "python",
   "pygments_lexer": "ipython3",
   "version": "3.11.5"
  }
 },
 "nbformat": 4,
 "nbformat_minor": 5
}
