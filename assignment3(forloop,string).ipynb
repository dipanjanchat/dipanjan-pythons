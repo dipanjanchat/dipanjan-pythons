{
 "cells": [
  {
   "cell_type": "code",
   "execution_count": 6,
   "id": "67ebd662",
   "metadata": {},
   "outputs": [],
   "source": [
    "#                         ---FOR LOOP---"
   ]
  },
  {
   "cell_type": "code",
   "execution_count": null,
   "id": "f3b1e506",
   "metadata": {},
   "outputs": [],
   "source": []
  },
  {
   "cell_type": "code",
   "execution_count": 4,
   "id": "d7c6a0dc",
   "metadata": {},
   "outputs": [
    {
     "name": "stdout",
     "output_type": "stream",
     "text": [
      "Numbers from 1 to 10 are:\n",
      "\t1\t2\t3\t4\t5\t6\t7\t8\t9\t10"
     ]
    }
   ],
   "source": [
    "#python program to print 1 to 10 using for loop\n",
    "\n",
    "i=1\n",
    "print(\"Numbers from 1 to 10 are:\")\n",
    "for i in range(1,11):\n",
    "    print(f\"\\t{i}\",end='')"
   ]
  },
  {
   "cell_type": "code",
   "execution_count": 5,
   "id": "67d1743c",
   "metadata": {},
   "outputs": [
    {
     "name": "stdout",
     "output_type": "stream",
     "text": [
      "Sum of all numbers between 1 to 100 are: 5050\n"
     ]
    }
   ],
   "source": [
    "#calculate the sum of all numbers between 1 & 100\n",
    "\n",
    "i=0\n",
    "sum=0\n",
    "\n",
    "for i in range(1,101):\n",
    "    sum=sum+i\n",
    "print(\"Sum of all numbers between 1 to 100 are:\",sum)"
   ]
  },
  {
   "cell_type": "code",
   "execution_count": 62,
   "id": "00eb2dba",
   "metadata": {},
   "outputs": [
    {
     "name": "stdout",
     "output_type": "stream",
     "text": [
      "Enter element:5,17,45,'Dipanjan','John',34.88,97.12345\n",
      "5\n",
      "17\n",
      "45\n",
      "Dipanjan\n",
      "John\n",
      "34.88\n",
      "97.12345\n",
      "\n",
      " Element 1: 5\n",
      "\n",
      " Element 2: 17\n",
      "\n",
      " Element 3: 45\n",
      "\n",
      " Element 4: Dipanjan\n",
      "\n",
      " Element 5: John\n",
      "\n",
      " Element 6: 34.88\n",
      "\n",
      " Element 7: 97.12345\n"
     ]
    }
   ],
   "source": [
    "#iterate a l using for  loop\n",
    "l=eval(input(\"Enter element:\"))\n",
    "n=len(l)\n",
    "for i in l:\n",
    "    print(i)\n",
    "    \n",
    "for i in range(n):\n",
    "    print(f\"\\n Element {i+1}: {l[i]}\")"
   ]
  },
  {
   "cell_type": "code",
   "execution_count": 51,
   "id": "df78122a",
   "metadata": {},
   "outputs": [
    {
     "name": "stdout",
     "output_type": "stream",
     "text": [
      "enter elements in a list:3,12,56,57,98,12\n",
      "product of all elements in list (3, 12, 56, 57, 98, 12) are: 135136512\n"
     ]
    }
   ],
   "source": [
    "#product of all elements of a l using for loop\n",
    "product=1\n",
    "l=eval(input(\"enter elements in a l:\"))\n",
    "for i in l:\n",
    "    product=product*i\n",
    "print(f\"product of all elements in l {l} are:\",product)"
   ]
  },
  {
   "cell_type": "code",
   "execution_count": 84,
   "id": "2acb8a9b",
   "metadata": {},
   "outputs": [
    {
     "name": "stdout",
     "output_type": "stream",
     "text": [
      "Enter lower limit:70\n",
      "Enter upper limit:150\n",
      "Even numbers in the given range:\n",
      "\n",
      "\t 70\t 72\t 74\t 76\t 78\t 80\t 82\t 84\t 86\t 88\t 90\t 92\t 94\t 96\t 98\t 100\t 102\t 104\t 106\t 108\t 110\t 112\t 114\t 116\t 118\t 120\t 122\t 124\t 126\t 128\t 130\t 132\t 134\t 136\t 138\t 140\t 142\t 144\t 146\t 148\t 150\n",
      "\n",
      "Therefore total number of even nummber in this range are: 41\n"
     ]
    }
   ],
   "source": [
    "#print all even numbers in a range\n",
    "l=int(input(\"Enter lower limit:\"))\n",
    "u=int(input(\"Enter upper limit:\"))\n",
    "count=0\n",
    "j=0\n",
    "even=0\n",
    "\n",
    "print(\"Even numbers in the given range:\\n\")\n",
    "for i in range(l,u+1):\n",
    "    if i%2==0:\n",
    "        print(\"\\t\",i,end='')\n",
    "        count+=1\n",
    "    \n",
    "print(\"\\n\\nTherefore total number of even nummber in this range are:\",count)\n",
    "\n",
    "    "
   ]
  },
  {
   "cell_type": "code",
   "execution_count": 5,
   "id": "6f2826d7",
   "metadata": {},
   "outputs": [
    {
     "name": "stdout",
     "output_type": "stream",
     "text": [
      "enter number:8\n",
      "Factorial of 8: 40320\n"
     ]
    }
   ],
   "source": [
    "#calculate factorial of a number using for loop\n",
    "    \n",
    "num=int(input(\"enter number:\"))\n",
    "fact=1\n",
    "\n",
    "for i in range(1,(num+1)):\n",
    "    fact=fact*i\n",
    "    \n",
    "print(f\"Factorial of {num}:\",fact)\n"
   ]
  },
  {
   "cell_type": "code",
   "execution_count": 10,
   "id": "b9288113",
   "metadata": {},
   "outputs": [
    {
     "name": "stdout",
     "output_type": "stream",
     "text": [
      "Enter list:[3,7,12,67,45,98,23,11,5]\n",
      "Maximum value: 98\n"
     ]
    }
   ],
   "source": [
    "#find the largest number in a l using for loop\n",
    "\n",
    "l=eval(input(\"Enter l:\"))\n",
    "maximum = l[0]\n",
    "\n",
    "for i in range(1, len(l)):\n",
    "    if l[i] > maximum:\n",
    "        maximum = l[i]\n",
    "\n",
    "print(\"Maximum value:\", maximum)"
   ]
  },
  {
   "cell_type": "code",
   "execution_count": 1,
   "id": "a5d4446c",
   "metadata": {},
   "outputs": [
    {
     "name": "stdout",
     "output_type": "stream",
     "text": [
      "Enter list:[3,7,12,67,45,98,23,11,5]\n",
      "minimum value: 3\n"
     ]
    }
   ],
   "source": [
    "l=eval(input(\"Enter l:\"))\n",
    "minimum = l[0]\n",
    "\n",
    "for i in range(1, len(l)):\n",
    "    if l[i] < minimum:\n",
    "        minimum = l[i]\n",
    "\n",
    "print(\"minimum value:\", minimum)"
   ]
  },
  {
   "cell_type": "code",
   "execution_count": 12,
   "id": "c09b818e",
   "metadata": {},
   "outputs": [
    {
     "name": "stdout",
     "output_type": "stream",
     "text": [
      "Enter list:10,14,55,75,23,4,67,10\n",
      "minimum value: 4\n"
     ]
    }
   ],
   "source": [
    "#count the vowels in a string using for loop\n",
    "s=str(input)"
   ]
  },
  {
   "cell_type": "code",
   "execution_count": 18,
   "id": "e61119e6",
   "metadata": {},
   "outputs": [
    {
     "name": "stdout",
     "output_type": "stream",
     "text": [
      "enter number of terms: 15\n",
      "Fibonacci terms are:\n",
      "\n",
      "0 1 1 2 3 5 8 13 21 34 55 89 144 233 377 610 987 "
     ]
    }
   ],
   "source": [
    "#print fibonacci series using for loop\n",
    "\n",
    "n=int(input(\"enter number of terms: \"))\n",
    "a=0\n",
    "b=1\n",
    "fibo=0\n",
    "i=0\n",
    "\n",
    "print(\"Fibonacci terms are:\\n\")\n",
    "if(n>0):\n",
    "    print(a,b,end=' ')\n",
    "    for i in range(n):\n",
    "        fibo=a+b\n",
    "        print(fibo,end=' ')\n",
    "        a=b\n",
    "        b=fibo\n",
    "else:\n",
    "    (\"Fibonacci term is:\",a)"
   ]
  },
  {
   "cell_type": "code",
   "execution_count": 19,
   "id": "af82c4cc",
   "metadata": {},
   "outputs": [
    {
     "name": "stdin",
     "output_type": "stream",
     "text": [
      "enter elements:  44.766, \"Dipanjan\", \"Jordan\", 178, \"Albert\",32,25,67,88.112,3,2,4,3,2,1\n"
     ]
    },
    {
     "name": "stdout",
     "output_type": "stream",
     "text": [
      "\n",
      " Original list:  (44.766, 'Dipanjan', 'Jordan', 178, 'Albert', 32, 25, 67, 88.112, 3, 2, 4, 3, 2, 1)\n",
      " Reversed list:  [1, 2, 3, 4, 2, 3, 88.112, 67, 25, 32, 'Albert', 178, 'Jordan', 'Dipanjan', 44.766]\n"
     ]
    }
   ],
   "source": [
    "#reverse a l using for loop\n",
    "l=eval(input(\"enter elements: \"))\n",
    "print(\"\\n Original list: \",l)\n",
    "rev=[]\n",
    "for i in l:\n",
    "    rev=[i]+rev\n",
    "print(\" Reversed list: \",rev)"
   ]
  },
  {
   "cell_type": "code",
   "execution_count": 46,
   "id": "8511d829",
   "metadata": {},
   "outputs": [
    {
     "name": "stdout",
     "output_type": "stream",
     "text": [
      "enter elements in 1st list: 5, 9, 8.55, 44.766, \"Dipanjan\", \"Jordan\", 178, \"Albert\",\"\",31.9978,\"yami\"\n",
      "enter elementsin 2nd list: 14,17,45,89.455,\"Robret\",\"Asta\",1,7,8.99,\"Julius\",178,34,78,\"Dipanjan\",31.9978\n",
      "\n",
      " 1st list:\t(5, 9, 8.55, 44.766, 'Dipanjan', 'Jordan', 178, 'Albert', '', 31.9978, 'yami')\n",
      "Second list:\t(14, 17, 45, 89.455, 'Robret', 'Asta', 1, 7, 8.99, 'Julius', 178, 34, 78, 'Dipanjan', 31.9978)\n",
      "\n",
      "Common element found!!! \tElement no.1: \tDipanjan\n",
      "Common element found!!! \tElement no.2: \t178\n",
      "Common element found!!! \tElement no.3: \t31.9978\n"
     ]
    }
   ],
   "source": [
    "#find common elements  between two ls using for loop\n",
    "\n",
    "l1=eval(input(\"enter elements in 1st l: \"))\n",
    "l2=eval(input(\"enter elementsin 2nd l: \"))\n",
    "i=0\n",
    "j=0\n",
    "count=0\n",
    "print(f\"\\n 1st l:\\t{l1}\")\n",
    "print(f\"Second l:\\t{l2}\\n\")\n",
    "for i in l1:\n",
    "    for j in l2:\n",
    "        if [i]==[j]:\n",
    "            count+=1\n",
    "            print(f\"Common element found!!! \\tElement no.{count}: \\t{i}\")\n",
    "# 5, 9, 8.55, 44.766, \"Dipanjan\", \"Jordan\", 178, \"Albert\",\"\",31.9978,\"yami\"\n",
    "# 14,17,45,89.455,\"Robret\",\"Asta\",1,7,8.99,\"Julius\",178,34,78,\"Dipanjan\",31.9978"
   ]
  },
  {
   "cell_type": "code",
   "execution_count": 7,
   "id": "e048e66a",
   "metadata": {
    "tags": []
   },
   "outputs": [
    {
     "name": "stdin",
     "output_type": "stream",
     "text": [
      "enter first number:  467\n",
      "enter second number:  289\n"
     ]
    },
    {
     "name": "stdout",
     "output_type": "stream",
     "text": [
      "\n",
      "G.C.D. of 467 and 289 is: 1\n"
     ]
    }
   ],
   "source": [
    "#gcd of two elements\n",
    "\n",
    "a=int(input(\"enter first number: \"))\n",
    "b=int(input(\"enter second number: \"))\n",
    "j=0\n",
    "gcd=0\n",
    "\n",
    "if a>b:\n",
    "    for i in range(1,b):\n",
    "        if (a%i==0) and (b%i==0):\n",
    "            gcd=i\n",
    "elif b>a:\n",
    "    for i in range(1,b):\n",
    "        if (a%i==0) and (b%i==0):\n",
    "            gcd=i\n",
    "print(f\"\\nG.C.D. of {a} and {b} is: {gcd}\")"
   ]
  },
  {
   "cell_type": "code",
   "execution_count": 32,
   "id": "9e19dabd",
   "metadata": {},
   "outputs": [
    {
     "name": "stdin",
     "output_type": "stream",
     "text": [
      "enter two numbers: 12 18\n"
     ]
    },
    {
     "name": "stdout",
     "output_type": "stream",
     "text": [
      "\n",
      "L.C.M. of 12 and 18 is: 36\n"
     ]
    }
   ],
   "source": [
    "#find the lcm of 2 numbers using for loop\n",
    "a,b=map(int,input(\"enter two numbers:\").split())\n",
    "i=a if a>b else b\n",
    "for lcm in range(i,9999):\n",
    "    if (lcm%a==0) and (lcm%b==0):\n",
    "        break\n",
    "print(f\"\\nL.C.M. of {a} and {b} is: {lcm}\")"
   ]
  },
  {
   "cell_type": "code",
   "execution_count": 27,
   "id": "7b31a19f",
   "metadata": {},
   "outputs": [
    {
     "name": "stdin",
     "output_type": "stream",
     "text": [
      "enter elements: 1,2,3,4,\"a\",\"b\",3,2\n"
     ]
    },
    {
     "name": "stdout",
     "output_type": "stream",
     "text": [
      "\n",
      "The Original list is:\t (1, 2, 3, 4, 'a', 'b', 3, 2)\n",
      "The new duplicate-free list is:\t [1, 2, 3, 4, 'a', 'b']\n"
     ]
    }
   ],
   "source": [
    "#remove duplicates from a l using for loop\n",
    "l=[]\n",
    "l=eval(input(\"enter elements:\"))\n",
    "new=[]\n",
    "count=0\n",
    "\n",
    "print(\"\\nThe Original list is:\\t\",l)\n",
    "\n",
    "for item in l:\n",
    "    if item not in new:\n",
    "        new+=[item]\n",
    "print(\"The new duplicate-free list is:\\t\",new)"
   ]
  },
  {
   "cell_type": "code",
   "execution_count": 46,
   "id": "f0daf3e1",
   "metadata": {},
   "outputs": [
    {
     "name": "stdin",
     "output_type": "stream",
     "text": [
      "enter range: 23 189\n"
     ]
    },
    {
     "name": "stdout",
     "output_type": "stream",
     "text": [
      "The Odd numbers between {l} and {u}:\n",
      "\n",
      "\t 23 \t 25 \t 27 \t 29 \t 31 \t 33 \t 35 \t 37 \t 39 \t 41 \t 43 \t 45 \t 47 \t 49 \t 51 \t 53 \t 55 \t 57 \t 59 \t 61 \t 63 \t 65 \t 67 \t 69 \t 71 \t 73 \t 75 \t 77 \t 79 \t 81 \t 83 \t 85 \t 87 \t 89 \t 91 \t 93 \t 95 \t 97 \t 99 \t 101 \t 103 \t 105 \t 107 \t 109 \t 111 \t 113 \t 115 \t 117 \t 119 \t 121 \t 123 \t 125 \t 127 \t 129 \t 131 \t 133 \t 135 \t 137 \t 139 \t 141 \t 143 \t 145 \t 147 \t 149 \t 151 \t 153 \t 155 \t 157 \t 159 \t 161 \t 163 \t 165 \t 167 \t 169 \t 171 \t 173 \t 175 \t 177 \t 179 \t 181 \t 183 \t 185 \t 187 \t 189 \n",
      "\tThe sum of these all odd numbers:  8904\n"
     ]
    }
   ],
   "source": [
    "#find the sum of all odd numbers in a range using for loop\n",
    "\n",
    "l,u=map(int,input(\"enter range:\").split())\n",
    "\n",
    "oddsum=0\n",
    "print(\"The Odd numbers between {l} and {u}:\\n\")\n",
    "for i in range(l,u+1):\n",
    "    if i%2!=0:\n",
    "        print(\"\\t\",i,end=' ')\n",
    "        oddsum=oddsum+i\n",
    "print(\"\\n\\tThe sum of these all odd numbers: \",oddsum)"
   ]
  },
  {
   "cell_type": "code",
   "execution_count": 52,
   "id": "bd40b7d5",
   "metadata": {},
   "outputs": [
    {
     "name": "stdin",
     "output_type": "stream",
     "text": [
      "enter number: 127449\n"
     ]
    },
    {
     "name": "stdout",
     "output_type": "stream",
     "text": [
      "Square root of 127449: 357\n"
     ]
    }
   ],
   "source": [
    "#calculates square  root  using for loop\n",
    "\n",
    "sqrt=0\n",
    "n=int(input(\"enter number:\"))\n",
    "num=n\n",
    "for i in range(1,n,2):\n",
    "    if n>0:\n",
    "        n=n-i\n",
    "        sqrt+=1\n",
    "    else:\n",
    "        break\n",
    "print(f\"Square root of {num}: {sqrt}\")"
   ]
  },
  {
   "cell_type": "code",
   "execution_count": null,
   "id": "4cd9a868",
   "metadata": {},
   "outputs": [],
   "source": []
  },
  {
   "cell_type": "code",
   "execution_count": 7,
   "id": "87f698ab",
   "metadata": {},
   "outputs": [],
   "source": [
    "#                -----STRING-----"
   ]
  },
  {
   "cell_type": "code",
   "execution_count": 10,
   "id": "1ac5faed",
   "metadata": {},
   "outputs": [],
   "source": [
    "#convert string to uppercase"
   ]
  },
  {
   "cell_type": "code",
   "execution_count": 11,
   "id": "ab5aa9c3",
   "metadata": {},
   "outputs": [],
   "source": [
    "#convert string to lowercase"
   ]
  },
  {
   "cell_type": "code",
   "execution_count": 16,
   "id": "349a9643",
   "metadata": {},
   "outputs": [],
   "source": [
    "#find a word in a string "
   ]
  },
  {
   "cell_type": "code",
   "execution_count": 17,
   "id": "17178f00",
   "metadata": {},
   "outputs": [],
   "source": [
    "#replacee a word in a string"
   ]
  },
  {
   "cell_type": "code",
   "execution_count": 18,
   "id": "1d174fda",
   "metadata": {},
   "outputs": [],
   "source": [
    "#count the occurrences of a word in a  string"
   ]
  },
  {
   "cell_type": "code",
   "execution_count": 19,
   "id": "b230db1d",
   "metadata": {},
   "outputs": [],
   "source": [
    "#find the 1st occurence of a word in a string"
   ]
  },
  {
   "cell_type": "code",
   "execution_count": 20,
   "id": "b88560f5",
   "metadata": {},
   "outputs": [],
   "source": [
    "#find the last occurence of a word in a string"
   ]
  },
  {
   "cell_type": "code",
   "execution_count": 21,
   "id": "e6b52b5f",
   "metadata": {},
   "outputs": [],
   "source": [
    "#split a string into l of words"
   ]
  },
  {
   "cell_type": "code",
   "execution_count": 22,
   "id": "cfb7739f",
   "metadata": {},
   "outputs": [],
   "source": [
    "#join a l of words in a string"
   ]
  },
  {
   "cell_type": "code",
   "execution_count": 23,
   "id": "c9ec79ab",
   "metadata": {},
   "outputs": [],
   "source": [
    "#convert a sting where words are seperated by spaces to one where words are seperated with underscores"
   ]
  },
  {
   "cell_type": "code",
   "execution_count": 24,
   "id": "2a23f390",
   "metadata": {},
   "outputs": [],
   "source": [
    "#check if a string starts with a specific word"
   ]
  },
  {
   "cell_type": "code",
   "execution_count": 25,
   "id": "6a123693",
   "metadata": {},
   "outputs": [],
   "source": [
    "#convert a string into title case"
   ]
  },
  {
   "cell_type": "code",
   "execution_count": 26,
   "id": "eb936526",
   "metadata": {},
   "outputs": [],
   "source": [
    "#find the longest word in a string"
   ]
  },
  {
   "cell_type": "code",
   "execution_count": 27,
   "id": "9420070f",
   "metadata": {},
   "outputs": [],
   "source": [
    "#find the shortest word in a string"
   ]
  },
  {
   "cell_type": "code",
   "execution_count": 28,
   "id": "3fd9faf9",
   "metadata": {},
   "outputs": [],
   "source": [
    "#reverse  the order of words in a string"
   ]
  },
  {
   "cell_type": "code",
   "execution_count": 29,
   "id": "1643e9c8",
   "metadata": {},
   "outputs": [],
   "source": [
    "#check if a string is alphanumeric or not"
   ]
  },
  {
   "cell_type": "code",
   "execution_count": 30,
   "id": "24f5a65e",
   "metadata": {},
   "outputs": [],
   "source": [
    "#extract all digitsfrom a string"
   ]
  },
  {
   "cell_type": "code",
   "execution_count": 31,
   "id": "aef55c34",
   "metadata": {},
   "outputs": [],
   "source": [
    "#extract all alphabets from a string"
   ]
  },
  {
   "cell_type": "code",
   "execution_count": 32,
   "id": "66340dca",
   "metadata": {},
   "outputs": [],
   "source": [
    "#count the number of block letters in a string"
   ]
  },
  {
   "cell_type": "code",
   "execution_count": 33,
   "id": "f246bc61",
   "metadata": {},
   "outputs": [],
   "source": [
    "#count the number of lowercase in a string "
   ]
  },
  {
   "cell_type": "code",
   "execution_count": 34,
   "id": "9d4cc77b",
   "metadata": {},
   "outputs": [],
   "source": [
    "#swap the case"
   ]
  },
  {
   "cell_type": "code",
   "execution_count": null,
   "id": "35c19cd0",
   "metadata": {},
   "outputs": [],
   "source": [
    "#check if a string is a valid email id  or not"
   ]
  }
 ],
 "metadata": {
  "kernelspec": {
   "display_name": "Python 3 (ipykernel)",
   "language": "python",
   "name": "python3"
  },
  "language_info": {
   "codemirror_mode": {
    "name": "ipython",
    "version": 3
   },
   "file_extension": ".py",
   "mimetype": "text/x-python",
   "name": "python",
   "nbconvert_exporter": "python",
   "pygments_lexer": "ipython3",
   "version": "3.11.4"
  }
 },
 "nbformat": 4,
 "nbformat_minor": 5
}
