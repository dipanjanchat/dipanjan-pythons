{
 "cells": [
  {
   "cell_type": "code",
   "execution_count": 1,
   "id": "5ea04210",
   "metadata": {
    "tags": []
   },
   "outputs": [],
   "source": [
    "# String based practiced problems:"
   ]
  },
  {
   "cell_type": "code",
   "execution_count": 2,
   "id": "5afd4cb2-7790-4092-8f6e-2d836da6bc79",
   "metadata": {
    "tags": []
   },
   "outputs": [
    {
     "name": "stdin",
     "output_type": "stream",
     "text": [
      "Enter string:  dipanjanchatterjee\n"
     ]
    },
    {
     "name": "stdout",
     "output_type": "stream",
     "text": [
      "Reversed string: eejrettahcnajnapid\n",
      "Reversed string: eejrettahcnajnapid\n"
     ]
    }
   ],
   "source": [
    "# reverse a string\n",
    "str1=str(input(\"Enter string: \"))\n",
    "rev=\"\"\n",
    "\n",
    "print(\"Reversed string:\",str1[::-1])\n",
    "# using for loop\n",
    "for i in str1:\n",
    "    rev=i+rev\n",
    "print(\"Reversed string:\", rev)"
   ]
  },
  {
   "cell_type": "code",
   "execution_count": 3,
   "id": "f74b14a4-317f-4ac0-8ae0-0b6acc9ba02d",
   "metadata": {
    "tags": []
   },
   "outputs": [
    {
     "name": "stdin",
     "output_type": "stream",
     "text": [
      "Enter string:  wasitacaroracatisaw\n"
     ]
    },
    {
     "name": "stdout",
     "output_type": "stream",
     "text": [
      "Reversed string: wasitacaroracatisaw\n",
      "The string is palindrome...\n"
     ]
    }
   ],
   "source": [
    "#if a string is palindrome or not\n",
    "\n",
    "str1=str(input(\"Enter string: \"))\n",
    "rev=str1[::-1]\n",
    "print(\"Reversed string:\", rev)\n",
    "if str1==rev:\n",
    "    print(\"The string is palindrome...\")\n",
    "else:\n",
    "    print(\"The string is nonpalindrome...\")"
   ]
  },
  {
   "cell_type": "code",
   "execution_count": 4,
   "id": "eef34bf7-2f7e-4b26-b2d7-b9bfdaa1c5c7",
   "metadata": {
    "tags": []
   },
   "outputs": [
    {
     "name": "stdin",
     "output_type": "stream",
     "text": [
      "Enter string:  in this program we are using upper() function\n"
     ]
    },
    {
     "name": "stdout",
     "output_type": "stream",
     "text": [
      "\n",
      "Capital string:  IN THIS PROGRAM WE ARE USING UPPER() FUNCTION\n"
     ]
    }
   ],
   "source": [
    "# convert a string into uppercase:\n",
    "\n",
    "str1=str(input(\"Enter string: \"))\n",
    "print(\"\\nCapital string: \",str1.upper())"
   ]
  },
  {
   "cell_type": "code",
   "execution_count": 5,
   "id": "7df95cdd-1522-43b3-9fae-ab82d1bef9b8",
   "metadata": {
    "tags": []
   },
   "outputs": [
    {
     "name": "stdin",
     "output_type": "stream",
     "text": [
      "Enter string:  IN THIS PROGRAM WE ARE USING LOWER() FUNCTION\n"
     ]
    },
    {
     "name": "stdout",
     "output_type": "stream",
     "text": [
      "\n",
      "Lower string:  in this program we are using lower() function\n"
     ]
    }
   ],
   "source": [
    "# convert a string into lowercase:\n",
    "\n",
    "str1=str(input(\"Enter string: \"))\n",
    "print(\"\\nLower string: \",str1.lower())"
   ]
  },
  {
   "cell_type": "code",
   "execution_count": 6,
   "id": "2c6b0f4a-20de-477e-bc4c-de5d8a62aca6",
   "metadata": {
    "tags": []
   },
   "outputs": [
    {
     "name": "stdin",
     "output_type": "stream",
     "text": [
      "Enter string:  In ThIs StRiNg We ArE uSiNg SwApCaSe() fUnCtIoN\n"
     ]
    },
    {
     "name": "stdout",
     "output_type": "stream",
     "text": [
      "\n",
      "After swap:  iN tHiS sTrInG wE aRe UsInG sWaPcAsE() FuNcTiOn\n"
     ]
    }
   ],
   "source": [
    "# swap the case of the string.\n",
    "\n",
    "str1=input(\"Enter string: \")\n",
    "print(\"\\nAfter swap: \",str1.swapcase())"
   ]
  },
  {
   "cell_type": "code",
   "execution_count": 7,
   "id": "446a8c57-645d-4b40-a7ac-9991782378cd",
   "metadata": {
    "tags": []
   },
   "outputs": [
    {
     "name": "stdin",
     "output_type": "stream",
     "text": [
      "Enter string:  this is a string where we are trying to find VOWELS.\n"
     ]
    },
    {
     "name": "stdout",
     "output_type": "stream",
     "text": [
      "total vowels: 14\n"
     ]
    }
   ],
   "source": [
    "# count the number of vowels in a string:\n",
    "\n",
    "str1=str(input(\"Enter string: \"))\n",
    "c=0\n",
    "for i in str1:\n",
    "    if i=='a' or i=='e' or i=='i' or i=='o' or i=='u' or i=='A' or i=='E' or i=='O' or i=='I' or i=='U':\n",
    "        c+=1\n",
    "print(\"total vowels:\",c)"
   ]
  },
  {
   "cell_type": "code",
   "execution_count": 8,
   "id": "ffb6e0e6-3f7f-42fb-8a64-3e883d6f511d",
   "metadata": {
    "tags": []
   },
   "outputs": [
    {
     "name": "stdin",
     "output_type": "stream",
     "text": [
      "Enter string:  This is a sentence.A sentence consists of several words , every word is made of several letters. Letters may be vowels or consonants.\n"
     ]
    },
    {
     "name": "stdout",
     "output_type": "stream",
     "text": [
      "total consonants: 94\n"
     ]
    }
   ],
   "source": [
    "# count the number of consonants:\n",
    "\n",
    "str1=str(input(\"Enter string: \"))\n",
    "c=0\n",
    "for i in str1:\n",
    "    if i=='a' or i=='e' or i=='i' or i=='o' or i=='u' or i=='A' or i=='E' or i=='O' or i=='I' or i=='U':\n",
    "        continue\n",
    "    else:\n",
    "        c+=1\n",
    "print(\"total consonants:\",c)"
   ]
  },
  {
   "cell_type": "code",
   "execution_count": 9,
   "id": "214565c1-acef-4bab-98e3-07e9859d8230",
   "metadata": {
    "tags": []
   },
   "outputs": [
    {
     "name": "stdin",
     "output_type": "stream",
     "text": [
      "Enter string:  my name is dipanjan\n"
     ]
    },
    {
     "name": "stdout",
     "output_type": "stream",
     "text": [
      "mynameisdipanjan\n"
     ]
    }
   ],
   "source": [
    "# remove all white spaces from string\n",
    "\n",
    "str1=str(input(\"Enter string: \"))\n",
    "print(str1.replace(\" \",\"\"))"
   ]
  },
  {
   "cell_type": "code",
   "execution_count": 10,
   "id": "8d7f20a2-5e39-4171-8cde-6f815fc3f697",
   "metadata": {
    "tags": []
   },
   "outputs": [
    {
     "name": "stdin",
     "output_type": "stream",
     "text": [
      "Enter string:  hello sir, my name is dipanjan chatterjee. this is a string.\n"
     ]
    },
    {
     "name": "stdout",
     "output_type": "stream",
     "text": [
      "the actual length of the string:60\n"
     ]
    }
   ],
   "source": [
    "# find the length of a string\n",
    "\n",
    "s=str(input(\"Enter string: \"))\n",
    "len=0\n",
    "for i in s:\n",
    "    len+=1\n",
    "print(f\"the actual length of the string:{len}\")"
   ]
  },
  {
   "cell_type": "code",
   "execution_count": 11,
   "id": "687eb9c5-6b4a-471d-a68a-60bf906aa96f",
   "metadata": {
    "tags": []
   },
   "outputs": [
    {
     "name": "stdin",
     "output_type": "stream",
     "text": [
      "Enter string: We are Shadow Garden. We, the one who lurks in shadow , the one who hunts the shadow\n",
      "enter specific word: shadow\n"
     ]
    },
    {
     "name": "stdout",
     "output_type": "stream",
     "text": [
      "The string contains this word...\n"
     ]
    }
   ],
   "source": [
    "# if a string contains  a specific word\n",
    "\n",
    "str1=str(input(\"Enter string:\"))\n",
    "f=0\n",
    "s=str(input(\"enter specific word:\"))\n",
    "for i in str1:\n",
    "    if s in str1:\n",
    "        f=1\n",
    "if f==1:\n",
    "    print(\"The string contains this word...\")\n",
    "else:\n",
    "    print(\"sorry boss!!! not  found...\")"
   ]
  },
  {
   "cell_type": "code",
   "execution_count": 1,
   "id": "a52194be-1557-4c7b-be43-b9b38354fa24",
   "metadata": {
    "tags": []
   },
   "outputs": [
    {
     "name": "stdin",
     "output_type": "stream",
     "text": [
      "Enter string: Hello sir , this is my code where I'll perform replace function 2nd time. sir hope you'll find this replace() function very cool...\n",
      "Enter the word : sir\n",
      "Replaced with: Ratul sir\n"
     ]
    },
    {
     "name": "stdout",
     "output_type": "stream",
     "text": [
      "\n",
      "Replaced string: Hello Ratul sir , this is my code where I'll perform replace function 2nd time. Ratul sir hope you'll find this replace() function very cool...\n"
     ]
    }
   ],
   "source": [
    "# replace a word of a string with another\n",
    "\n",
    "str1=str(input(\"Enter string:\"))\n",
    "old=str(input(\"Enter the word :\"))\n",
    "new=str(input(\"Replaced with:\"))\n",
    "print(\"\\nReplaced string:\",str1.replace(old,new))"
   ]
  },
  {
   "cell_type": "code",
   "execution_count": 3,
   "id": "8c9dc1f1-2241-4e6c-8405-53f14bfec145",
   "metadata": {
    "tags": []
   },
   "outputs": [
    {
     "name": "stdin",
     "output_type": "stream",
     "text": [
      "Enter string:  this is a string where i use find fuction . find function always finds the first occurence of a word.\n",
      "enter specific word:  find\n"
     ]
    },
    {
     "name": "stdout",
     "output_type": "stream",
     "text": [
      "position of find at 1st occurence:  29\n"
     ]
    }
   ],
   "source": [
    "# find the first occurence of the string\n",
    "\n",
    "str1=str(input(\"Enter string: \"))\n",
    "s=str(input(\"enter specific word: \"))\n",
    "print(f\"position of {s} at 1st occurence: \",str1.find(s))"
   ]
  },
  {
   "cell_type": "code",
   "execution_count": 4,
   "id": "5be49c4e-a8f7-4e0f-a41b-aa1abce5fd30",
   "metadata": {
    "tags": []
   },
   "outputs": [
    {
     "name": "stdin",
     "output_type": "stream",
     "text": [
      "Enter string:  this is a string where i use rfind fuction . rfind function always finds the last occurence of a word.\n",
      "enter specific word:  rfind\n"
     ]
    },
    {
     "name": "stdout",
     "output_type": "stream",
     "text": [
      "position of rfind at last occurence:  45\n"
     ]
    }
   ],
   "source": [
    "# find the last occurence of the string\n",
    "\n",
    "str1=str(input(\"Enter string: \"))\n",
    "s=str(input(\"enter specific word: \"))\n",
    "print(f\"position of {s} at last occurence: \",str1.rfind(s))"
   ]
  },
  {
   "cell_type": "code",
   "execution_count": 5,
   "id": "3adaf4f4-5ed5-42e9-a88a-a71389decffb",
   "metadata": {
    "tags": []
   },
   "outputs": [
    {
     "name": "stdin",
     "output_type": "stream",
     "text": [
      "Enter string:  this is a string\n"
     ]
    },
    {
     "name": "stdout",
     "output_type": "stream",
     "text": [
      "['this', 'is', 'a', 'string']\n"
     ]
    }
   ],
   "source": [
    "# split a string into a list of words\n",
    "\n",
    "str1=str(input(\"Enter string: \"))\n",
    "print(str1.split(\" \"))"
   ]
  },
  {
   "cell_type": "code",
   "execution_count": 6,
   "id": "5ef633ae-2ead-494e-97aa-b779a8846a88",
   "metadata": {
    "tags": []
   },
   "outputs": [
    {
     "name": "stdin",
     "output_type": "stream",
     "text": [
      "list elements: \"I\", \"Am\", \"Atomic\"\n"
     ]
    },
    {
     "name": "stdout",
     "output_type": "stream",
     "text": [
      "joined list: I Am Atomic\n"
     ]
    }
   ],
   "source": [
    "# join a list of words as a string\n",
    "list=eval(input(\"list elements:\"))\n",
    "seperator=' '\n",
    "print(\"joined list:\", seperator.join(list))"
   ]
  },
  {
   "cell_type": "code",
   "execution_count": 7,
   "id": "02cf87c3-325c-45b7-8077-71b7b8fa0642",
   "metadata": {
    "tags": []
   },
   "outputs": [
    {
     "name": "stdin",
     "output_type": "stream",
     "text": [
      "Enter string:  hello guys, this is my string\n"
     ]
    },
    {
     "name": "stdout",
     "output_type": "stream",
     "text": [
      "hello_guys,_this_is_my_string\n"
     ]
    }
   ],
   "source": [
    "# convert a string where words are seperated with spaces to wors are seperated with underscores\n",
    "\n",
    "str1=str(input(\"Enter string: \"))\n",
    "print(str1.replace(\" \",\"_\"))"
   ]
  },
  {
   "cell_type": "code",
   "execution_count": 8,
   "id": "c6994c59-c59a-4aed-95d3-378d2d1fa32d",
   "metadata": {},
   "outputs": [
    {
     "name": "stdin",
     "output_type": "stream",
     "text": [
      "enter string:  Good morning John. Nice to meet you.\n",
      "enter phrase:  Good morning\n"
     ]
    },
    {
     "name": "stdout",
     "output_type": "stream",
     "text": [
      "\n",
      "\tIt's True\n"
     ]
    }
   ],
   "source": [
    "# check if a string starts with a particular word/phrase or not\n",
    "\n",
    "s=str(input(\"enter string: \"))\n",
    "p=str(input(\"enter phrase: \"))\n",
    "print(f\"\\n\\tIt's {s.startswith(p)}\")"
   ]
  },
  {
   "cell_type": "code",
   "execution_count": 9,
   "id": "91f05b45-8ffe-4983-9f9b-4fff6a26a2a3",
   "metadata": {},
   "outputs": [
    {
     "name": "stdin",
     "output_type": "stream",
     "text": [
      "enter string:  Works come with their consequences.\n",
      "enter phrase:  .\n"
     ]
    },
    {
     "name": "stdout",
     "output_type": "stream",
     "text": [
      "\n",
      "\tIt's True\n"
     ]
    }
   ],
   "source": [
    "# check if a string ends with a particular word/phrase or not\n",
    "\n",
    "s=str(input(\"enter string: \"))\n",
    "p=str(input(\"enter phrase: \"))\n",
    "print(f\"\\n\\tIt's {s.endswith(p)}\")"
   ]
  },
  {
   "cell_type": "code",
   "execution_count": 10,
   "id": "8bf4ed4c-793c-4432-8543-5180f67c77fe",
   "metadata": {
    "tags": []
   },
   "outputs": [
    {
     "name": "stdin",
     "output_type": "stream",
     "text": [
      "normal case: welcome tO MY NOtebook\n"
     ]
    },
    {
     "name": "stdout",
     "output_type": "stream",
     "text": [
      "title case: Welcome To My Notebook\n"
     ]
    }
   ],
   "source": [
    "# convert a string into title case\n",
    "\n",
    "s=str(input(\"normal case:\"))\n",
    "print(f\"title case: {s.title()}\")"
   ]
  },
  {
   "cell_type": "code",
   "execution_count": 11,
   "id": "74ac9761-e724-4f52-8753-560c3cb12fad",
   "metadata": {
    "tags": []
   },
   "outputs": [
    {
     "name": "stdin",
     "output_type": "stream",
     "text": [
      "enter string: hello dip. i'm dipanjan chatterjee . Currently completing my graduation from Sonarpur Mahavidyalaya as a Bsc honours student of Computer science department.\n"
     ]
    },
    {
     "name": "stdout",
     "output_type": "stream",
     "text": [
      "\n",
      "the longest word in this string is 'Mahavidyalaya' at position 86.\n"
     ]
    }
   ],
   "source": [
    "# find the longest word in a string\n",
    "\n",
    "s=str(input(\"enter string:\"))\n",
    "\n",
    "words=s.split()\n",
    "longest=max(words, key=len)\n",
    "position=s.index(longest)\n",
    "\n",
    "print(f\"\\nthe longest word in this string is '{longest}' at position {position}.\")"
   ]
  },
  {
   "cell_type": "code",
   "execution_count": 12,
   "id": "eda37601-f9de-4d96-8160-51613b44884c",
   "metadata": {
    "tags": []
   },
   "outputs": [
    {
     "name": "stdin",
     "output_type": "stream",
     "text": [
      "enter string: hello dip. i'm dipanjan chatterjee . Currently completing my graduation from Sonarpur Mahavidyalaya as a Bsc honours student of Computer science department.\n"
     ]
    },
    {
     "name": "stdout",
     "output_type": "stream",
     "text": [
      "\n",
      "the shortest word in this string is '.' at position 9.\n"
     ]
    }
   ],
   "source": [
    "# find the shortest word in a string\n",
    "\n",
    "s=str(input(\"enter string:\"))\n",
    "\n",
    "words=s.split()\n",
    "shortest=min(words,key=len)\n",
    "position=s.index(shortest)\n",
    "\n",
    "print(f\"\\nthe shortest word in this string is '{shortest}' at position {position}.\")"
   ]
  },
  {
   "cell_type": "code",
   "execution_count": 13,
   "id": "5c04ec4a-4c3a-428c-ac4d-f56fb88742e9",
   "metadata": {},
   "outputs": [
    {
     "name": "stdin",
     "output_type": "stream",
     "text": [
      "Enter string: We are Shadow Garden. We, the one who lurks in shadow , the one who hunts the shadow\n"
     ]
    },
    {
     "name": "stdout",
     "output_type": "stream",
     "text": [
      "Reversed string: shadow the hunts who one the , shadow in lurks who one the We, Garden. Shadow are We\n"
     ]
    }
   ],
   "source": [
    "# reverse the order of a string\n",
    "\n",
    "str1=str(input(\"Enter string:\"))\n",
    "rev=\"\"\n",
    "s=str1.split()\n",
    "for i in range(len(s)-1,-1,-1):\n",
    "    rev+= s[i]+' '\n",
    "print(\"Reversed string:\",rev.strip())"
   ]
  },
  {
   "cell_type": "code",
   "execution_count": 15,
   "id": "44884bd0-992d-486c-8f92-abf89291fbff",
   "metadata": {},
   "outputs": [
    {
     "name": "stdin",
     "output_type": "stream",
     "text": [
      "enter string: my age is 20 and roll is 506\n"
     ]
    },
    {
     "name": "stdout",
     "output_type": "stream",
     "text": [
      "\tThe string is alphanumeric.\n"
     ]
    }
   ],
   "source": [
    "# check if a string is alphanumeric or not\n",
    "\n",
    "s=str(input(\"enter string:\"))\n",
    "new=s.replace(\" \",\"\")\n",
    "statement=new.isalnum()\n",
    "if new.isalnum()==True:\n",
    "    print(\"\\tThe string is alphanumeric.\")\n",
    "else:\n",
    "    print(\"\\tThe string is not alphanumeric.\")"
   ]
  },
  {
   "cell_type": "code",
   "execution_count": 16,
   "id": "92a933b7-83e5-4d0c-9ef9-66113233ac72",
   "metadata": {},
   "outputs": [
    {
     "name": "stdin",
     "output_type": "stream",
     "text": [
      "enter string: my age is 20, my roll is 202, my registration no. is 514.\n"
     ]
    },
    {
     "name": "stdout",
     "output_type": "stream",
     "text": [
      "digit string: 2 0 2 0 2 5 1 4 "
     ]
    }
   ],
   "source": [
    "# extract all digits from a string\n",
    "\n",
    "s=str(input(\"enter string:\"))\n",
    "print(\"digit string:\",end=\" \")\n",
    "for i in s:\n",
    "    if i.isdigit()==True:\n",
    "        print(f\"{i}\",end=\" \")"
   ]
  },
  {
   "cell_type": "code",
   "execution_count": 17,
   "id": "7cf13b3b-93de-43cc-8087-393b671f18c7",
   "metadata": {},
   "outputs": [
    {
     "name": "stdin",
     "output_type": "stream",
     "text": [
      "enter string: 21214467235263567dds675xd5d3w5453hbn4nv4vbnvbv34gnf43788236343wbbfdgxdf78ff6cvcv\n"
     ]
    },
    {
     "name": "stdout",
     "output_type": "stream",
     "text": [
      "alphabet string: d d s x d d w h b n n v v b n v b v g n f w b b f d g x d f f f c v c v "
     ]
    }
   ],
   "source": [
    "# extract all alphabets from a string\n",
    "\n",
    "s=str(input(\"enter string:\"))\n",
    "print(\"alphabet string:\",end=\" \")\n",
    "for i in s:\n",
    "    if i.isalpha()==True:\n",
    "        print(f\"{i}\",end=\" \")"
   ]
  },
  {
   "cell_type": "code",
   "execution_count": 18,
   "id": "09eb97a1-4be0-42c1-b9c3-a47b87903faa",
   "metadata": {
    "tags": []
   },
   "outputs": [
    {
     "name": "stdin",
     "output_type": "stream",
     "text": [
      "enter string: Welcome to my Castle Mr. Harkar. Let me introduce myself , I'm Count Dracula, the owner of this castle as well as Transelvenia.\n"
     ]
    },
    {
     "name": "stdout",
     "output_type": "stream",
     "text": [
      "total number of capital letters:  9\n"
     ]
    }
   ],
   "source": [
    "# count the uppercase letters of a string\n",
    "\n",
    "s=str(input(\"enter string:\"))\n",
    "count=0\n",
    "for i in s:\n",
    "    if i.isupper()==True:\n",
    "        count+=1\n",
    "print(\"total number of capital letters: \",count)"
   ]
  },
  {
   "cell_type": "code",
   "execution_count": 19,
   "id": "ff1ee346-1f5e-451b-82bb-dcc298a57cab",
   "metadata": {
    "tags": []
   },
   "outputs": [
    {
     "name": "stdin",
     "output_type": "stream",
     "text": [
      "enter string: Welcome to my Castle Mr. Harkar. Let me introduce myself , I'm Count Dracula, the owner of this castle as well as Transelvenia.\n"
     ]
    },
    {
     "name": "stdout",
     "output_type": "stream",
     "text": [
      "total number of small letters:  90\n"
     ]
    }
   ],
   "source": [
    "# count the lowercase letters of a string\n",
    "\n",
    "s=str(input(\"enter string:\"))\n",
    "count=0\n",
    "for i in s:\n",
    "    if i.islower()==True:\n",
    "        count+=1\n",
    "print(\"total number of small letters: \",count)"
   ]
  },
  {
   "cell_type": "code",
   "execution_count": 20,
   "id": "62f19e78-48ca-43a4-abe3-a3c1ea2b2f9a",
   "metadata": {},
   "outputs": [
    {
     "name": "stdin",
     "output_type": "stream",
     "text": [
      " enter string: hello sir. this is my prog.\n",
      " enter the word to be removed:  sir\n"
     ]
    },
    {
     "name": "stdout",
     "output_type": "stream",
     "text": [
      "\n",
      " new string:  hello . this is my prog.\n"
     ]
    }
   ],
   "source": [
    "# remove a specific word from a string\n",
    "\n",
    "s=input(\" enter string:\")\n",
    "r=input(\" enter the word to be removed: \")\n",
    "print(\"\\n new string: \",s.replace(r,\"\"))"
   ]
  },
  {
   "cell_type": "code",
   "execution_count": 21,
   "id": "3365d559-3031-41f7-a505-46855b976696",
   "metadata": {},
   "outputs": [
    {
     "name": "stdin",
     "output_type": "stream",
     "text": [
      "enter email address: dipanjanmousumi45@gmail.com\n"
     ]
    },
    {
     "name": "stdout",
     "output_type": "stream",
     "text": [
      "\t the email address is valid\n"
     ]
    }
   ],
   "source": [
    "# check if a emaild id is valid or not\n",
    "\n",
    "email_id=input(\"enter email address:\")\n",
    "if email_id.endswith(\"@gmail.com\")==True:\n",
    "    print(\"\\t the email address is valid\")\n",
    "else:\n",
    "    print(\"\\t invalid email address.Please enter a valid email address\")"
   ]
  },
  {
   "cell_type": "code",
   "execution_count": 25,
   "id": "a4f00d90-a9a6-44f5-afbd-fb0f11f4f64e",
   "metadata": {},
   "outputs": [
    {
     "name": "stdin",
     "output_type": "stream",
     "text": [
      "enter email address: dipanjanmousumi45@gmail.com\n"
     ]
    },
    {
     "name": "stdout",
     "output_type": "stream",
     "text": [
      "Welcome  dipanjanmousumi\n"
     ]
    }
   ],
   "source": [
    "# extract username from a email address\n",
    "email_id=input(\"enter email address:\")\n",
    "name=\"\"\n",
    "name=email_id.replace(\"@gmail.com\",\"\").replace(\"45\",\"\")\n",
    "print(\"Welcome \", name)"
   ]
  },
  {
   "cell_type": "code",
   "execution_count": 13,
   "id": "70384117-63ea-4c4f-9b33-5523f63130d4",
   "metadata": {},
   "outputs": [
    {
     "name": "stdin",
     "output_type": "stream",
     "text": [
      "enter email address: daviwalker23@gmail.com\n"
     ]
    },
    {
     "name": "stdout",
     "output_type": "stream",
     "text": [
      "Domain name of the email address: @gmail.com\n"
     ]
    }
   ],
   "source": [
    "#extract the domain name from a email address string\n",
    "s=input(\"enter email address:\")\n",
    "print(\"Domain name of the email address:\",s[-10:])\n"
   ]
  },
  {
   "cell_type": "code",
   "execution_count": 24,
   "id": "18c05f42-d985-4d4f-96b2-b87596c4fe76",
   "metadata": {},
   "outputs": [
    {
     "name": "stdin",
     "output_type": "stream",
     "text": [
      "enter string: my  name  is  dipanjan  chatterjee\n"
     ]
    },
    {
     "name": "stdout",
     "output_type": "stream",
     "text": [
      "\n",
      "The perfect string is: my name is dipanjan chatterjee\n"
     ]
    }
   ],
   "source": [
    "# replace multiple spaces with single space in a string\n",
    "str=input(\"enter string:\")\n",
    "new=str.replace(\"  \",\" \")\n",
    "print(f\"\\nThe perfect string is: {new}\")"
   ]
  },
  {
   "cell_type": "code",
   "execution_count": 29,
   "id": "7e82f036-32e9-4281-a940-84d150f37b1f",
   "metadata": {},
   "outputs": [
    {
     "name": "stdin",
     "output_type": "stream",
     "text": [
      "enter url: https://facebook.com\n"
     ]
    },
    {
     "name": "stdout",
     "output_type": "stream",
     "text": [
      "\tClick on the url to go to the website...\n"
     ]
    }
   ],
   "source": [
    "# check if a string is a valid URL or not\n",
    "url=input(\"enter url:\")\n",
    "if (url.endswith(\".com\")==True or url.endswith(\".org\")==True or url.endswith(\".in\")==True) and (url.startswith(\"http://\")==True or url.startswith(\"https://\") or url.startswith(\"www.\")):\n",
    "    print(\"\\tClick on the url to go to the website...\")\n",
    "else:\n",
    "    print(\"\\tInvalid URL...\")"
   ]
  },
  {
   "cell_type": "code",
   "execution_count": 39,
   "id": "599f48bc-d808-4767-9268-46dde7144f1a",
   "metadata": {},
   "outputs": [
    {
     "name": "stdin",
     "output_type": "stream",
     "text": [
      "enter url: https://www.google.com\n"
     ]
    },
    {
     "name": "stdout",
     "output_type": "stream",
     "text": [
      "The url is 'https' type...\n"
     ]
    }
   ],
   "source": [
    "# extract the protocol of a url string:\n",
    "url=input(\"enter url:\")\n",
    "if (url.endswith(\".com\")==True or url.endswith(\".org\")==True or url.endswith(\".in\")==True):\n",
    "    if url.startswith(\"http://\")==True:\n",
    "        protocol=url[:4]\n",
    "    elif url.startswith(\"https://\")==True:\n",
    "        protocol=url[:5]\n",
    "    elif url.startswith(\"www.\")==True:\n",
    "        protocol=url[:3]\n",
    "    print(f\"The url is '{protocol}' type...\")\n",
    "else:\n",
    "    print(\"Invalid url...\")"
   ]
  },
  {
   "cell_type": "code",
   "execution_count": 23,
   "id": "5a4efc92-652c-47c1-b625-ff645d8445e1",
   "metadata": {
    "tags": []
   },
   "outputs": [
    {
     "name": "stdin",
     "output_type": "stream",
     "text": [
      "enter string: Hello this is Dipanjan Chatterjee\n"
     ]
    },
    {
     "name": "stdout",
     "output_type": "stream",
     "text": [
      "\n",
      " Frequency of each character are given below:\n",
      "\n",
      "h: 3\te: 4\tl: 2\tl: 2\to: 1\tt: 3\th: 3\ti: 3\ts: 2\ti: 3\ts: 2\td: 1\ti: 3\tp: 1\ta: 3\tn: 2\tj: 2\ta: 3\tn: 2\tc: 1\th: 3\ta: 3\tt: 3\tt: 3\te: 4\tr: 1\tj: 2\te: 4\te: 4\t\n",
      "\n",
      " Counter({'e': 4, 'h': 3, 't': 3, 'i': 3, 'a': 3, 'l': 2, 's': 2, 'n': 2, 'j': 2, 'o': 1, 'd': 1, 'p': 1, 'c': 1, 'r': 1})\n"
     ]
    }
   ],
   "source": [
    "# find the frequency of each character\n",
    "\n",
    "str=input(\"enter string:\")\n",
    "s=str.lower()\n",
    "s=s.replace(\" \",\"\")\n",
    "print(\"\\n Frequency of each character are given below:\\n\")\n",
    "\n",
    "for i in s:\n",
    "    print(f\"{i}: {s.count(i)}\",end=\"\\t\")\n",
    "\n",
    "# using counter\n",
    "\n",
    "from collections import Counter\n",
    "s=Counter(s)\n",
    "print(\"\\n\\n\",s)"
   ]
  },
  {
   "cell_type": "code",
   "execution_count": 49,
   "id": "c633133c-4dd5-4539-b7b8-f7b3575a7a99",
   "metadata": {
    "tags": []
   },
   "outputs": [
    {
     "name": "stdin",
     "output_type": "stream",
     "text": [
      "enter string: Glad to meet you Sir!! Can you tell me the answer of the 10th question?\n"
     ]
    },
    {
     "name": "stdout",
     "output_type": "stream",
     "text": [
      "\n",
      " Glad to meet you Sir Can you tell me the answer of the 10th question\n"
     ]
    }
   ],
   "source": [
    "# remove all punctuations from a string\n",
    "import string\n",
    "\n",
    "s=input(\"enter string:\")\n",
    "new=s.translate(str.maketrans(\"\",\"\",string.punctuation))\n",
    "print(\"\\n\",new)"
   ]
  },
  {
   "cell_type": "code",
   "execution_count": 53,
   "id": "cc304317-e6e8-459d-8c67-c8507a6b9a95",
   "metadata": {
    "tags": []
   },
   "outputs": [
    {
     "name": "stdin",
     "output_type": "stream",
     "text": [
      "enter string: hello this is dipanjan\n"
     ]
    },
    {
     "name": "stdout",
     "output_type": "stream",
     "text": [
      "'The string contains only alphabets'- It's True\n"
     ]
    }
   ],
   "source": [
    "# check if a string contains only alphabets or not\n",
    "str=input(\"enter string:\")\n",
    "s=str.replace(\" \",\"\")\n",
    "print(f\"'The string contains only alphabets'- It's {s.isalpha()}\")"
   ]
  },
  {
   "cell_type": "code",
   "execution_count": 55,
   "id": "8395ff31-dbd4-4658-9d10-043bf5524bb7",
   "metadata": {},
   "outputs": [
    {
     "name": "stdin",
     "output_type": "stream",
     "text": [
      "enter string: 4537884adeh\n"
     ]
    },
    {
     "name": "stdout",
     "output_type": "stream",
     "text": [
      "'The string contains only digits'- It's False\n"
     ]
    }
   ],
   "source": [
    "# check if a string contains only digits or not\n",
    "str=input(\"enter string:\")\n",
    "print(f\"'The string contains only digits'- It's {s.isdigit()}\")"
   ]
  },
  {
   "cell_type": "code",
   "execution_count": 10,
   "id": "955240c7-c78b-43b3-a8bc-181b85951509",
   "metadata": {
    "tags": []
   },
   "outputs": [
    {
     "name": "stdout",
     "output_type": "stream",
     "text": [
      "enter string:we are cyborgs, made by humans. We are created with AI programming...\n",
      "['w', 'e', 'a', 'r', 'e', 'c', 'y', 'b', 'o', 'r', 'g', 's', ',', 'm', 'a', 'd', 'e', 'b', 'y', 'h', 'u', 'm', 'a', 'n', 's', '.', 'W', 'e', 'a', 'r', 'e', 'c', 'r', 'e', 'a', 't', 'e', 'd', 'w', 'i', 't', 'h', 'A', 'I', 'p', 'r', 'o', 'g', 'r', 'a', 'm', 'm', 'i', 'n', 'g', '.', '.', '.']\n"
     ]
    }
   ],
   "source": [
    "# convert a string into list of characters\n",
    "str=input(\"enter string:\")\n",
    "s=str.replace(\"\",\" \").split()\n",
    "print(s)\n",
    "\n",
    "#we can use set function if we want to create a set of characters\n",
    "# s=set(str.replace(\"\",\" \"))\n",
    "# print(type(s))"
   ]
  },
  {
   "cell_type": "code",
   "execution_count": 9,
   "id": "bd2de924-cc9b-4e64-a327-5f260188adf0",
   "metadata": {},
   "outputs": [
    {
     "name": "stdin",
     "output_type": "stream",
     "text": [
      "Enter first string: listen God\n",
      "Enter second string: Silent dog\n"
     ]
    },
    {
     "name": "stdout",
     "output_type": "stream",
     "text": [
      "\tThe Strings are anagrams.\n"
     ]
    }
   ],
   "source": [
    "# check if two strings are anagrams or not\n",
    "\n",
    "str1=input(\"Enter first string:\")\n",
    "str2=input(\"Enter second string:\")\n",
    "\n",
    "str1=str1.lower()\n",
    "str2=str2.lower()\n",
    "\n",
    "if len(str1)==len(str2):\n",
    "    alph1=\"\".join(sorted(str1))\n",
    "    alph2=\"\".join(sorted(str2))\n",
    "    \n",
    "    if alph1==alph2:\n",
    "        print(\"\\tThe Strings are anagrams.\")\n",
    "    else:\n",
    "        print(\"\\tThe Strings ain't anagrams\")\n",
    "else:\n",
    "    print(\"\\tThe Strings are not equal!!\")"
   ]
  },
  {
   "cell_type": "code",
   "execution_count": 42,
   "id": "62d3e1cf-b050-431b-bb06-45bc0cea2890",
   "metadata": {},
   "outputs": [
    {
     "name": "stdin",
     "output_type": "stream",
     "text": [
      "Enter string: python python is is is is very very very cool cool language.\n"
     ]
    },
    {
     "name": "stdout",
     "output_type": "stream",
     "text": [
      "\n",
      "Frequencies of each word is given below:\n",
      "\n",
      "Counter({'is': 4, 'very': 3, 'python': 2, 'cool': 2, 'language.': 1})\n",
      "\n",
      "The most frequent(common) word is:  is\n"
     ]
    }
   ],
   "source": [
    "# Most frequent word in a string\n",
    "\n",
    "from collections import Counter\n",
    "\n",
    "str1=input(\"Enter string:\")\n",
    "freq=\"\"\n",
    "max_word=\"\"\n",
    "s=str1.split()\n",
    "print(\"\\nFrequencies of each word is given below:\\n\")\n",
    "\n",
    "freq=Counter(s)\n",
    "print(freq)\n",
    "\n",
    "max_word=max(set(s) , key=s.count)\n",
    "print(\"\\nThe most frequent(common) word is: \",max_word)"
   ]
  },
  {
   "cell_type": "code",
   "execution_count": 10,
   "id": "e466a9e4-8c5e-4f24-a690-97039fb713bc",
   "metadata": {
    "tags": []
   },
   "outputs": [],
   "source": [
    "# Find all unique words in a string"
   ]
  },
  {
   "cell_type": "code",
   "execution_count": 11,
   "id": "13284933-f0e4-4206-b309-e063c149b592",
   "metadata": {
    "tags": []
   },
   "outputs": [],
   "source": [
    "# Count the number of syllables in a string"
   ]
  },
  {
   "cell_type": "code",
   "execution_count": 8,
   "id": "638021e6-76d7-4b21-8a0b-09857d723caa",
   "metadata": {
    "tags": []
   },
   "outputs": [
    {
     "name": "stdin",
     "output_type": "stream",
     "text": [
      "enter string: hello sir !\n"
     ]
    },
    {
     "name": "stdout",
     "output_type": "stream",
     "text": [
      "The string contains some special character....\n"
     ]
    }
   ],
   "source": [
    "# Check if a string contains any special character or not\n",
    "str=input(\"enter string:\")\n",
    "s=str.replace(\" \",\"\")\n",
    "# print(str.isdigit())\n",
    "if s.isalnum()==True:\n",
    "    print(\"The string does not contain any special character....\")\n",
    "else:\n",
    "    print(\"The string contains some special character....\")"
   ]
  },
  {
   "cell_type": "code",
   "execution_count": 15,
   "id": "68713f5e-6581-41ab-a10a-b122f49224ea",
   "metadata": {
    "tags": []
   },
   "outputs": [
    {
     "name": "stdin",
     "output_type": "stream",
     "text": [
      "enter string: my name is dipanjan chatterjee\n",
      "enter position: 2\n"
     ]
    },
    {
     "name": "stdout",
     "output_type": "stream",
     "text": [
      "my name dipanjan chatterjee\n"
     ]
    }
   ],
   "source": [
    "# Remove nth word of a string\n",
    "str=input(\"enter string:\")\n",
    "n=int(input(\"enter position:\"))\n",
    "# y=int(input(\"enter the last position:\"))\n",
    "s=str.split()\n",
    "first=s[:n]\n",
    "last=s[n+1:]\n",
    "s=' '.join(first+last)\n",
    "print(s)"
   ]
  },
  {
   "cell_type": "code",
   "execution_count": 27,
   "id": "2e82474a-6bf3-4045-9a33-4243efc43068",
   "metadata": {
    "tags": []
   },
   "outputs": [
    {
     "name": "stdout",
     "output_type": "stream",
     "text": [
      "enter string:this is notebook.\n",
      "enter position:1\n",
      "enter new substring:jupyter\n",
      "this is jupyter notebook.\n"
     ]
    }
   ],
   "source": [
    "# Insert a word at nth position of a string\n",
    "str=input(\"enter string:\")\n",
    "p=int(input(\"enter position:\"))\n",
    "new=input(\"enter new substring:\")\n",
    "\n",
    "s=str.split()\n",
    "n=new.split()\n",
    "first=s[:p+1]\n",
    "last=s[p+1:]\n",
    "s=\" \".join(first+n+last)\n",
    "print(s)"
   ]
  },
  {
   "cell_type": "code",
   "execution_count": null,
   "id": "194b8bcd",
   "metadata": {},
   "outputs": [],
   "source": []
  },
  {
   "cell_type": "code",
   "execution_count": null,
   "id": "16e98a07",
   "metadata": {
    "tags": []
   },
   "outputs": [],
   "source": [
    "# List based practiced problems:"
   ]
  },
  {
   "cell_type": "code",
   "execution_count": null,
   "id": "49eda7d3",
   "metadata": {},
   "outputs": [],
   "source": []
  },
  {
   "cell_type": "code",
   "execution_count": 1,
   "id": "3e075b2a-39ea-45d6-b6e0-8a18b4561d6f",
   "metadata": {},
   "outputs": [
    {
     "name": "stdout",
     "output_type": "stream",
     "text": [
      "enter elements:1,2,3,4,5,6,7,8,9,10\n",
      "(1, 2, 3, 4, 5, 6, 7, 8, 9, 10)\n"
     ]
    }
   ],
   "source": [
    "# print 1 to 10 integers \n",
    "\n",
    "list=eval(input(\"enter elements:\"))\n",
    "print(list)"
   ]
  },
  {
   "cell_type": "code",
   "execution_count": 6,
   "id": "fd7c2a09-3b8c-432b-99d7-fffd15d1bd85",
   "metadata": {},
   "outputs": [
    {
     "name": "stdout",
     "output_type": "stream",
     "text": [
      "enter elements:12,15,23,76,\"A\",\"B\",23.67\n",
      "Length of the list (12, 15, 23, 76, 'A', 'B', 23.67) is 7\n"
     ]
    }
   ],
   "source": [
    "# find the length of a list:\n",
    "list=eval(input(\"enter elements:\"))\n",
    "count=0\n",
    "for i in list:\n",
    "    count+=1\n",
    "print(f\"Length of the list {list} is {count}\")"
   ]
  },
  {
   "cell_type": "code",
   "execution_count": 25,
   "id": "53737e72-3e59-4728-bbf0-a64ebb79eb9d",
   "metadata": {},
   "outputs": [
    {
     "name": "stdout",
     "output_type": "stream",
     "text": [
      "enter element:[23,12,'dip','anu',6.99]\n",
      "List before append: [23, 12, 'dip', 'anu', 6.99]\n",
      "enter element:dipanjan\n",
      "List after append: [23, 12, 'dip', 'anu', 6.99, 'dipanjan']\n"
     ]
    }
   ],
   "source": [
    "# append an element to the end of the list\n",
    "mylist=eval(input(\"enter element:\"))\n",
    "\n",
    "print(\"List before append:\",mylist)\n",
    "new=input(\"enter element:\")\n",
    "\n",
    "mylist.append(new)\n",
    "print(\"List after append:\",mylist)"
   ]
  },
  {
   "cell_type": "code",
   "execution_count": 26,
   "id": "6772b115-19a1-4a6d-acec-e0fccb15f541",
   "metadata": {},
   "outputs": [
    {
     "name": "stdout",
     "output_type": "stream",
     "text": [
      "enter element:[23,12,'dip','anu',6.99]\n",
      "List before insert: [23, 12, 'dip', 'anu', 6.99]\n",
      "enter element:rajib\n",
      "enter position:2\n",
      "List after insert: [23, 12, 'rajib', 'dip', 'anu', 6.99]\n"
     ]
    }
   ],
   "source": [
    "# # insert an element to a specific position of the list\n",
    "mylist=eval(input(\"enter element:\"))\n",
    "\n",
    "print(\"List before insert:\",mylist)\n",
    "new=input(\"enter element:\")\n",
    "pos=int(input(\"enter position:\"))\n",
    "mylist.insert(pos,new)\n",
    "print(\"List after insert:\",mylist)"
   ]
  },
  {
   "cell_type": "code",
   "execution_count": 29,
   "id": "6b0e5bfe-36f3-49cc-859a-a9c4439cbcfb",
   "metadata": {},
   "outputs": [
    {
     "name": "stdout",
     "output_type": "stream",
     "text": [
      "enter element:[23,12,'dip','anu',6.99,'jarvis',\"alok\"]\n",
      "List before remove: [23, 12, 'dip', 'anu', 6.99, 'jarvis', 'alok']\n",
      "enter element to remove:23\n",
      "List after remove: [12, 'dip', 'anu', 6.99, 'jarvis', 'alok']\n"
     ]
    }
   ],
   "source": [
    "# remove an element from a list by its value\n",
    "mylist=eval(input(\"enter element:\"))\n",
    "print(\"List before remove:\",mylist)\n",
    "element=eval(input(\"enter element to remove:\"))\n",
    "mylist.remove(element)\n",
    "print(\"List after remove:\",mylist)"
   ]
  },
  {
   "cell_type": "code",
   "execution_count": 37,
   "id": "d62908fa-1123-4c57-aa99-dd2359f917ac",
   "metadata": {},
   "outputs": [
    {
     "name": "stdout",
     "output_type": "stream",
     "text": [
      "enter elements:[23,12,'dip','anu',6.99,'jarvis',\"alok\"]\n",
      "List before remove: [23, 12, 'dip', 'anu', 6.99, 'jarvis', 'alok']\n",
      "enter position of the element to remove:4\n",
      "List after remove: [23, 12, 'dip', 'anu', 'jarvis', 'alok']\n"
     ]
    }
   ],
   "source": [
    "# remove an element from a list by its index\n",
    "mylist=eval(input(\"enter elements:\"))\n",
    "print(\"List before remove:\",mylist)\n",
    "pos=int(input(\"enter position of the element to remove:\"))\n",
    "mylist.pop(pos)\n",
    "print(\"List after remove:\",mylist)"
   ]
  },
  {
   "cell_type": "code",
   "execution_count": 45,
   "id": "a23f6ff6-6416-42bb-ae39-7167e1996d45",
   "metadata": {},
   "outputs": [
    {
     "name": "stdout",
     "output_type": "stream",
     "text": [
      "enter list elements:[23,12,'dip','anu',6.99,'jarvis',\"alok\",\"ajoy\",'akash']\n",
      "List:  [23, 12, 'dip', 'anu', 6.99, 'jarvis', 'alok', 'ajoy', 'akash']\n",
      "enter element:'anu'\n",
      "\n",
      "\tanu exists in the list.\n"
     ]
    }
   ],
   "source": [
    "# check if an element exists in the list\n",
    "list=eval(input(\"enter list elements:\"))\n",
    "print(\"List: \",list)\n",
    "element=eval(input(\"enter element:\"))\n",
    "if element in list:\n",
    "    print(f\"\\n\\t{element} exists in the list.\")\n",
    "else:\n",
    "    print(f\"\\n\\t{element} doesn't exist in the list.\")"
   ]
  },
  {
   "cell_type": "code",
   "execution_count": 1,
   "id": "1549d321-9c78-4cd5-9cf1-53f96420ee4e",
   "metadata": {},
   "outputs": [
    {
     "name": "stdout",
     "output_type": "stream",
     "text": [
      "enter list elements:[2,4,False,12.7,'jack','robin',4,'jack']\n",
      "enter particular element:4\n",
      "1\n"
     ]
    }
   ],
   "source": [
    "# first occurence of an element\n",
    "list=eval(input(\"enter list elements:\"))\n",
    "element=eval(input(\"enter particular element:\"))\n",
    "print(list.index(element))"
   ]
  },
  {
   "cell_type": "code",
   "execution_count": 2,
   "id": "d125dbda",
   "metadata": {},
   "outputs": [
    {
     "name": "stdout",
     "output_type": "stream",
     "text": [
      "enter list elements:[10,34,False,'adam','sid',10,35,'b',23.5,10,4,'adam',10]\n",
      "enter particular element:10\n",
      "Number of occurences of this element is  4\n"
     ]
    }
   ],
   "source": [
    "# count the number of occurences in list\n",
    "list=eval(input(\"enter list elements:\"))\n",
    "i=eval(input(\"enter particular element:\"))\n",
    "print(\"Number of occurences of this element is \",list.count(i))"
   ]
  },
  {
   "cell_type": "code",
   "execution_count": 19,
   "id": "9d599f4b",
   "metadata": {},
   "outputs": [
    {
     "name": "stdout",
     "output_type": "stream",
     "text": [
      "enter list elements:[4,5,3,8,7,6,1,0,3.9,3.88,2,10]\n",
      "Right order:  [4, 5, 3, 8, 7, 6, 1, 0, 3.9, 3.88, 2, 10]\n",
      "Reverse order:  [10, 2, 3.88, 3.9, 0, 1, 6, 7, 8, 3, 5, 4]\n"
     ]
    }
   ],
   "source": [
    "# reverse order of list\n",
    "list=eval(input(\"enter list elements:\"))\n",
    "print(\"Right order: \",list)\n",
    "list.reverse()\n",
    "print(\"Reverse order: \",list)"
   ]
  },
  {
   "cell_type": "code",
   "execution_count": 15,
   "id": "214fd79e",
   "metadata": {},
   "outputs": [
    {
     "name": "stdout",
     "output_type": "stream",
     "text": [
      "enter list elements:[4,5,3,8,7,6,1,0,3.9,3.88,2,10]\n",
      "Right order: [4, 5, 3, 8, 7, 6, 1, 0, 3.9, 3.88, 2, 10]\n",
      "Ascending order: [0, 1, 2, 3, 3.88, 3.9, 4, 5, 6, 7, 8, 10]\n"
     ]
    }
   ],
   "source": [
    "# sort a list\n",
    "list=eval(input(\"enter list elements:\"))\n",
    "\n",
    "print(\"Right order:\",list)\n",
    "list.sort()\n",
    "print(\"Ascending order:\",list)"
   ]
  },
  {
   "cell_type": "code",
   "execution_count": 22,
   "id": "63d5731f",
   "metadata": {},
   "outputs": [
    {
     "name": "stdout",
     "output_type": "stream",
     "text": [
      "enter list elements:[6.9, 5, 10.1234, 1, 16, 2, 3, 67, 34, 98]\n",
      "\n",
      "Right order:  [6.9, 5, 10.1234, 1, 16, 2, 3, 67, 34, 98]\n",
      "Descending order:  [98, 67, 34, 16, 10.1234, 6.9, 5, 3, 2, 1]\n"
     ]
    }
   ],
   "source": [
    "# sort a list in descending order\n",
    "list=eval(input(\"enter list elements:\"))\n",
    "print(\"\\nRight order: \",list)\n",
    "list.sort(reverse=True)\n",
    "print(\"Descending order: \",list)"
   ]
  },
  {
   "cell_type": "code",
   "execution_count": 4,
   "id": "b976c7c2",
   "metadata": {},
   "outputs": [
    {
     "name": "stdout",
     "output_type": "stream",
     "text": [
      "enter lower limit:1\n",
      "enter upper  limit:30\n",
      "\n",
      "List of even numbers between 1-30: [2, 4, 6, 8, 10, 12, 14, 16, 18, 20, 22, 24, 26, 28, 30]\n",
      "\n",
      "List of odd numbers between 1-30: [1, 3, 5, 7, 9, 11, 13, 15, 17, 19, 21, 23, 25, 27, 29]\n"
     ]
    }
   ],
   "source": [
    "# create a list of even and odd numbers between a range\n",
    "even_list=[]\n",
    "odd_list=[]\n",
    "l=int(input(\"enter lower limit:\"))\n",
    "u=int(input(\"enter upper  limit:\"))\n",
    "for i in range(l,u+1):\n",
    "    if i%2==0:\n",
    "        even_list.append(i)\n",
    "    else:\n",
    "        odd_list.append(i)\n",
    "        \n",
    "print(f\"\\nList of even numbers between {l}-{u}:\",even_list)\n",
    "print(f\"\\nList of odd numbers between {l}-{u}:\",odd_list)"
   ]
  },
  {
   "cell_type": "code",
   "execution_count": 6,
   "id": "ae579ee3",
   "metadata": {},
   "outputs": [
    {
     "name": "stdout",
     "output_type": "stream",
     "text": [
      "enter list elements:[2,5,7,18,21,34]\n",
      "Sum of all elements of [2, 5, 7, 18, 21, 34]= 87\n"
     ]
    }
   ],
   "source": [
    "# sum of all elements in list\n",
    "list=eval(input(\"enter list elements:\"))\n",
    "x=sum(list)\n",
    "print(f\"Sum of all elements of {list}= {x}\")"
   ]
  },
  {
   "cell_type": "code",
   "execution_count": 10,
   "id": "f606d2a4",
   "metadata": {},
   "outputs": [
    {
     "name": "stdout",
     "output_type": "stream",
     "text": [
      "enter list elements:[20,12,23.4,23.4005,1,2,18,19]\n",
      "[20, 12, 23.4, 23.4005, 1, 2, 18, 19]\n",
      "Maximum value:  23.4005\n",
      "Minimum value:  1\n"
     ]
    }
   ],
   "source": [
    "# find the maximum and minimum value:\n",
    "list=eval(input(\"enter list elements:\"))\n",
    "print(list)\n",
    "print(\"Maximum value: \",max(list))\n",
    "print(\"Minimum value: \",min(list))"
   ]
  },
  {
   "cell_type": "code",
   "execution_count": 14,
   "id": "f6f479ae",
   "metadata": {},
   "outputs": [
    {
     "name": "stdout",
     "output_type": "stream",
     "text": [
      "enter lower limit:1\n",
      "enter upper  limit:10\n",
      "List of square numbers:  [1, 4, 9, 16, 25, 36, 49, 64, 81, 100]\n"
     ]
    }
   ],
   "source": [
    "# create a list of square numbers from 1 to 10:\n",
    "l=int(input(\"enter lower limit:\"))\n",
    "u=int(input(\"enter upper  limit:\"))\n",
    "sq_list=[]\n",
    "for i in range(l,u+1):\n",
    "        sq_list.append(i**2)\n",
    "print(\"List of square numbers: \",sq_list)"
   ]
  },
  {
   "cell_type": "code",
   "execution_count": 17,
   "id": "61a4f1ba",
   "metadata": {},
   "outputs": [
    {
     "name": "stdout",
     "output_type": "stream",
     "text": [
      "enter range:10\n",
      "List:   [1, 2, 8, 6, 5, 10, 6, 8, 10, 10]\n"
     ]
    }
   ],
   "source": [
    "# create a list of random numbers:\n",
    "import random\n",
    "n=int(input(\"enter range:\"))\n",
    "list=[]\n",
    "for i in range(n):\n",
    "    list.append(random.randint(i,n))\n",
    "print(\"List:  \",list)"
   ]
  },
  {
   "cell_type": "code",
   "execution_count": 6,
   "id": "144f7759",
   "metadata": {},
   "outputs": [
    {
     "name": "stdout",
     "output_type": "stream",
     "text": [
      "enter element:[2,4,5,4,3,3,1,2,1,2.6,3,2.6,4,3,1,6]\n",
      "\n",
      "List before duplication:  [2, 4, 5, 4, 3, 3, 1, 2, 1, 2.6, 3, 2.6, 4, 3, 1, 6]\n",
      "\n",
      "List after duplication:  [2, 4, 5, 3, 1, 2.6, 6]\n",
      "List after duplication:  {1, 2, 3, 4, 5, 2.6, 6}\n"
     ]
    }
   ],
   "source": [
    "# remove duplicates from a list\n",
    "l=eval(input(\"enter element:\"))\n",
    "print(\"\\nList before duplication: \",l)\n",
    "new=[]\n",
    "for i in l:\n",
    "    if i not in new:\n",
    "        new.append(i)\n",
    "print(\"\\nList after duplication: \",new)\n",
    "print(\"List after duplication: \",set(l))       #using set"
   ]
  },
  {
   "cell_type": "code",
   "execution_count": 9,
   "id": "200f6768",
   "metadata": {},
   "outputs": [
    {
     "name": "stdout",
     "output_type": "stream",
     "text": [
      "enter elements in 1st list: [2.3,5.99,'dipanjan','akash','john','imran',34,89.67585]\n",
      "enter elementsin 2nd list: ['dipanjan','akash',34,5.6,2,2.3]\n",
      "\n",
      " 1st list:\t[2.3, 5.99, 'dipanjan', 'akash', 'john', 'imran', 34, 89.67585]\n",
      "2nd list:\t['dipanjan', 'akash', 34, 5.6, 2, 2.3]\n",
      "\n",
      "Common element found!!! \tElement no.1: \t2.3\n",
      "Common element found!!! \tElement no.2: \tdipanjan\n",
      "Common element found!!! \tElement no.3: \takash\n",
      "Common element found!!! \tElement no.4: \t34\n"
     ]
    }
   ],
   "source": [
    "# common elements between two lists\n",
    "l1=eval(input(\"enter elements in 1st list: \"))\n",
    "l2=eval(input(\"enter elementsin 2nd list: \"))\n",
    "i=0\n",
    "j=0\n",
    "count=0\n",
    "print(f\"\\n 1st list:\\t{l1}\")\n",
    "print(f\"2nd list:\\t{l2}\\n\")\n",
    "for i in l1:\n",
    "    for j in l2:\n",
    "        if [i]==[j]:\n",
    "            count+=1\n",
    "            print(f\"Common element found!!! \\tElement no.{count}: \\t{i}\")"
   ]
  },
  {
   "cell_type": "code",
   "execution_count": 22,
   "id": "a38ec43d",
   "metadata": {},
   "outputs": [
    {
     "name": "stdout",
     "output_type": "stream",
     "text": [
      "enter elements in 1st list: [2.3,5.99,'dipanjan','akash','john','imran',34,89.67585]\n",
      "enter elements in 2nd list: ['dipanjan', 'akash', 34, 2, 2.3]\n",
      "\n",
      "1st list:\t[2.3, 5.99, 'dipanjan', 'akash', 'john', 'imran', 34, 89.67585]\n",
      "2nd list:\t['dipanjan', 'akash', 34, 2, 2.3]\n",
      "\n",
      "\n",
      "Difference between two lists:  [5.99, 'john', 'imran', 89.67585]\n"
     ]
    }
   ],
   "source": [
    "# find the difference between two lists\n",
    "l1=eval(input(\"enter elements in 1st list: \"))\n",
    "l2=eval(input(\"enter elements in 2nd list: \"))\n",
    "diff=[]\n",
    "print(f\"\\n1st list:\\t{l1}\")\n",
    "print(f\"2nd list:\\t{l2}\\n\")\n",
    "for i in l1:\n",
    "    if i not in l2 or i not in l1:\n",
    "        diff.append(i)\n",
    "print(\"\\nDifference between two lists: \",diff)"
   ]
  },
  {
   "cell_type": "code",
   "execution_count": 4,
   "id": "df964933",
   "metadata": {},
   "outputs": [
    {
     "name": "stdout",
     "output_type": "stream",
     "text": [
      "enter elements in 1st list: [3,5,7,10,'b',8,9,11.88]\n",
      "enter elements in 2nd list: [11.88,'x','y',False,9,11,67,10]\n",
      "\n",
      "Merged list in ordinary way:  [3, 5, 7, 10, 'b', 8, 9, 11.88, 11.88, 'x', 'y', False, 9, 11, 67, 10]\n",
      "Merged list using extend:  [3, 5, 7, 10, 'b', 8, 9, 11.88, 11.88, 'x', 'y', False, 9, 11, 67, 10]\n"
     ]
    }
   ],
   "source": [
    "# merge two list\n",
    "l1=eval(input(\"enter elements in 1st list: \"))\n",
    "l2=eval(input(\"enter elements in 2nd list: \"))\n",
    "print(\"\\nMerged list in ordinary way: \",l1+l2)\n",
    "l1.extend(l2)\n",
    "print(\"Merged list using extend: \",l1)\n",
    "#for i in l2:\n",
    "        #temp.append(i)\n",
    "#print(\"Merged list in loop way: \",temp)\n"
   ]
  },
  {
   "cell_type": "code",
   "execution_count": 6,
   "id": "013f7f2b",
   "metadata": {},
   "outputs": [
    {
     "name": "stdout",
     "output_type": "stream",
     "text": [
      "enter elements:[23,12,34,43,23,19.876]\n",
      "Old list:  [23, 12, 34, 43, 23, 19.876]\n",
      "Multiplied list:  [46, 24, 68, 86, 46, 39.752]\n"
     ]
    }
   ],
   "source": [
    "# multiply all elements in a list with 2\n",
    "l=eval(input(\"enter elements:\"))\n",
    "mul=[]\n",
    "for i in l:\n",
    "    mul.append(i*2)\n",
    "print(\"Old list: \",l)\n",
    "print(\"Multiplied list: \",mul)"
   ]
  },
  {
   "cell_type": "code",
   "execution_count": 9,
   "id": "91ce0160",
   "metadata": {},
   "outputs": [
    {
     "name": "stdout",
     "output_type": "stream",
     "text": [
      "enter element:[2,4,5,6,7,9,11,22,12,10,6.072,6.011]\n",
      "\n",
      "total list:  [2, 4, 5, 6, 7, 9, 11, 22, 12, 10, 6.072, 6.011]\n",
      "list containing even numbers:  [2, 4, 6, 22, 12, 10]\n"
     ]
    }
   ],
   "source": [
    "# filter out all even numbers in a list\n",
    "l=eval(input(\"enter element:\"))\n",
    "e=[]\n",
    "for i in l:\n",
    "    if i%2==0:\n",
    "        e.append(i)\n",
    "    else:\n",
    "        continue\n",
    "print(\"\\ntotal list: \",l)\n",
    "print(\"list containing even numbers: \",e)"
   ]
  },
  {
   "cell_type": "code",
   "execution_count": 8,
   "id": "05b0e3ef",
   "metadata": {},
   "outputs": [
    {
     "name": "stdout",
     "output_type": "stream",
     "text": [
      "enter elements:[10,20,30,40,50]\n",
      "List of integers:\t [10, 20, 30, 40, 50]\n",
      "List of strings:\t ['10', '20', '30', '40', '50']\n"
     ]
    }
   ],
   "source": [
    "# convert a list into a list of integers to list of strings\n",
    "list_int=eval(input(\"enter elements:\"))\n",
    "print(\"List of integers:\\t\",list_int)\n",
    "list_string=[str(i) for i in list_int]\n",
    "print(\"List of strings:\\t\",list_string)"
   ]
  },
  {
   "cell_type": "code",
   "execution_count": 13,
   "id": "1af08e79",
   "metadata": {},
   "outputs": [
    {
     "name": "stdout",
     "output_type": "stream",
     "text": [
      "enter elements:['20', '40', '60', '80', '100']\n",
      "List of strings:\t ['20', '40', '60', '80', '100']\n",
      "List of integers:\t [20, 40, 60, 80, 100]\n"
     ]
    }
   ],
   "source": [
    "# convert a list into a list of strings to list of integers\n",
    "list_str=eval(input(\"enter elements:\"))\n",
    "print(\"List of strings:\\t\",list_str)\n",
    "list_int=[int(i) for i in list_str]\n",
    "print(\"List of integers:\\t\",list_int)"
   ]
  },
  {
   "cell_type": "code",
   "execution_count": 15,
   "id": "2a1c46af",
   "metadata": {},
   "outputs": [
    {
     "name": "stdout",
     "output_type": "stream",
     "text": [
      "enter elements:[[10, 20], [23.45, 32.111], [1.2345, 4.6789], [True, False], ['dipanjan', 'dip']]\n",
      "\n",
      "Original list:  [[10, 20], [23.45, 32.111], [1.2345, 4.6789], [True, False], ['dipanjan', 'dip']]\n",
      "Flatten list:  [10, 20, 23.45, 32.111, 1.2345, 4.6789, True, False, 'dipanjan', 'dip']\n"
     ]
    }
   ],
   "source": [
    "list=eval(input(\"enter elements:\"))\n",
    "flat_list=[]\n",
    "for sublist in list:\n",
    "    for i in sublist:\n",
    "        flat_list.append(i)\n",
    "print(\"\\nOriginal list: \",list)\n",
    "print(\"Flatten list: \",flat_list)"
   ]
  },
  {
   "cell_type": "code",
   "execution_count": 3,
   "id": "4459487e",
   "metadata": {},
   "outputs": [
    {
     "name": "stdout",
     "output_type": "stream",
     "text": [
      "enter number of terms: 10\n",
      "Fibonacci terms are:\n",
      "\n",
      "0 1 1 2 3 5 8 13 21 34 55 89 "
     ]
    }
   ],
   "source": [
    "#create a list of first 10 Fibonacci numbers:\n",
    "n=int(input(\"enter number of terms: \"))\n",
    "a,b=0,1\n",
    "fibo=0\n",
    "i=0\n",
    "\n",
    "print(\"Fibonacci terms are:\\n\")\n",
    "if(n>0):\n",
    "    print(a,b,end=' ')\n",
    "    for i in range(n):\n",
    "        fibo=a+b\n",
    "        print(fibo,end=' ')\n",
    "        a,b=b,fibo\n",
    "else:\n",
    "    (\"Fibonacci term is:\",a)"
   ]
  },
  {
   "cell_type": "code",
   "execution_count": 30,
   "id": "9ad2f83c",
   "metadata": {},
   "outputs": [
    {
     "name": "stdout",
     "output_type": "stream",
     "text": [
      "enter list elements: [1, 2, 3, 4, 5, 7, 6, 8, 9, 10, 11]\n",
      "List:  [1, 2, 3, 4, 5, 7, 6, 8, 9, 10, 11]\n",
      "The List is not sorted...\n"
     ]
    }
   ],
   "source": [
    "# check if a l is sorted or not:\n",
    "l=eval(input(\"enter list elements: \"))\n",
    "flag=0\n",
    "for i in range(len(l)-1):\n",
    "    if l[i] < l[i+1]:\n",
    "        flag=1\n",
    "    else:\n",
    "        flag=0\n",
    "        break\n",
    "print(\"List: \",l)\n",
    "if flag==1:\n",
    "    print(\"the List is sorted\")\n",
    "else:\n",
    "    print(\"The List is not sorted...\")"
   ]
  },
  {
   "cell_type": "code",
   "execution_count": 38,
   "id": "7087d06c",
   "metadata": {},
   "outputs": [
    {
     "name": "stdout",
     "output_type": "stream",
     "text": [
      "enter list elements: [5, 6, 7.88, \"dipanjan\", 1, 9, \"a\", 10.2367]\n",
      "enter position from where it will be rotated: 3\n",
      "\n",
      "List before rotation:  [5, 6, 7.88, 'dipanjan', 1, 9, 'a', 10.2367]\n",
      "\n",
      "List after rotation:  ['dipanjan', 1, 9, 'a', 10.2367, 5, 6, 7.88]\n"
     ]
    }
   ],
   "source": [
    "# rotate a list to the left by n positions\n",
    "list=eval(input(\"enter list elements: \"))\n",
    "pos=int(input(\"enter position from where it will be rotated: \"))\n",
    "print(\"\\nList before rotation: \", list)\n",
    "\n",
    "newlist=list[pos:]+list[:pos]\n",
    "print(\"\\nList after rotation: \", newlist)"
   ]
  },
  {
   "cell_type": "code",
   "execution_count": 53,
   "id": "7a1cd87a",
   "metadata": {},
   "outputs": [
    {
     "name": "stdout",
     "output_type": "stream",
     "text": [
      "enter list elements: [5, 6, 7.88, \"dipanjan\", 1, 9, \"a\", 10.2367]\n",
      "enter position from where it will be rotated: 3\n",
      "\n",
      "List before rotation:  [5, 6, 7.88, 'dipanjan', 1, 9, 'a', 10.2367]\n",
      "\n",
      "List after rotation:  [9, 'a', 10.2367, 5, 6, 7.88, 'dipanjan', 1]\n"
     ]
    }
   ],
   "source": [
    "# rotate a list to the right by n positions \n",
    "list=eval(input(\"enter list elements: \"))\n",
    "pos=int(input(\"enter position from where it will be rotated: \"))\n",
    "print(\"\\nList before rotation: \", list)\n",
    "newlist=list[-pos:]+list[:-pos]\n",
    "print(\"\\nList after rotation: \", newlist)"
   ]
  },
  {
   "cell_type": "code",
   "execution_count": 7,
   "id": "ac608da4",
   "metadata": {},
   "outputs": [
    {
     "name": "stdout",
     "output_type": "stream",
     "text": [
      "enter range:50\n",
      "List of prime numbers:  [2, 3, 5, 7, 11, 13, 17, 19, 23, 29, 31, 37, 41, 43, 47]\n"
     ]
    }
   ],
   "source": [
    "#create a list of prime numbers upto 50\n",
    "list=[]\n",
    "c=0\n",
    "n=int(input(\"enter range:\"))\n",
    "for i in range(2,n):\n",
    "    for j in range(2,n):\n",
    "        if i%j==0:\n",
    "            break\n",
    "    if i==j:\n",
    "        list.append(i)\n",
    "print(\"List of prime numbers: \",list)"
   ]
  },
  {
   "cell_type": "code",
   "execution_count": 11,
   "id": "fd5f58d4",
   "metadata": {},
   "outputs": [
    {
     "name": "stdout",
     "output_type": "stream",
     "text": [
      "enter list elements: [20, 50, 48, 57, 'a', True,'y', 'w', 65.99, 33, 56]\n",
      "enter the size of the chunks: 3\n",
      "[[20, 50, 48]]\n",
      "[[20, 50, 48], [57, 'a', True]]\n",
      "[[20, 50, 48], [57, 'a', True], ['y', 'w', 65.99]]\n",
      "[[20, 50, 48], [57, 'a', True], ['y', 'w', 65.99], [33, 56]]\n",
      "\n",
      "Original list:  [20, 50, 48, 57, 'a', True, 'y', 'w', 65.99, 33, 56]\n",
      "Splitted list:  [[20, 50, 48], [57, 'a', True], ['y', 'w', 65.99], [33, 56]]\n"
     ]
    }
   ],
   "source": [
    "# split a list into the chunks of size 'n': \n",
    "split_list=[]\n",
    "list=eval(input(\"enter list elements: \"))\n",
    "n=int(input(\"enter the size of the chunks: \"))\n",
    "for i in range(0,len(list),n):\n",
    "    split_list.append(list[i:i+n])\n",
    "    print(split_list)\n",
    "print(\"\\nOriginal list: \", list)\n",
    "print(\"Splitted list: \", split_list)"
   ]
  },
  {
   "cell_type": "code",
   "execution_count": 23,
   "id": "8172fc7a",
   "metadata": {},
   "outputs": [
    {
     "name": "stdout",
     "output_type": "stream",
     "text": [
      "enter list elements: [1,3,2,4,8,11,10,9]\n",
      "10\n"
     ]
    }
   ],
   "source": [
    "# find the second largest number in a list\n",
    "list=eval(input(\"enter list elements: \"))\n",
    "list.sort()\n",
    "print(list[-2])"
   ]
  },
  {
   "cell_type": "code",
   "execution_count": 25,
   "id": "69d23f29",
   "metadata": {},
   "outputs": [
    {
     "name": "stdout",
     "output_type": "stream",
     "text": [
      "enter list elements: [1,5,13,24,22,21.67,30.444,12.04]\n",
      "List before square:  [1, 5, 13, 24, 22, 21.67, 30.444, 12.04]\n",
      "List after square:  [1, 25, 169, 576, 484, 469.5889000000001, 926.837136, 144.96159999999998]\n"
     ]
    }
   ],
   "source": [
    "# replace every elements of a list with its square\n",
    "list=eval(input(\"enter list elements: \"))\n",
    "list1=[]\n",
    "for i in list:\n",
    "    list1.append(i**2)\n",
    "print(\"List before square: \",list)\n",
    "print(\"List after square: \",list1)"
   ]
  },
  {
   "cell_type": "code",
   "execution_count": 26,
   "id": "b5ac79f9",
   "metadata": {},
   "outputs": [],
   "source": [
    "# convert a list to a dictionary where list elements become keys and indices become values: "
   ]
  },
  {
   "cell_type": "code",
   "execution_count": 29,
   "id": "6470f451",
   "metadata": {},
   "outputs": [
    {
     "name": "stdout",
     "output_type": "stream",
     "text": [
      "enter list elements: [3,5,9,10,12,6.33,12]\n",
      "\n",
      "Normal List:  [3, 5, 9, 10, 12, 6.33, 12]\n",
      "Random List:  [10, 9, 12, 6.33, 5, 3, 12]\n"
     ]
    }
   ],
   "source": [
    "# shuffle the elements of a list:\n",
    "import random\n",
    "list=eval(input(\"enter list elements: \"))\n",
    "print(\"\\nNormal List: \", list)\n",
    "random.shuffle(list)\n",
    "print(\"Random List: \",list)"
   ]
  },
  {
   "cell_type": "code",
   "execution_count": 42,
   "id": "854f833f",
   "metadata": {},
   "outputs": [
    {
     "name": "stdout",
     "output_type": "stream",
     "text": [
      "enter number of factorial elements: 10\n",
      "First 10 factorial numbers:  [1, 2, 6, 24, 120, 720, 5040, 40320, 362880, 3628800]\n"
     ]
    }
   ],
   "source": [
    "# create a list of first 10 factorial numbers:\n",
    "def fact(n):\n",
    "    if n==0:\n",
    "        return 1\n",
    "    else:\n",
    "        return n*fact(n-1)\n",
    "factlist=[]\n",
    "x=int(input(\"enter number of factorial elements: \"))\n",
    "for i in range(1,x+1):\n",
    "    factlist.append(fact(i))\n",
    "print(\"First 10 factorial numbers: \",factlist)"
   ]
  },
  {
   "cell_type": "code",
   "execution_count": 62,
   "id": "5c1f041f",
   "metadata": {},
   "outputs": [
    {
     "name": "stdout",
     "output_type": "stream",
     "text": [
      "enter first element:[1, 4.5, 6, 12, 8]\n",
      "enter second element:[3, 9, 4.5, 13, 8]\n",
      "atleast one common element present\n"
     ]
    }
   ],
   "source": [
    "# check if two lists have atleast one common element\n",
    "list1=eval(input(\"enter first element:\"))\n",
    "list2=eval(input(\"enter second element:\"))\n",
    "c=0\n",
    "for i in list1:\n",
    "    if i in list2:\n",
    "        c=1\n",
    "if c==1:\n",
    "    print(\"atleast one common element present\")\n",
    "else:\n",
    "    print(\"no common element found\")"
   ]
  },
  {
   "cell_type": "code",
   "execution_count": 68,
   "id": "f6fe578f",
   "metadata": {},
   "outputs": [
    {
     "name": "stdout",
     "output_type": "stream",
     "text": [
      "enter elements:[2, 4, 'a', 'b', 3.556]\n",
      "List:  [2, 4, 'a', 'b', 3.556]\n",
      "Remove all elements from list:  []\n"
     ]
    }
   ],
   "source": [
    "# remove all elements from a list\n",
    "list=eval(input(\"enter elements:\"))\n",
    "print(\"List: \", list)\n",
    "list.clear()\n",
    "print(\"Remove all elements from list: \",list)"
   ]
  },
  {
   "cell_type": "code",
   "execution_count": 3,
   "id": "62f65ef4",
   "metadata": {},
   "outputs": [
    {
     "name": "stdout",
     "output_type": "stream",
     "text": [
      "enter elements:[1, -3, -5, 6]\n",
      "List:  [1, -3, -5, 6]\n",
      "[1, 0, 0, 6]\n"
     ]
    }
   ],
   "source": [
    "# replace all -ve negative elements\n",
    "list=eval(input(\"enter elements:\"))\n",
    "print(\"List: \", list)\n",
    "for i in range(len(list)):\n",
    "    if list[i]<=0:\n",
    "        list[i]=0\n",
    "print(list)"
   ]
  },
  {
   "cell_type": "code",
   "execution_count": 2,
   "id": "e93ab5eb",
   "metadata": {},
   "outputs": [
    {
     "name": "stdout",
     "output_type": "stream",
     "text": [
      "enter number of elements: 8\n",
      "2^0:1\n",
      "2^1:2\n",
      "2^2:4\n",
      "2^3:8\n",
      "2^4:16\n",
      "2^5:32\n",
      "2^6:64\n",
      "2^7:128\n",
      "2^8:256\n",
      "list of first n powers of 2: [1, 2, 4, 8, 16, 32, 64, 128, 256]\n"
     ]
    }
   ],
   "source": [
    "# create a list of the first n powers of 2\n",
    "list=[]\n",
    "n=int(input(\"enter number of elements: \"))\n",
    "for i in range(n+1):\n",
    "    print(f\"2^{i}:{2**i}\")\n",
    "    list.append(2**i)\n",
    "print(\"list of first n powers of 2:\",list)"
   ]
  },
  {
   "cell_type": "code",
   "execution_count": 23,
   "id": "41b381d2",
   "metadata": {},
   "outputs": [
    {
     "name": "stdout",
     "output_type": "stream",
     "text": [
      "enter elements: [1,3,'dip','jack',6.89,False,'dipanjan', 'rwitobroto','ultron']\n",
      "rwitobroto\n"
     ]
    }
   ],
   "source": [
    "# find longest string element in a list\n",
    "list=eval(input(\"enter elements: \"))\n",
    "strlist=[]\n",
    "for i in range(len(list)):\n",
    "    if type(list[i])==str:\n",
    "        strlist.append(list[i])\n",
    "maxstr=max(strlist, key=len)\n",
    "print(maxstr)"
   ]
  },
  {
   "cell_type": "code",
   "execution_count": 24,
   "id": "704073f6",
   "metadata": {},
   "outputs": [
    {
     "name": "stdout",
     "output_type": "stream",
     "text": [
      "enter elements: [1,3,'dip','jack',6.89,False,'dipanjan', 'rwitobroto','ultron']\n",
      "dip\n"
     ]
    }
   ],
   "source": [
    "# find shortest string element in a list\n",
    "list=eval(input(\"enter elements: \"))\n",
    "strlist=[]\n",
    "for i in range(len(list)):\n",
    "    if type(list[i])==str:\n",
    "        strlist.append(list[i])\n",
    "minstr=min(strlist, key=len)\n",
    "print(minstr)"
   ]
  },
  {
   "cell_type": "code",
   "execution_count": 34,
   "id": "ac5f6002",
   "metadata": {},
   "outputs": [
    {
     "name": "stdout",
     "output_type": "stream",
     "text": [
      "enter elements: [1,3,'dip','jack',6.89,False,'dipanjan', 'rwitobroto','ultron']\n",
      "List before swap:  [1, 3, 'dip', 'jack', 6.89, False, 'dipanjan', 'rwitobroto', 'ultron']\n",
      "enter 1st element position:2\n",
      "enter 2nd element position:5\n",
      "List after swap:  [1, 3, False, 'jack', 6.89, 'dip', 'dipanjan', 'rwitobroto', 'ultron']\n"
     ]
    }
   ],
   "source": [
    "# swap two elements by their indices\n",
    "ls=eval(input(\"enter elements: \"))\n",
    "print(\"List before swap: \",ls)\n",
    "pos1=int(input(\"enter 1st element position:\"))\n",
    "pos2=int(input(\"enter 2nd element position:\"))\n",
    "ls[pos1],ls[pos2]=ls[pos2],ls[pos1]\n",
    "print(\"List after swap: \",ls)"
   ]
  },
  {
   "cell_type": "code",
   "execution_count": null,
   "id": "b9a39418",
   "metadata": {},
   "outputs": [],
   "source": []
  },
  {
   "cell_type": "code",
   "execution_count": 7,
   "id": "c03549b4",
   "metadata": {
    "tags": []
   },
   "outputs": [],
   "source": [
    "# Tuple based practiced problems:"
   ]
  },
  {
   "cell_type": "code",
   "execution_count": 15,
   "id": "5c1939a8-0c84-43e4-8651-7755a8abe240",
   "metadata": {
    "tags": []
   },
   "outputs": [
    {
     "name": "stdin",
     "output_type": "stream",
     "text": [
      "enter elements: 1,2,3,4,5\n"
     ]
    },
    {
     "name": "stdout",
     "output_type": "stream",
     "text": [
      "Tuple:  (1, 2, 3, 4, 5)\n"
     ]
    }
   ],
   "source": [
    "# create a tuple with integers from 1 to 5\n",
    "tup=eval(input(\"enter elements:\"))\n",
    "print(\"Tuple: \",tup)"
   ]
  },
  {
   "cell_type": "code",
   "execution_count": 16,
   "id": "617c0185",
   "metadata": {
    "tags": []
   },
   "outputs": [
    {
     "name": "stdin",
     "output_type": "stream",
     "text": [
      "enter elements: 56,23.45,'joy','surja'\n"
     ]
    },
    {
     "name": "stdout",
     "output_type": "stream",
     "text": [
      "Tuple:  (56, 23.45, 'joy', 'surja')\n",
      "3rd element of (56, 23.45, 'joy', 'surja'): joy\n"
     ]
    }
   ],
   "source": [
    "# access third element of tuple\n",
    "tup=eval(input(\"enter elements:\"))\n",
    "print(\"Tuple: \",tup)\n",
    "print(f\"3rd element of {tup}: {tup[2]}\")"
   ]
  },
  {
   "cell_type": "code",
   "execution_count": 17,
   "id": "464ba527",
   "metadata": {
    "tags": []
   },
   "outputs": [
    {
     "name": "stdin",
     "output_type": "stream",
     "text": [
      "enter elements: 34,23,11.33,1.3487,\"joe\",\"b\",False\n"
     ]
    },
    {
     "name": "stdout",
     "output_type": "stream",
     "text": [
      "Tuple:  (34, 23, 11.33, 1.3487, 'joe', 'b', False)\n",
      "Length of the tuple:  7\n"
     ]
    }
   ],
   "source": [
    "# find the length  of tuple\n",
    "tup=eval(input(\"enter elements:\"))\n",
    "print(\"Tuple: \",tup)\n",
    "print(\"Length of the tuple: \",len(tup))"
   ]
  },
  {
   "cell_type": "code",
   "execution_count": 19,
   "id": "7eb37eab",
   "metadata": {
    "tags": []
   },
   "outputs": [
    {
     "name": "stdin",
     "output_type": "stream",
     "text": [
      "enter elements: (45, 12, 'a', 'b', 'a', 12, 13, 5, 6, 12)\n"
     ]
    },
    {
     "name": "stdout",
     "output_type": "stream",
     "text": [
      "Tuple:  (45, 12, 'a', 'b', 'a', 12, 13, 5, 6, 12)\n"
     ]
    },
    {
     "name": "stdin",
     "output_type": "stream",
     "text": [
      "enter element:  12\n"
     ]
    },
    {
     "name": "stdout",
     "output_type": "stream",
     "text": [
      "Occurence of 12 in the tuple= 3\n"
     ]
    }
   ],
   "source": [
    "# count the  occurences of an element in a tuple\n",
    "tup=eval(input(\"enter elements:\"))\n",
    "print(\"Tuple: \",tup)\n",
    "w=eval(input(\"enter element: \"))\n",
    "print(f\"Occurence of {w} in the tuple= {tup.count(w)}\")"
   ]
  },
  {
   "cell_type": "code",
   "execution_count": 21,
   "id": "476bfc16",
   "metadata": {
    "tags": []
   },
   "outputs": [
    {
     "name": "stdin",
     "output_type": "stream",
     "text": [
      "enter elements: (45, 12, 'a', 'b', 'a', 12, 13, 5, 6, 12)\n",
      "enter element:  'a'\n"
     ]
    },
    {
     "name": "stdout",
     "output_type": "stream",
     "text": [
      "Tuple:  (45, 12, 'a', 'b', 'a', 12, 13, 5, 6, 12)\n",
      "Index of first occurence of a in the tuple= 2\n"
     ]
    }
   ],
   "source": [
    "# find the index of the first  occurence of an element in tuple\n",
    "tup=eval(input(\"enter elements:\"))\n",
    "w=eval(input(\"enter element: \"))\n",
    "print(\"Tuple: \",tup)\n",
    "print(f\"Index of first occurence of {w} in the tuple= {tup.index(w)}\")"
   ]
  },
  {
   "cell_type": "code",
   "execution_count": 23,
   "id": "1418f6e9",
   "metadata": {
    "tags": []
   },
   "outputs": [
    {
     "name": "stdin",
     "output_type": "stream",
     "text": [
      "enter elements: ('john', 65.78, 'Elon', 'Mark', 13, 5.6789, 1, 5, 'union')\n"
     ]
    },
    {
     "name": "stdout",
     "output_type": "stream",
     "text": [
      "Tuple:  ('john', 65.78, 'Elon', 'Mark', 13, 5.6789, 1, 5, 'union')\n"
     ]
    },
    {
     "name": "stdin",
     "output_type": "stream",
     "text": [
      "enter element: 'Elon'\n"
     ]
    },
    {
     "name": "stdout",
     "output_type": "stream",
     "text": [
      "\n",
      "\tElon exists in the tuple.\n"
     ]
    }
   ],
   "source": [
    "# check if an element exists in a  tuple\n",
    "tup=eval(input(\"enter elements:\"))\n",
    "print(\"Tuple: \",tup)\n",
    "element=eval(input(\"enter element:\"))\n",
    "if element in tup:\n",
    "    print(f\"\\n\\t{element} exists in the tuple.\")\n",
    "else:\n",
    "    print(f\"\\n\\t{element} doesn't exist in the tuple.\")"
   ]
  },
  {
   "cell_type": "code",
   "execution_count": 25,
   "id": "38e67713",
   "metadata": {
    "tags": []
   },
   "outputs": [
    {
     "name": "stdin",
     "output_type": "stream",
     "text": [
      "enter elements: ('john', 65.78, 'Elon', 'Mark', 13, 5.6789, 1, 5, 'union')\n"
     ]
    },
    {
     "name": "stdout",
     "output_type": "stream",
     "text": [
      "Tuple:  ('john', 65.78, 'Elon', 'Mark', 13, 5.6789, 1, 5, 'union')\n",
      "<class 'tuple'>\n",
      "List:  ['john', 65.78, 'Elon', 'Mark', 13, 5.6789, 1, 5, 'union']\n",
      "<class 'list'>\n"
     ]
    }
   ],
   "source": [
    "# convert a tuple in a list\n",
    "tup=eval(input(\"enter elements:\"))\n",
    "print(\"Tuple: \",tup)\n",
    "print(type(tup))\n",
    "l=list(tup)\n",
    "print(\"List: \",l)\n",
    "print(type(l))"
   ]
  },
  {
   "cell_type": "code",
   "execution_count": 28,
   "id": "44e32fd8",
   "metadata": {
    "tags": []
   },
   "outputs": [
    {
     "name": "stdin",
     "output_type": "stream",
     "text": [
      "enter elements: ['john', 65.78, 'Elon', 'Mark', 13, 5.6789, 1, 5, 'union']\n"
     ]
    },
    {
     "name": "stdout",
     "output_type": "stream",
     "text": [
      "List:  ['john', 65.78, 'Elon', 'Mark', 13, 5.6789, 1, 5, 'union']\n",
      "<class 'list'>\n",
      "Tuple:  ('john', 65.78, 'Elon', 'Mark', 13, 5.6789, 1, 5, 'union')\n",
      "<class 'tuple'>\n"
     ]
    }
   ],
   "source": [
    "# convert a list into tuple\n",
    "l=eval(input(\"enter elements:\"))\n",
    "print(\"List: \",l)\n",
    "print(type(l))\n",
    "tup=tuple(l)\n",
    "print(\"Tuple: \",tup)\n",
    "print(type(tup))"
   ]
  },
  {
   "cell_type": "code",
   "execution_count": 34,
   "id": "6485006e",
   "metadata": {
    "tags": []
   },
   "outputs": [
    {
     "name": "stdin",
     "output_type": "stream",
     "text": [
      "enter elements: (23,45,'queen','joker','spade','clover','king','heart','diamond',13.567,True)\n"
     ]
    },
    {
     "name": "stdout",
     "output_type": "stream",
     "text": [
      "Tuple elements before unpacking:  (23, 45, 'queen', 'joker', 'spade', 'clover', 'king', 'heart', 'diamond', 13.567, True)\n",
      "Tuple elements after unpacking:  23 45 queen joker spade clover king heart diamond 13.567 True "
     ]
    }
   ],
   "source": [
    "# unpack all elements in a tuple\n",
    "tup=eval(input(\"enter elements:\"))\n",
    "print(\"Tuple elements before unpacking: \",tup)\n",
    "print(\"Tuple elements after unpacking: \",end=' ')\n",
    "for i in  tup:\n",
    "    print(i,end=' ')"
   ]
  },
  {
   "cell_type": "code",
   "execution_count": 37,
   "id": "9a71625a",
   "metadata": {
    "tags": []
   },
   "outputs": [
    {
     "name": "stdin",
     "output_type": "stream",
     "text": [
      "enter lower limit: 1\n",
      "enter upper  limit: 10\n"
     ]
    },
    {
     "name": "stdout",
     "output_type": "stream",
     "text": [
      "\n",
      "List of even numbers between 1-10: (2, 4, 6, 8, 10)\n",
      "\n",
      "List of odd numbers between 1-10: (1, 3, 5, 7, 9)\n"
     ]
    }
   ],
   "source": [
    "# create a tuple of even numbers and a tuple of odd numbers from 1 to 10\n",
    "even=[]\n",
    "odd=[]\n",
    "l=int(input(\"enter lower limit:\"))\n",
    "u=int(input(\"enter upper  limit:\"))\n",
    "for i in range(l,u+1):\n",
    "    if i%2==0:\n",
    "        even.append(i)\n",
    "    else:\n",
    "        odd.append(i)\n",
    "        \n",
    "print(f\"\\nList of even numbers between {l}-{u}:\",tuple(even))\n",
    "print(f\"\\nList of odd numbers between {l}-{u}:\",tuple(odd))"
   ]
  },
  {
   "cell_type": "code",
   "execution_count": 39,
   "id": "6e9d0d6c",
   "metadata": {
    "tags": []
   },
   "outputs": [
    {
     "name": "stdin",
     "output_type": "stream",
     "text": [
      "enter elements in first tuple: -5, -4, -3, -2, -1\n",
      "enter elements in second tuple: 0, 1, 2, 3, 4, 5\n"
     ]
    },
    {
     "name": "stdout",
     "output_type": "stream",
     "text": [
      "First tuple:  (-5, -4, -3, -2, -1)\n",
      "Second tuple:   (0, 1, 2, 3, 4, 5)\n",
      "\n",
      "Concatenated Tuple:  (-5, -4, -3, -2, -1, 0, 1, 2, 3, 4, 5)\n"
     ]
    }
   ],
   "source": [
    "# concatenate two tuples\n",
    "tup1=eval(input(\"enter elements in first tuple:\"))\n",
    "tup2=eval(input(\"enter elements in second tuple:\"))\n",
    "tup3=tup1+tup2\n",
    "print(\"First tuple: \",tup1)\n",
    "print(\"Second tuple:  \",tup2)\n",
    "print(\"\\nConcatenated Tuple: \",tup3)"
   ]
  },
  {
   "cell_type": "code",
   "execution_count": 3,
   "id": "71b3bb02",
   "metadata": {
    "tags": []
   },
   "outputs": [
    {
     "name": "stdout",
     "output_type": "stream",
     "text": [
      "enter elements:6,8.9, 11.1345\n",
      "how many times should the tuple be repeated 3\n",
      "Tuple:  (6, 8.9, 11.1345, 6, 8.9, 11.1345, 6, 8.9, 11.1345)\n",
      "Tuple:  ((6, 8.9, 11.1345), (6, 8.9, 11.1345), (6, 8.9, 11.1345))\n"
     ]
    }
   ],
   "source": [
    "# repeat a tuple n times\n",
    "tup=eval(input(\"enter elements:\"))\n",
    "n=int(input(\"how many times should the tuple be repeated \"))\n",
    "tup1=tup*n\n",
    "print(\"Tuple: \",tup1)\n",
    "#repeat tuple n times as subtuples\n",
    "tup2=(tup, )*n\n",
    "print(\"Tuple: \",tup2)"
   ]
  },
  {
   "cell_type": "code",
   "execution_count": 5,
   "id": "95dcbecc",
   "metadata": {},
   "outputs": [
    {
     "name": "stdout",
     "output_type": "stream",
     "text": [
      "enter elements:()\n",
      "Tuple:  ()\n",
      "the tuple is empty...\n"
     ]
    }
   ],
   "source": [
    "#check if a tuple empty\n",
    "\n",
    "tup=eval(input(\"enter elements:\"))\n",
    "print(\"Tuple: \",tup)\n",
    "if not tup:\n",
    "    print(\"the tuple is empty...\")\n",
    "else:\n",
    "    print(\"the tuple is not empty...\")"
   ]
  },
  {
   "cell_type": "code",
   "execution_count": 8,
   "id": "ceeabef4",
   "metadata": {},
   "outputs": [
    {
     "name": "stdout",
     "output_type": "stream",
     "text": [
      "enter names:'dip','rohan','sukh','gurvir'\n",
      "enter ages:21,21,20,23\n",
      "Tuple:  (('dip', 'alex'), (12, 13), ('dip', 'rohan', 'sukh', 'gurvir'), (21, 21, 20, 23))\n"
     ]
    }
   ],
   "source": [
    "# create a nested tuple\n",
    "name=eval(input(\"enter names:\"))\n",
    "age=eval(input(\"enter ages:\"))\n",
    "tup+=((name,age))\n",
    "print(\"Tuple: \",tup)"
   ]
  },
  {
   "cell_type": "code",
   "execution_count": 3,
   "id": "1c2eae3a",
   "metadata": {},
   "outputs": [
    {
     "name": "stdout",
     "output_type": "stream",
     "text": [
      "enter elements:(10.7,('dj',23,11),6,(1,'d',56.5),5.6,(7.777,34,67),('joy','raj','g'))\n",
      "Tuple:  (10.7, ('dj', 23, 11), 6, (1, 'd', 56.5), 5.6, (7.777, 34, 67), ('joy', 'raj', 'g'))\n",
      "enter nested tuple position in tuple: 1\n",
      "First element of the nested tuple 1:  dj\n"
     ]
    }
   ],
   "source": [
    "# access first element of a nested tuple\n",
    "tup=eval(input(\"enter elements:\"))\n",
    "print(\"Tuple: \",tup)\n",
    "i=int(input(\"enter nested tuple position in tuple: \"))\n",
    "print(f\"First element of the nested tuple {i}: \",tup[i][0])"
   ]
  },
  {
   "cell_type": "code",
   "execution_count": 4,
   "id": "c3a26105",
   "metadata": {},
   "outputs": [
    {
     "name": "stdout",
     "output_type": "stream",
     "text": [
      "enter element:14,\n",
      "Tuple:  (14,)\n"
     ]
    }
   ],
   "source": [
    "# create a tuple with single element\n",
    "tup=eval(input(\"enter element:\"))\n",
    "print(\"Tuple: \",tup)"
   ]
  },
  {
   "cell_type": "code",
   "execution_count": 2,
   "id": "01e3df41",
   "metadata": {},
   "outputs": [
    {
     "name": "stdout",
     "output_type": "stream",
     "text": [
      "enter elements in first tuple:10,'a','e',11\n",
      "enter elements in second tuple:10,'w',8,12\n",
      "Tuple no.1:  (10, 'a', 'e', 11)\n",
      "Tuple no.2:  (10, 'w', 8, 12)\n",
      "Tuples are not equal...\n"
     ]
    }
   ],
   "source": [
    "#compare two tuples\n",
    "tup1=eval(input(\"enter elements in first tuple:\"))\n",
    "tup2=eval(input(\"enter elements in second tuple:\"))\n",
    "\n",
    "print(\"Tuple no.1: \",tup1)\n",
    "print(\"Tuple no.2: \",tup2)\n",
    "\n",
    "if tup1==tup2:\n",
    "    print(\"Tuples are equal...\")\n",
    "else:\n",
    "    print(\"Tuples are not equal...\")"
   ]
  },
  {
   "cell_type": "code",
   "execution_count": 9,
   "id": "7a15b893",
   "metadata": {},
   "outputs": [
    {
     "name": "stdout",
     "output_type": "stream",
     "text": [
      "enter elements: (3,'a',4,8)\n",
      "Tuple:  (3, 'a', 4, 8)\n",
      "Tuple:  ()\n"
     ]
    }
   ],
   "source": [
    "#delete a tuple\n",
    "tup=eval(input(\"enter elements: \"))\n",
    "print(\"Tuple: \",tup)\n",
    "del tup\n",
    "\n",
    "print(\"Tuple: \",())"
   ]
  },
  {
   "cell_type": "code",
   "execution_count": 11,
   "id": "da803a2a",
   "metadata": {},
   "outputs": [
    {
     "name": "stdout",
     "output_type": "stream",
     "text": [
      "enter elements: (91,23.4,5,8,0.11,'w','hello',12)\n",
      "Tuple:  (91, 23.4, 5, 8, 0.11, 'w', 'hello', 12)\n",
      "from: 2\n",
      "to: 6\n",
      "Sliced tuple:  (5, 8, 0.11, 'w')\n"
     ]
    }
   ],
   "source": [
    "# slice a tuple\n",
    "tup=eval(input(\"enter elements: \"))\n",
    "print(\"Tuple: \",tup)\n",
    "p1=int(input(\"from: \"))\n",
    "p2=int(input(\"to: \"))\n",
    "print(\"Sliced tuple: \",tup[p1:p2])"
   ]
  },
  {
   "cell_type": "code",
   "execution_count": 14,
   "id": "8ff31bf3",
   "metadata": {},
   "outputs": [
    {
     "name": "stdout",
     "output_type": "stream",
     "text": [
      "enter elements: (91, 23.4, 5, 8, 0.11, 12)\n",
      "Tuple:  (91, 23.4, 5, 8, 0.11, 12)\n",
      "Maximum value in this tuple is  91\n"
     ]
    }
   ],
   "source": [
    "# find maximum value in tuple\n",
    "tup=eval(input(\"enter elements: \"))\n",
    "print(\"Tuple: \",tup)\n",
    "print(\"Maximum value in this tuple is \",max(tup))"
   ]
  },
  {
   "cell_type": "code",
   "execution_count": 15,
   "id": "6a58cbc4",
   "metadata": {},
   "outputs": [
    {
     "name": "stdout",
     "output_type": "stream",
     "text": [
      "enter elements: (91, 23.4, 5, 8, 0.11, 12)\n",
      "Tuple:  (91, 23.4, 5, 8, 0.11, 12)\n",
      "Minimum value in the tuple is  0.11\n"
     ]
    }
   ],
   "source": [
    "# find minimum value in tuple\n",
    "tup=eval(input(\"enter elements: \"))\n",
    "print(\"Tuple: \",tup)\n",
    "print(\"Minimum value in the tuple is \",min(tup))"
   ]
  },
  {
   "cell_type": "code",
   "execution_count": 16,
   "id": "f2a8d3e5",
   "metadata": {},
   "outputs": [
    {
     "name": "stdout",
     "output_type": "stream",
     "text": [
      "enter elements in first tuple:1,2,3\n",
      "enter elements in second tuple:3.1,3.2,3.3\n",
      "Tuple no.1:  (1, 2, 3)\n",
      "Tuple no.2:  (3.1, 3.2, 3.3)\n",
      "Merged tuple:  (1, 2, 3, 3.1, 3.2, 3.3)\n"
     ]
    }
   ],
   "source": [
    "# merge two tuples\n",
    "tup1=eval(input(\"enter elements in first tuple:\"))\n",
    "tup2=eval(input(\"enter elements in second tuple:\"))\n",
    "\n",
    "print(\"Tuple no.1: \",tup1)\n",
    "print(\"Tuple no.2: \",tup2)\n",
    "\n",
    "tup3=tup1+tup2\n",
    "print(\"Merged tuple: \",tup3)"
   ]
  },
  {
   "cell_type": "code",
   "execution_count": 27,
   "id": "f2ce5fa3",
   "metadata": {},
   "outputs": [
    {
     "name": "stdout",
     "output_type": "stream",
     "text": [
      "enter elements: ((10, 20), (23.45, 32.111), (1.2345, 4.6789), (True, False), ('dipanjan', 'dip'))\n",
      "Original Tuple:  ((10, 20), (23.45, 32.111), (1.2345, 4.6789), (True, False), ('dipanjan', 'dip'))\n",
      "Flatten tuple:  (10, 20, 23.45, 32.111, 1.2345, 4.6789, True, False, 'dipanjan', 'dip')\n"
     ]
    }
   ],
   "source": [
    "#flatten a nested tuple:\n",
    "tup=eval(input(\"enter elements: \"))\n",
    "flattup=()\n",
    "print(\"Original Tuple: \",tup)\n",
    "for subtup in tup:\n",
    "    if isinstance(subtup,tuple):\n",
    "        for i in subtup:\n",
    "            flattup+=(i,)\n",
    "    else:\n",
    "        flattup+=(subtup,)\n",
    "        \n",
    "print(\"Flatten tuple: \",flattup)"
   ]
  },
  {
   "cell_type": "code",
   "execution_count": 29,
   "id": "1688cd66",
   "metadata": {},
   "outputs": [
    {
     "name": "stdout",
     "output_type": "stream",
     "text": [
      "enter string: dipanjan\n",
      "String:  dipanjan\n",
      "Tuple:  ('d', 'i', 'p', 'a', 'n', 'j', 'a', 'n')\n"
     ]
    }
   ],
   "source": [
    "# convert a string to a tuple of characters\n",
    "string=input(\"enter string: \")\n",
    "print(\"String: \",string)\n",
    "tup=tuple(string)\n",
    "print(\"Tuple: \",tup)"
   ]
  },
  {
   "cell_type": "code",
   "execution_count": 32,
   "id": "3daff6b5",
   "metadata": {},
   "outputs": [
    {
     "name": "stdout",
     "output_type": "stream",
     "text": [
      "enter elements: ('d', 'i', 'p', 'a', 'n', 'j', 'a', 'n')\n",
      "Tuple:  ('d', 'i', 'p', 'a', 'n', 'j', 'a', 'n')\n",
      "String:  dipanjan\n"
     ]
    }
   ],
   "source": [
    "# convert a tuple of characters to a string\n",
    "tup=eval(input(\"enter elements: \"))\n",
    "print(\"Tuple: \",tup)\n",
    "string=''.join(tup)\n",
    "print(\"String: \",string)"
   ]
  },
  {
   "cell_type": "code",
   "execution_count": 36,
   "id": "9b63080f",
   "metadata": {},
   "outputs": [
    {
     "name": "stdout",
     "output_type": "stream",
     "text": [
      "enter elements: ('8', '3', '4', '6', '5')\n",
      "Tuple of Strings:  ('8', '3', '4', '6', '5')\n",
      "Tuple of integers:  (8, 3, 4, 6, 5)\n"
     ]
    }
   ],
   "source": [
    "# convert a tuple of strings into a tuple of integers\n",
    "strtup=eval(input(\"enter elements: \"))\n",
    "inttup=tuple(int(i) for i in strtup)\n",
    "print(\"Tuple of Strings: \",strtup)\n",
    "print(\"Tuple of integers: \",inttup)"
   ]
  },
  {
   "cell_type": "code",
   "execution_count": 49,
   "id": "e97910aa",
   "metadata": {},
   "outputs": [
    {
     "name": "stdout",
     "output_type": "stream",
     "text": [
      "enter range: 30\n",
      "Tuple:  (2, 3, 5, 7, 11, 13, 17, 19, 23, 29)\n"
     ]
    }
   ],
   "source": [
    "# create a tuple of first 10 prime numbers\n",
    "#tup=eval(input(\"enter elements: \"))\n",
    "tup=()\n",
    "\n",
    "n=int(input(\"enter range: \"))\n",
    "for i in range(2,n+1):\n",
    "    for j in range(2,n):\n",
    "        if i%j==0:\n",
    "            break\n",
    "    if i==j:\n",
    "        tup+=(i,)\n",
    "        \n",
    "print(\"Tuple: \",tup)\n"
   ]
  },
  {
   "cell_type": "code",
   "execution_count": 11,
   "id": "d1471a30",
   "metadata": {},
   "outputs": [
    {
     "name": "stdout",
     "output_type": "stream",
     "text": [
      "enter elements: 'd','a','d'\n",
      "Tuple:  ('d', 'a', 'd')\n",
      "Reversed tuple:  ('d', 'a', 'd')\n",
      "\t The tuple is palindrome...\n"
     ]
    }
   ],
   "source": [
    "# check if a tuple is palindrome or not\n",
    "tup=eval(input(\"enter elements: \"))\n",
    "print(\"Tuple: \",tup)\n",
    "rev=tup[::-1]\n",
    "print(\"Reversed tuple: \",rev)\n",
    "if tup==rev:\n",
    "    print(\"\\t The tuple is palindrome...\")\n",
    "else:\n",
    "    print(\"\\t The tuple is nonpalindrome...\")"
   ]
  },
  {
   "cell_type": "code",
   "execution_count": 27,
   "id": "65420abd",
   "metadata": {},
   "outputs": [
    {
     "name": "stdout",
     "output_type": "stream",
     "text": [
      "Tuple:  (0, 1, 4, 9, 16, 25)\n"
     ]
    }
   ],
   "source": [
    "# create a tuple of square numers upto 5\n",
    "tup=tuple(i**2 for i in range(6))\n",
    "print(\"Tuple: \",tup)"
   ]
  },
  {
   "cell_type": "code",
   "execution_count": 31,
   "id": "e3bddb9f",
   "metadata": {},
   "outputs": [
    {
     "name": "stdout",
     "output_type": "stream",
     "text": [
      "enter elements: 19,14,16,18,9,17,35,11,20\n",
      "Tuple:  (19, 14, 16, 18, 9, 17, 35, 11, 20)\n",
      "Even tuple:  (14, 16, 18, 20)\n"
     ]
    }
   ],
   "source": [
    "# filter out all even numbers\n",
    "tup=eval(input(\"enter elements: \"))\n",
    "eventup=()\n",
    "for i in tup:\n",
    "    if i%2==0:\n",
    "        eventup+=(i, )\n",
    "print(\"Tuple: \",tup)\n",
    "print(\"Even tuple: \", eventup)"
   ]
  },
  {
   "cell_type": "code",
   "execution_count": 33,
   "id": "3f30b79b",
   "metadata": {},
   "outputs": [
    {
     "name": "stdout",
     "output_type": "stream",
     "text": [
      "enter elements: 5, 7, 18, 35, 44, 67, 79, 88, 97, 102, 201\n",
      "Tuple:  (5, 7, 18, 35, 44, 67, 79, 88, 97, 102, 201)\n",
      "Multiplied tuple:  (10, 14, 36, 70, 88, 134, 158, 176, 194, 204, 402)\n"
     ]
    }
   ],
   "source": [
    "# multiply all elements by 2\n",
    "tup=eval(input(\"enter elements: \"))\n",
    "print(\"Tuple: \",tup)\n",
    "multup=tuple(i*2 for i in tup)\n",
    "print(\"Multiplied tuple: \",multup)"
   ]
  },
  {
   "cell_type": "code",
   "execution_count": 43,
   "id": "667e8ea5",
   "metadata": {},
   "outputs": [
    {
     "name": "stdout",
     "output_type": "stream",
     "text": [
      "enter range:20\n",
      "Random Tuple:  (16, 20, 12, 18, 13, 10, 10, 14, 15, 15, 17, 20, 16, 15, 19, 15, 16, 19, 18, 20)\n"
     ]
    }
   ],
   "source": [
    "# create a tuple of random numbers\n",
    "import random\n",
    "tup=()\n",
    "n=int(input(\"enter range:\"))\n",
    "for i in range(n):\n",
    "    tup+=((random.randint(i,n)), )\n",
    "print(\"Random Tuple: \",tup)"
   ]
  },
  {
   "cell_type": "code",
   "execution_count": 51,
   "id": "76440bbc",
   "metadata": {},
   "outputs": [
    {
     "name": "stdout",
     "output_type": "stream",
     "text": [
      "enter elements: 1, 3, 5.442, 5.441, 7, 8 \n",
      "Tuple:  (1, 3, 5.442, 5.441, 7, 8)\n",
      "\t the tuple is not sorted...\n"
     ]
    }
   ],
   "source": [
    "# check if a tuple is sorted \n",
    "tup=eval(input(\"enter elements: \"))\n",
    "print(\"Tuple: \",tup)\n",
    "if tup==tuple(sorted(tup)):\n",
    "    print(\"\\t the tuple is sorted...\")\n",
    "else:\n",
    "    print(\"\\t the tuple is not sorted...\")"
   ]
  },
  {
   "cell_type": "code",
   "execution_count": 54,
   "id": "a1d9c49e",
   "metadata": {},
   "outputs": [
    {
     "name": "stdout",
     "output_type": "stream",
     "text": [
      "enter elements: ( 5, 6, 7.88, \"dipanjan\", 1, 9, \"a\", 10.2367 )\n",
      "enter position from where it will be rotated: 3\n",
      "\n",
      "Tuple before rotation:  (5, 6, 7.88, 'dipanjan', 1, 9, 'a', 10.2367)\n",
      "\n",
      "Tuple after rotation:  ('dipanjan', 1, 9, 'a', 10.2367, 5, 6, 7.88)\n"
     ]
    }
   ],
   "source": [
    "# rotate a tuple from nth position by left\n",
    "tup=eval(input(\"enter elements: \"))\n",
    "pos=int(input(\"enter position from where it will be rotated: \"))\n",
    "print(\"\\nTuple before rotation: \", tup)\n",
    "newtup=tup[pos:]+tup[:pos]\n",
    "print(\"\\nTuple after rotation: \", newtup)"
   ]
  },
  {
   "cell_type": "code",
   "execution_count": 55,
   "id": "fb9b8fc1",
   "metadata": {},
   "outputs": [
    {
     "name": "stdout",
     "output_type": "stream",
     "text": [
      "enter elements: 5, 6, 7.88, \"dipanjan\", 1, 9, \"a\", 10.2367\n",
      "enter position from where it will be rotated: 3\n",
      "\n",
      "tup before rotation:  (5, 6, 7.88, 'dipanjan', 1, 9, 'a', 10.2367)\n",
      "\n",
      "tup after rotation:  (9, 'a', 10.2367, 5, 6, 7.88, 'dipanjan', 1)\n"
     ]
    }
   ],
   "source": [
    "# rotate a tuple from nth position by right\n",
    "tup=eval(input(\"enter elements: \"))\n",
    "pos=int(input(\"enter position from where it will be rotated: \"))\n",
    "print(\"\\ntup before rotation: \", tup)\n",
    "newtup=tup[-pos:]+tup[:-pos]\n",
    "print(\"\\ntup after rotation: \", newtup)"
   ]
  },
  {
   "cell_type": "code",
   "execution_count": 21,
   "id": "d1709987",
   "metadata": {},
   "outputs": [
    {
     "name": "stdout",
     "output_type": "stream",
     "text": [
      "enter number of terms: 15\n",
      "Fibonacci terms are:\n",
      "\n",
      "0 1 1 2 3 5 8 13 21 34 55 89 144 233 377 610 987 "
     ]
    }
   ],
   "source": [
    "# create a tuple of first 5 fibonacci\n",
    "n=int(input(\"enter number of terms: \"))\n",
    "tup=()\n",
    "a,b=0,1\n",
    "fibo=0\n",
    "i=0\n",
    "\n",
    "print(\"Fibonacci terms are:\\n\")\n",
    "if(n>0):\n",
    "    print(a,b,end=' ')\n",
    "    for i in range(n):\n",
    "        fibo=a+b\n",
    "        print(fibo,end=' ')\n",
    "        a,b=b,fibo\n",
    "else:\n",
    "    (\"Fibonacci term is:\",a)"
   ]
  },
  {
   "cell_type": "code",
   "execution_count": 32,
   "id": "be48a74c",
   "metadata": {},
   "outputs": [
    {
     "name": "stdout",
     "output_type": "stream",
     "text": [
      "enter elements: 7, 1, 4.6, 8.9, 3.1143, 'a', 11.32\n",
      "Tuple before swap:  (7, 1, 4.6, 8.9, 3.1143, 'a', 11.32)\n",
      "enter 1st element position:2\n",
      "enter 2nd element position:4\n",
      "Tuple after swap:  (7, 1, 3.1143, 8.9, 4.6, 'a', 11.32)\n"
     ]
    }
   ],
   "source": [
    "# swap 2 elements of tuple    \n",
    "tup=eval(input(\"enter elements: \"))\n",
    "ls=list(tup)\n",
    "print(\"Tuple before swap: \",tup)\n",
    "pos1=int(input(\"enter 1st element position:\"))\n",
    "pos2=int(input(\"enter 2nd element position:\"))\n",
    "ls[pos1],ls[pos2]=ls[pos2],ls[pos1]\n",
    "newtup=tuple(ls)\n",
    "print(\"Tuple after swap: \",newtup)"
   ]
  },
  {
   "cell_type": "code",
   "execution_count": 47,
   "id": "dffe942b",
   "metadata": {},
   "outputs": [
    {
     "name": "stdout",
     "output_type": "stream",
     "text": [
      "enter number of elements:8\n",
      "2^0 = 1\n",
      "2^1 = 2\n",
      "2^2 = 4\n",
      "2^3 = 8\n",
      "2^4 = 16\n",
      "2^5 = 32\n",
      "2^6 = 64\n",
      "2^7 = 128\n",
      "2^8 = 256\n",
      "Tuple of first n powered:  (1, 2, 4, 8, 16, 32, 64, 128, 256)\n"
     ]
    }
   ],
   "source": [
    "# create a tuple of first n powers of 2\n",
    "tup=()\n",
    "n=int(input(\"enter number of elements:\"))\n",
    "for i in range(n+1):\n",
    "    print(f\"2^{i} = {2**i}\")\n",
    "    tup+=(2**i,)\n",
    "print(\"Tuple of first n powered: \",tup)"
   ]
  },
  {
   "cell_type": "code",
   "execution_count": 50,
   "id": "c30cdb61",
   "metadata": {},
   "outputs": [
    {
     "name": "stdout",
     "output_type": "stream",
     "text": [
      "enter elements: (1,3,'dip','jack',6.89,False,'dipanjan', 'rwitobroto','ultron')\n",
      "Tuple:  (1, 3, 'dip', 'jack', 6.89, False, 'dipanjan', 'rwitobroto', 'ultron')\n",
      "\tLongest string in the tuple is rwitobroto\n",
      "\tShortest string in the list is dip\n"
     ]
    }
   ],
   "source": [
    "# find the longest and shortest string in tuple\n",
    "tup=eval(input(\"enter elements: \"))\n",
    "strtup=()\n",
    "print(\"Tuple: \",tup)\n",
    "for i in tup:\n",
    "    if type(i)==str:\n",
    "        strtup+=(i,)\n",
    "# print(strtup)\n",
    "print(f\"\\tLongest string in the tuple is {max(strtup,key=len)}\")\n",
    "print(f\"\\tShortest string in the list is {min(strtup,key=len)}\")"
   ]
  },
  {
   "cell_type": "code",
   "execution_count": 21,
   "id": "441f6d2b",
   "metadata": {},
   "outputs": [],
   "source": [
    "# create a tuple of first n triangular numbers\n",
    "tup=eval(input(\"enter elements: \"))\n",
    "print(\"Tuple: \",tup)"
   ]
  },
  {
   "cell_type": "code",
   "execution_count": 55,
   "id": "0dbb2378",
   "metadata": {},
   "outputs": [
    {
     "name": "stdout",
     "output_type": "stream",
     "text": [
      "enter elements in 1st tuple: 1,2,3,4\n",
      "enter elements in 2nd tuple: 3,4\n",
      "Tuple no.1:  (1, 2, 3, 4)\n",
      "Tuple no.2:  (3, 4)\n",
      "Does first tuple contain second tuple as its subsequence:  True\n"
     ]
    }
   ],
   "source": [
    "# check if a tuple contains another tuple as subsequence\n",
    "tup1=eval(input(\"enter elements in 1st tuple: \"))\n",
    "tup2=eval(input(\"enter elements in 2nd tuple: \"))\n",
    "print(\"Tuple no.1: \",tup1)\n",
    "print(\"Tuple no.2: \",tup2)\n",
    "\n",
    "res_tup=set(tup2).issubset(tup1)           #check if tup1 contains tup2 as its subset\n",
    "print(\"Does first tuple contain second tuple as its subsequence: \",res_tup)\n"
   ]
  },
  {
   "cell_type": "code",
   "execution_count": null,
   "id": "f1f0038c",
   "metadata": {},
   "outputs": [],
   "source": []
  },
  {
   "cell_type": "code",
   "execution_count": 1,
   "id": "d297b256",
   "metadata": {},
   "outputs": [],
   "source": [
    "# Set based practiced problems:"
   ]
  },
  {
   "cell_type": "code",
   "execution_count": null,
   "id": "239351da",
   "metadata": {},
   "outputs": [],
   "source": []
  },
  {
   "cell_type": "code",
   "execution_count": 5,
   "id": "06b952fd",
   "metadata": {},
   "outputs": [
    {
     "name": "stdout",
     "output_type": "stream",
     "text": [
      "enter numbers:1,2,3,4,5\n",
      "{1, 2, 3, 4, 5} <class 'set'>\n"
     ]
    }
   ],
   "source": [
    "# create a set of integers from 1 to 5\n",
    "s=eval(input(\"enter numbers:\"))\n",
    "s=set(s)\n",
    "print(s,type(s))"
   ]
  },
  {
   "cell_type": "code",
   "execution_count": 13,
   "id": "8ce90676",
   "metadata": {},
   "outputs": [
    {
     "name": "stdout",
     "output_type": "stream",
     "text": [
      "enter numbers:12,1.76,'dip','joy',0.76008\n",
      "enter element:3.1425\n",
      "Set:  {0.76008, 1.76, 3.1425, 'dip', 12, 'joy'}\n"
     ]
    }
   ],
   "source": [
    "# add an element to a set\n",
    "s=eval(input(\"enter numbers:\"))\n",
    "e=eval(input(\"enter element:\"))\n",
    "s=set(s)\n",
    "s.add(e)\n",
    "print(\"Set: \",s)"
   ]
  },
  {
   "cell_type": "code",
   "execution_count": 14,
   "id": "1e685cbd",
   "metadata": {},
   "outputs": [
    {
     "name": "stdout",
     "output_type": "stream",
     "text": [
      "enter elements:12,1.76,'dip','joy',0.76008\n",
      "enter element:1.76\n",
      "Set:  {0.76008, 'dip', 12, 'joy'}\n"
     ]
    }
   ],
   "source": [
    "# remove an element from a set\n",
    "s=eval(input(\"enter elements:\"))\n",
    "e=eval(input(\"enter element:\"))\n",
    "s=set(s)\n",
    "s.remove(e)\n",
    "print(\"Set: \",s)"
   ]
  },
  {
   "cell_type": "code",
   "execution_count": 17,
   "id": "03537331",
   "metadata": {},
   "outputs": [
    {
     "name": "stdout",
     "output_type": "stream",
     "text": [
      "enter elements:23,56,'ajoy',6.99,14.3335\n",
      "enter element:23\n",
      "Set:  {6.99, 14.3335, 23, 56, 'ajoy'}\n",
      "Does the element exist in the set?  True\n"
     ]
    }
   ],
   "source": [
    "# check if an element exist in a set\n",
    "s=eval(input(\"enter elements:\"))\n",
    "e=eval(input(\"enter element:\"))\n",
    "s=set(s)\n",
    "print(\"Set: \",s)\n",
    "print(\"Does the element exist in the set? \", e in s)"
   ]
  },
  {
   "cell_type": "code",
   "execution_count": 28,
   "id": "dd27f6e3",
   "metadata": {},
   "outputs": [
    {
     "name": "stdout",
     "output_type": "stream",
     "text": [
      "enter elements:4,6,10,12,True,False,11.9,2.876,'jack','yami',23\n",
      "Set:  {False, True, 2.876, 'yami', 4, 6, 10, 11.9, 12, 'jack', 23}\n",
      "Length of the set:  11\n"
     ]
    }
   ],
   "source": [
    "# find the length of a set without using len()\n",
    "s=eval(input(\"enter elements:\"))\n",
    "c=0\n",
    "for i in s:\n",
    "    c+=1\n",
    "s=set(s)\n",
    "print(\"Set: \",s)\n",
    "print(\"Length of the set: \",c)"
   ]
  },
  {
   "cell_type": "code",
   "execution_count": 29,
   "id": "1853f256",
   "metadata": {},
   "outputs": [
    {
     "name": "stdout",
     "output_type": "stream",
     "text": [
      "enter elements:{False, True, 2.876, 'yami', 4, 6, 10, 11.9, 12, 'jack', 23}\n",
      "Set:  {False, True, 2.876, 'yami', 4, 6, 10, 11.9, 12, 'jack', 23}\n",
      "Set:  set()\n"
     ]
    }
   ],
   "source": [
    "# clear all elements from set\n",
    "s=eval(input(\"enter elements:\"))\n",
    "s=set(s)\n",
    "print(\"Set: \",s)\n",
    "s.clear()\n",
    "print(\"Set: \",s)"
   ]
  },
  {
   "cell_type": "code",
   "execution_count": 92,
   "id": "df7f750a",
   "metadata": {},
   "outputs": [
    {
     "name": "stdout",
     "output_type": "stream",
     "text": [
      "enter range:10\n",
      "Even set:  {2, 4, 6, 8, 10}\n"
     ]
    }
   ],
   "source": [
    "# create a set of even numbers from 1 to 10\n",
    "even_s=set()\n",
    "n=int(input(\"enter range:\"))\n",
    "for i in range(1,n+1):\n",
    "    if i%2==0:\n",
    "        even_s.add(i)\n",
    "print(\"Even set: \",even_s)"
   ]
  },
  {
   "cell_type": "code",
   "execution_count": 96,
   "id": "c9143c51",
   "metadata": {},
   "outputs": [
    {
     "name": "stdout",
     "output_type": "stream",
     "text": [
      "enter range:10\n",
      "Odd set:  {1, 3, 5, 7, 9}\n"
     ]
    }
   ],
   "source": [
    "# create a set of odd numbers from 1 to 10\n",
    "odd_s=set()\n",
    "n=int(input(\"enter range:\"))\n",
    "for i in range(1,n+1):\n",
    "    if i%2!=0:\n",
    "        odd_s.add(i)\n",
    "print(\"Odd set: \",odd_s)"
   ]
  },
  {
   "cell_type": "code",
   "execution_count": 67,
   "id": "766a7dde",
   "metadata": {},
   "outputs": [
    {
     "name": "stdout",
     "output_type": "stream",
     "text": [
      "enter elements in 1st set:10, 20, 30, 40, 50, 60, 80, 70\n",
      "enter elements in 2nd set:1, 5, 20, 40, 60, 9, 8\n",
      "Set 1:  {70, 40, 10, 80, 50, 20, 60, 30}\n",
      "Set 2:  {1, 5, 40, 9, 8, 20, 60}\n",
      "Union set:  {1, 5, 70, 40, 9, 10, 8, 80, 50, 20, 60, 30}\n",
      "Union set:  {1, 5, 70, 40, 9, 10, 8, 80, 50, 20, 60, 30}\n"
     ]
    }
   ],
   "source": [
    "# find the union of 2 sets\n",
    "w=set()\n",
    "s=eval(input(\"enter elements in 1st set:\"))\n",
    "y=eval(input(\"enter elements in 2nd set:\"))\n",
    "y=set(y)\n",
    "s=set(s)\n",
    "print(\"Set 1: \",s)\n",
    "print(\"Set 2: \",y)\n",
    "w=s.union(y)\n",
    "print(\"Union set: \",w)\n",
    "print(\"Union set: \",s|y)"
   ]
  },
  {
   "cell_type": "code",
   "execution_count": 66,
   "id": "038931df",
   "metadata": {},
   "outputs": [
    {
     "name": "stdout",
     "output_type": "stream",
     "text": [
      "enter elements in 1st set:10, 20, 30, 40, 50, 60, 80, 70\n",
      "enter elements in 2nd set:1, 5, 20, 40, 60, 9, 8\n",
      "Set 1:  {70, 40, 10, 80, 50, 20, 60, 30}\n",
      "Set 2:  {1, 5, 40, 9, 8, 20, 60}\n",
      "Intersection set:  {40, 20, 60}\n",
      "Intersection set:  {40, 20, 60}\n"
     ]
    }
   ],
   "source": [
    "# find the intersection of 2 sets\n",
    "w=set()\n",
    "x=eval(input(\"enter elements in 1st set:\"))\n",
    "y=eval(input(\"enter elements in 2nd set:\"))\n",
    "x=set(x)\n",
    "y=set(y)\n",
    "print(\"Set 1: \",x)\n",
    "print(\"Set 2: \",y)\n",
    "w=x.intersection(y)\n",
    "print(\"Intersection set: \",w)\n",
    "print(\"Intersection set: \",x&y)"
   ]
  },
  {
   "cell_type": "code",
   "execution_count": 42,
   "id": "2f9595fc",
   "metadata": {},
   "outputs": [
    {
     "name": "stdout",
     "output_type": "stream",
     "text": [
      "enter elements in 1st set:10, 20, 30, 40, 50, 60\n",
      "enter elements in 2nd set:60, 70, 80, 50, 90, 40, 100\n",
      "Set 1:  {40, 10, 50, 20, 60, 30}\n",
      "Set 2:  {100, 70, 40, 80, 50, 90, 60}\n",
      "Difference between two sets:  {10, 20, 30}\n",
      "Difference between two sets:  {10, 20, 30}\n"
     ]
    }
   ],
   "source": [
    "# find the differences between 2 sets\n",
    "x=eval(input(\"enter elements in 1st set:\"))\n",
    "y=eval(input(\"enter elements in 2nd set:\"))\n",
    "x=set(x)\n",
    "y=set(y)\n",
    "print(\"Set 1: \",x)\n",
    "print(\"Set 2: \",y)\n",
    "print(\"Difference between two sets: \",x.difference(y))\n",
    "print(\"Difference between two sets: \",x-y)"
   ]
  },
  {
   "cell_type": "code",
   "execution_count": 44,
   "id": "8344d7e7",
   "metadata": {},
   "outputs": [
    {
     "name": "stdout",
     "output_type": "stream",
     "text": [
      "enter elements in 1st set:1,2,3,4\n",
      "enter elements in 2nd set:3,4\n",
      "Set 1:  {1, 2, 3, 4}\n",
      "Set 2:  {3, 4}\n",
      "Set 1 contains Set 2 as subset:  True\n"
     ]
    }
   ],
   "source": [
    "# check if a set is subset of another set\n",
    "x=eval(input(\"enter elements in 1st set:\"))\n",
    "y=eval(input(\"enter elements in 2nd set:\"))\n",
    "x=set(x)\n",
    "y=set(y)\n",
    "print(\"Set 1: \",x)\n",
    "print(\"Set 2: \",y)\n",
    "res=y.issubset(x)\n",
    "print(\"Set 1 contains Set 2 as subset: \",res)"
   ]
  },
  {
   "cell_type": "code",
   "execution_count": 47,
   "id": "0bbf0661",
   "metadata": {},
   "outputs": [
    {
     "name": "stdout",
     "output_type": "stream",
     "text": [
      "enter elements in 1st set:1, 2, 3, 4, 5, 6, 7\n",
      "enter elements in 2nd set:1, 5, 7, 8, 9, 2, 3, 4, 6, 10, 12, 11.9\n",
      "Set 1:  {1, 2, 3, 4, 5, 6, 7}\n",
      "Set 2:  {1, 2, 3, 4, 5, 6, 7, 8, 9, 10, 11.9, 12}\n",
      "Set 1 contains Set 2 as superset:  True\n"
     ]
    }
   ],
   "source": [
    "# check if a set is superset of another set\n",
    "x=eval(input(\"enter elements in 1st set:\"))\n",
    "y=eval(input(\"enter elements in 2nd set:\"))\n",
    "x=set(x)\n",
    "y=set(y)\n",
    "res=y.issuperset(x)\n",
    "print(\"Set 1: \",x)\n",
    "print(\"Set 2: \",y)\n",
    "print(\"Set 1 contains Set 2 as superset: \",res)"
   ]
  },
  {
   "cell_type": "code",
   "execution_count": 49,
   "id": "e4c9bdba",
   "metadata": {},
   "outputs": [
    {
     "name": "stdout",
     "output_type": "stream",
     "text": [
      "enter elements:[12.8, 'jay', 'raj', 'a', 1, 5, 8]\n",
      "[12.8, 'jay', 'raj', 'a', 1, 5, 8] <class 'list'>\n",
      "{1, 5, 8, 'jay', 12.8, 'raj', 'a'} <class 'set'>\n"
     ]
    }
   ],
   "source": [
    "# create a set from a list\n",
    "s=eval(input(\"enter elements:\"))\n",
    "print(s, type(s))\n",
    "s=set(s)\n",
    "print(s, type(s))"
   ]
  },
  {
   "cell_type": "code",
   "execution_count": 50,
   "id": "6be6fcee",
   "metadata": {},
   "outputs": [
    {
     "name": "stdout",
     "output_type": "stream",
     "text": [
      "enter elements:{1, 5, 8, 'jay', 12.8, 'raj', 'a'}\n",
      "{1, 'a', 5, 8, 'jay', 12.8, 'raj'} <class 'set'>\n",
      "[1, 'a', 5, 8, 'jay', 12.8, 'raj'] <class 'list'>\n"
     ]
    }
   ],
   "source": [
    "# convert a set to a list\n",
    "s=eval(input(\"enter elements:\"))\n",
    "s=set(s)\n",
    "print(s, type(s))\n",
    "s=list(s)\n",
    "print(s, type(s))"
   ]
  },
  {
   "cell_type": "code",
   "execution_count": 56,
   "id": "488ea84c",
   "metadata": {},
   "outputs": [
    {
     "name": "stdout",
     "output_type": "stream",
     "text": [
      "enter elements:1,5,7,'i','p'\n",
      "enter element:7\n",
      "Set:  {1, 5, 7, 'i', 'p'}\n",
      "New set:  {1, 5, 'i', 'p'}\n"
     ]
    }
   ],
   "source": [
    "# remove a random element from a set\n",
    "import random\n",
    "s=eval(input(\"enter elements:\"))\n",
    "e=eval(input(\"enter element:\"))\n",
    "s=set(s)\n",
    "print(\"Set: \",s)\n",
    "s.remove(e)\n",
    "print(\"New set: \",s)"
   ]
  },
  {
   "cell_type": "code",
   "execution_count": 57,
   "id": "1d212fc0",
   "metadata": {},
   "outputs": [
    {
     "name": "stdout",
     "output_type": "stream",
     "text": [
      "enter elements:0.4,1,5,7,'i','p'\n",
      "Set:  {0.4, 1, 5, 7, 'i', 'p'}\n",
      "Modified Set:  {1, 5, 7, 'i', 'p'}\n"
     ]
    }
   ],
   "source": [
    "# pop an element from a list\n",
    "s=eval(input(\"enter elements:\"))\n",
    "s=set(s)\n",
    "print(\"Set: \",s)\n",
    "s.pop()\n",
    "print(\"Modified Set: \",s)"
   ]
  },
  {
   "cell_type": "code",
   "execution_count": 69,
   "id": "0e32ce7c",
   "metadata": {},
   "outputs": [
    {
     "name": "stdout",
     "output_type": "stream",
     "text": [
      "enter elements in 1st set:1, 2, 9, 12, 23, 45\n",
      "enter elements in 2nd set:10, 20, 'd'\n",
      "Set 1:  {1, 2, 9, 12, 45, 23}\n",
      "Set 2:  {10, 'd', 20}\n",
      "there is no common element in these sets...\n"
     ]
    }
   ],
   "source": [
    "# check if two sets have no elements in common\n",
    "s=eval(input(\"enter elements in 1st set:\"))\n",
    "y=eval(input(\"enter elements in 2nd set:\"))\n",
    "y=set(y)\n",
    "s=set(s)\n",
    "print(\"Set 1: \",s)\n",
    "print(\"Set 2: \",y)\n",
    "if s&y==set():\n",
    "    print(\"there is no common element in these sets...\")\n",
    "else:\n",
    "    print(\"Common elements: \",s&y)"
   ]
  },
  {
   "cell_type": "code",
   "execution_count": 70,
   "id": "3ac06115",
   "metadata": {},
   "outputs": [],
   "source": [
    "# find the symmetric difference between 2 sets\n",
    "###(same as intersecton)"
   ]
  },
  {
   "cell_type": "code",
   "execution_count": 71,
   "id": "28dd0af7",
   "metadata": {},
   "outputs": [
    {
     "name": "stdout",
     "output_type": "stream",
     "text": [
      "enter elements in a set: 1,2,3\n",
      "enter elements in the element set: 4,5,6\n",
      "Set:  {1, 2, 3}\n",
      "Set:  {1, 2, 3, 4, 5, 6}\n"
     ]
    }
   ],
   "source": [
    "# update a set with elements from another set\n",
    "x=set(eval(input(\"enter elements in a set: \")))\n",
    "y=set(eval(input(\"enter elements in the element set: \")))\n",
    "print(\"Set: \",x)\n",
    "x.update(y)\n",
    "print(\"Set: \",x)"
   ]
  },
  {
   "cell_type": "code",
   "execution_count": 80,
   "id": "d375a988",
   "metadata": {},
   "outputs": [
    {
     "name": "stdout",
     "output_type": "stream",
     "text": [
      "enter range:12\n",
      "Set:  {2, 3, 5, 7, 11}\n"
     ]
    }
   ],
   "source": [
    "# create a set of first 5 prime prime numbers\n",
    "s=set()\n",
    "n=int(input(\"enter range:\"))\n",
    "for i in range(2,n+1):\n",
    "    for j in range(2,n+1):\n",
    "        if i%j==0:\n",
    "            break\n",
    "    if i==j:\n",
    "        s.add(i)\n",
    "print(\"Set: \",s)"
   ]
  },
  {
   "cell_type": "code",
   "execution_count": 84,
   "id": "abc3029c",
   "metadata": {},
   "outputs": [
    {
     "name": "stdout",
     "output_type": "stream",
     "text": [
      "enter elements: 1,2,3,4\n",
      "enter elements: 1,3,5,7\n",
      "Set I:  {1, 2, 3, 4}\n",
      "Set II:  {1, 3, 5, 7}\n",
      "non-identical\n"
     ]
    }
   ],
   "source": [
    "# check if 2 sets are identical\n",
    "c=0\n",
    "s1=set(eval(input(\"enter elements: \")))\n",
    "s2=set(eval(input(\"enter elements: \")))\n",
    "print(\"Set I: \",s1)\n",
    "print(\"Set II: \",s2)\n",
    "if s1==s2:\n",
    "    print(\"identical\")\n",
    "else:\n",
    "    print(\"non-identical\")"
   ]
  },
  {
   "cell_type": "code",
   "execution_count": 79,
   "id": "ca55221d",
   "metadata": {},
   "outputs": [],
   "source": [
    "# create a frozen set\n",
    "# s=set(eval(input(\"enter elements: \")))"
   ]
  },
  {
   "cell_type": "code",
   "execution_count": 87,
   "id": "2f81830f",
   "metadata": {},
   "outputs": [
    {
     "name": "stdout",
     "output_type": "stream",
     "text": [
      "enter elements: 1, 2, 9, 11, 111\n",
      "enter elements: 13, 15, 67, 111\n",
      "Set I:  {1, 2, 9, 11, 111}\n",
      "Set II:  {67, 111, 13, 15}\n",
      "disjointed sets...\n"
     ]
    }
   ],
   "source": [
    "# check if a set is disjoint with another set\n",
    "s1=set(eval(input(\"enter elements: \")))\n",
    "s2=set(eval(input(\"enter elements: \")))\n",
    "print(\"Set I: \",s1)\n",
    "print(\"Set II: \",s2)\n",
    "if s1.isdisjoint(s2)==False:\n",
    "    print(\"disjointed sets...\")\n",
    "else:\n",
    "    print(\"united sets...\")"
   ]
  },
  {
   "cell_type": "code",
   "execution_count": 90,
   "id": "3f072ea9",
   "metadata": {},
   "outputs": [
    {
     "name": "stdout",
     "output_type": "stream",
     "text": [
      "enter range:5\n",
      "Set: {1, 4, 9, 16, 25}\n"
     ]
    }
   ],
   "source": [
    "# create a set of squares from 1 to 5\n",
    "s=set()\n",
    "n=int(input(\"enter range:\"))\n",
    "for i in range(1,n+1):\n",
    "    s.add(i**2)\n",
    "print(\"Set:\",s)"
   ]
  },
  {
   "cell_type": "code",
   "execution_count": 93,
   "id": "468805a4",
   "metadata": {},
   "outputs": [
    {
     "name": "stdout",
     "output_type": "stream",
     "text": [
      "enter elements:11,12,33,2,1,6,7,78,88,9,0,2,5,13,14,45,7,9,8,61,6,66\n",
      "Set:  {0, 33, 2, 1, 66, 5, 6, 7, 8, 9, 11, 12, 13, 78, 14, 45, 88, 61}\n",
      "Even set:  {0, 2, 66, 6, 8, 12, 78, 14, 88}\n"
     ]
    }
   ],
   "source": [
    "# filter out all even numbers from a set\n",
    "even_s=set()\n",
    "s=eval(input(\"enter elements:\"))\n",
    "s=set(s)\n",
    "for i in s:\n",
    "    if i%2==0:\n",
    "        even_s.add(i)\n",
    "print(\"Set: \",s)\n",
    "print(\"Even set: \",even_s)"
   ]
  },
  {
   "cell_type": "code",
   "execution_count": 94,
   "id": "3770985d",
   "metadata": {},
   "outputs": [
    {
     "name": "stdout",
     "output_type": "stream",
     "text": [
      "enter elements:11,12,33,2,1,6,7,78,88,9,0,2,5,13,14,45,7,9,8,61,6,66\n",
      "Set:  {0, 33, 2, 1, 66, 5, 6, 7, 8, 9, 11, 12, 13, 78, 14, 45, 88, 61}\n",
      "Odd set:  {33, 1, 5, 7, 9, 11, 13, 45, 61}\n"
     ]
    }
   ],
   "source": [
    "# filter out all odd numbers from a set\n",
    "s=eval(input(\"enter elements:\"))\n",
    "odd_s=set()\n",
    "for i in s:\n",
    "    if i%2!=0:\n",
    "        odd_s.add(i)\n",
    "s=set(s)\n",
    "print(\"Set: \",s)\n",
    "print(\"Odd set: \",odd_s)"
   ]
  },
  {
   "cell_type": "code",
   "execution_count": 26,
   "id": "b0f1191a",
   "metadata": {},
   "outputs": [],
   "source": [
    "# multiply all elements of set with 3\n",
    "s=set(eval(input(\"enter elements:\")))\n",
    "print(\"Set: \",s)"
   ]
  },
  {
   "cell_type": "code",
   "execution_count": 97,
   "id": "9d392d02",
   "metadata": {},
   "outputs": [
    {
     "name": "stdout",
     "output_type": "stream",
     "text": [
      "enter range:20\n",
      "Set:  {9, 10, 11, 12, 13, 14, 15, 16, 17, 18, 19, 20}\n"
     ]
    }
   ],
   "source": [
    "# create a set of  random numbers\n",
    "import random\n",
    "n=int(input(\"enter range:\"))\n",
    "s=set()\n",
    "for i in range(n):\n",
    "    s.add(random.randint(i,n))\n",
    "print(\"Set: \",s)"
   ]
  },
  {
   "cell_type": "code",
   "execution_count": 101,
   "id": "d3dbf012",
   "metadata": {},
   "outputs": [
    {
     "name": "stdout",
     "output_type": "stream",
     "text": [
      "enter elements:{}\n",
      "Set:  set()\n",
      "the set is empty...\n"
     ]
    }
   ],
   "source": [
    "# check if a set is empty or not\n",
    "s=set(eval(input(\"enter elements:\")))\n",
    "print(\"Set: \",s)\n",
    "if not s:\n",
    "    print(\"the set is empty...\")\n",
    "else:\n",
    "    print(\"the set is not empty...\")"
   ]
  },
  {
   "cell_type": "code",
   "execution_count": 115,
   "id": "131eeebc",
   "metadata": {},
   "outputs": [
    {
     "name": "stdout",
     "output_type": "stream",
     "text": [
      "enter range:3\n",
      "enter elements:1,2\n",
      "enter elements:1,2,3\n",
      "enter elements:3,4,5\n",
      "enter elements:6,7,8\n",
      "frozenset({frozenset({'6,7,8'}), frozenset({'1,2'}), frozenset({'1,2,3'}), frozenset({'3,4,5'})})\n"
     ]
    }
   ],
   "source": [
    "# create a nested set\n",
    "s=set()\n",
    "fr=frozenset(f)\n",
    "n=int(input(\"enter range:\"))\n",
    "for i in range(n+1):\n",
    "    e=set(input(\"enter elements:\").split())\n",
    "    s.add(frozenset(e))\n",
    "nes=frozenset(s)\n",
    "print(nes)"
   ]
  },
  {
   "cell_type": "code",
   "execution_count": 124,
   "id": "ee4c36f9",
   "metadata": {},
   "outputs": [
    {
     "name": "stdout",
     "output_type": "stream",
     "text": [
      "enter elements:12,14.566,'dip',2.777,55,89,74\n",
      "enter element to be discarded:55\n",
      "Set:  {2.777, 'dip', 74, 12, 14.566, 55, 89}\n",
      "Modified Set: {2.777, 'dip', 74, 12, 14.566, 89}\n"
     ]
    }
   ],
   "source": [
    "# remove an remove an element from set using discard()\n",
    "s=set(eval(input(\"enter elements:\")))\n",
    "e=eval(input(\"enter element to be discarded:\"))\n",
    "print(\"Set: \",s)\n",
    "s.discard(e)\n",
    "print(\"Modified Set:\",s)"
   ]
  },
  {
   "cell_type": "code",
   "execution_count": 132,
   "id": "8327589b",
   "metadata": {},
   "outputs": [
    {
     "name": "stdout",
     "output_type": "stream",
     "text": [
      "enter elements: 11,12,13,7\n",
      "enter elements: 55,7,8,45\n",
      "Set I:  {11, 12, 13, 7}\n",
      "Set II:  {8, 7, 45, 55}\n",
      "set I == set II: False\n",
      "set I!= set II: True\n"
     ]
    }
   ],
   "source": [
    "# compare 2 sets\n",
    "s1=set(eval(input(\"enter elements: \")))\n",
    "s2=set(eval(input(\"enter elements: \")))\n",
    "print(\"Set I: \",s1)\n",
    "print(\"Set II: \",s2)\n",
    "print(\"set I == set II:\",s1==s2)\n",
    "print(\"set I!= set II:\",s1!=s2)"
   ]
  },
  {
   "cell_type": "code",
   "execution_count": 3,
   "id": "45cd4f90",
   "metadata": {},
   "outputs": [
    {
     "name": "stdout",
     "output_type": "stream",
     "text": [
      "enter elements:'23', '55', '12', '17', '168', '1000'\n",
      "{1000, 168, 12, 17, 55, 23}\n"
     ]
    }
   ],
   "source": [
    "# create a set of strings to a set of integers\n",
    "s=set(eval(input(\"enter elements:\")))\n",
    "intset=set(int(i) for i in s)\n",
    "print(intset)"
   ]
  },
  {
   "cell_type": "code",
   "execution_count": 4,
   "id": "49a3ea22",
   "metadata": {},
   "outputs": [
    {
     "name": "stdout",
     "output_type": "stream",
     "text": [
      "enter elements:{1000, 168, 12, 17, 55, 23}\n",
      "{'55', '168', '12', '1000', '23', '17'}\n"
     ]
    }
   ],
   "source": [
    "# create a set of integers to a set of strings\n",
    "s=set(eval(input(\"enter elements:\")))\n",
    "strset=set(str(i) for i in s)\n",
    "print(strset)"
   ]
  },
  {
   "cell_type": "code",
   "execution_count": 18,
   "id": "56d63f0c",
   "metadata": {},
   "outputs": [
    {
     "name": "stdout",
     "output_type": "stream",
     "text": [
      "enter elements:12,'a',45.88,1.0987,(3,2),129,'dip','jorge'\n",
      "Tuple: (12, 'a', 45.88, 1.0987, (3, 2), 129, 'dip', 'jorge') \t Type: <class 'tuple'>\n",
      "Set: {'dip', 1.0987, 129, 12, 45.88, (3, 2), 'jorge', 'a'} \t Type: <class 'set'>\n"
     ]
    }
   ],
   "source": [
    "# create a set from a tuple\n",
    "s=set()\n",
    "tup=eval(input(\"enter elements:\"))\n",
    "print(f\"Tuple: {tup} \\t Type: {type(tup)}\")\n",
    "for i in tup:\n",
    "    s.add(i)\n",
    "print(f\"Set: {s} \\t Type: {type(s)}\")"
   ]
  },
  {
   "cell_type": "code",
   "execution_count": 13,
   "id": "a77c6f4c",
   "metadata": {},
   "outputs": [
    {
     "name": "stdout",
     "output_type": "stream",
     "text": [
      "enter elements:12,'a',45.88,1.0987,(3,2)\n",
      "Set:  {1.0987, 12, 45.88, (3, 2), 'a'} \t\tType: <class 'set'>\n",
      "Tuple:  (1.0987, 12, 45.88, (3, 2), 'a') \tType: <class 'tuple'>\n"
     ]
    }
   ],
   "source": [
    "# convert a set to a tuple\n",
    "s=set(eval(input(\"enter elements:\")))\n",
    "print(\"Set: \",s,\"\\t\\tType:\",type(s))\n",
    "tup=tuple(s)\n",
    "print(\"Tuple: \",tup,\"\\tType:\",type(tup))"
   ]
  },
  {
   "cell_type": "code",
   "execution_count": 21,
   "id": "d54aa45a",
   "metadata": {},
   "outputs": [
    {
     "name": "stdout",
     "output_type": "stream",
     "text": [
      "enter elements:1,9,4,10,17,13,23,21,20.5,20,33,31,35,36.987,36.98,45.98,77,73,66,84\n",
      "Set:  {1, 4, 9, 10, 13, 17, 20.5, 21, 20, 23, 31, 33, 35, 36.987, 36.98, 45.98, 66, 73, 77, 84}\n",
      "Maximum value: 84 \n",
      "Minimum value: 1\n"
     ]
    }
   ],
   "source": [
    "# find maximum and minimum value in set\n",
    "s=set(eval(input(\"enter elements:\")))\n",
    "print(\"Set: \",s)\n",
    "print(\"Maximum value:\",max(s),\"\\nMinimum value:\",min(s))"
   ]
  },
  {
   "cell_type": "code",
   "execution_count": 19,
   "id": "d5886df7",
   "metadata": {},
   "outputs": [
    {
     "name": "stdout",
     "output_type": "stream",
     "text": [
      "enter number of terms: 5\n",
      "Fibonacci terms are:\n",
      "{0, 1, 2, 3, 5}\n"
     ]
    }
   ],
   "source": [
    "# create a set of first 5 fibonacci numbers\n",
    "n=int(input(\"enter number of terms: \"))\n",
    "s=set()\n",
    "a,b=0,1\n",
    "fibo=0\n",
    "print(\"Fibonacci terms are:\")\n",
    "if(n>0):\n",
    "    for i in range(n):\n",
    "        s.add(fibo)\n",
    "        fibo=a+b\n",
    "        a,b=b,fibo\n",
    "print(s)"
   ]
  },
  {
   "cell_type": "code",
   "execution_count": 20,
   "id": "8a339205",
   "metadata": {},
   "outputs": [
    {
     "name": "stdout",
     "output_type": "stream",
     "text": [
      "enter elements in 1st set:1, 2, 9, 12, 23, 45\n",
      "enter elements in 2nd set:23,11,100,45,'s'\n",
      "Set 1:  {1, 2, 9, 12, 45, 23}\n",
      "Set 2:  {100, 11, 45, 's', 23}\n",
      "Intersection set:  {45, 23}\n"
     ]
    }
   ],
   "source": [
    "# check if intersection of two sets are empty or not\n",
    "x=set(eval(input(\"enter elements in 1st set:\")))\n",
    "y=set(eval(input(\"enter elements in 2nd set:\")))\n",
    "print(\"Set 1: \",x)\n",
    "print(\"Set 2: \",y)\n",
    "if x&y==0:\n",
    "    print(\"Intersection set is empty...\")\n",
    "else:\n",
    "    print(\"Intersection set: \",x&y)"
   ]
  },
  {
   "cell_type": "code",
   "execution_count": 30,
   "id": "9369de42",
   "metadata": {},
   "outputs": [
    {
     "name": "stdout",
     "output_type": "stream",
     "text": [
      "enter elements in 1st set:10,13,16,19\n",
      "enter elements in 2nd set:10,13,16,19\n",
      "Set 1:  {16, 10, 19, 13}\n",
      "Set 2:  {16, 10, 19, 13}\n",
      "same elements\n"
     ]
    }
   ],
   "source": [
    "# check if two sets have the same elements regardless of their count\n",
    "x=set(eval(input(\"enter elements in 1st set:\")))\n",
    "y=set(eval(input(\"enter elements in 2nd set:\")))\n",
    "count=0\n",
    "print(\"Set 1: \",x)\n",
    "print(\"Set 2: \",y)\n",
    "if len(x)==len(y):\n",
    "    if x==y:\n",
    "        print(\"same elements\")\n",
    "    else:\n",
    "        print(\"same length but not same elements\")\n",
    "else:\n",
    "    print(\"sets are of different lengths...\")"
   ]
  },
  {
   "cell_type": "code",
   "execution_count": 32,
   "id": "de3b2887",
   "metadata": {},
   "outputs": [
    {
     "name": "stdout",
     "output_type": "stream",
     "text": [
      "enter elements in set:1,5,7,9,11\n",
      "enter elements in list:[11,45,'b',6,7,4]\n",
      "Set: {1, 5, 7, 9, 11}\n",
      "List: [11, 45, 'b', 6, 7, 4]\n",
      "Common elements: {11, 7}\n"
     ]
    }
   ],
   "source": [
    "# find common elements between a set and list\n",
    "x=set(eval(input(\"enter elements in set:\")))\n",
    "l=eval(input(\"enter elements in list:\"))\n",
    "print(\"Set:\",x)\n",
    "print(\"List:\",l)\n",
    "com=x&set(l)\n",
    "print(\"Common elements:\" ,com)\n",
    "# \n",
    "#"
   ]
  },
  {
   "cell_type": "code",
   "execution_count": 34,
   "id": "26e883c6",
   "metadata": {},
   "outputs": [
    {
     "name": "stdout",
     "output_type": "stream",
     "text": [
      "enter elements:12,66,78,99,34,87,66,9\n",
      "enter elements:1.34,7.99,55.1288705,12.111456,45,78,87\n",
      "enter elements:'zero', 'dip', 'apple', 'fruit'\n",
      "Set I: {66, 99, 34, 9, 12, 78, 87}\n",
      "Set II: {1.34, 7.99, 12.111456, 45, 78, 87, 55.1288705}\n",
      "Set III: {'fruit', 'apple', 'zero', 'dip'}\n",
      "Merged set using {| operator(union)}:  {1.34, 66, 99, 34, 7.99, 'fruit', 9, 12, 12.111456, 78, 45, 'apple', 55.1288705, 87, 'zero', 'dip'}\n",
      "Merged set using update: {1.34, 66, 99, 34, 7.99, 'fruit', 9, 12, 12.111456, 78, 45, 'apple', 55.1288705, 87, 'zero', 'dip'}\n"
     ]
    }
   ],
   "source": [
    "# merge multiple sets into one set\n",
    "s1=set(eval(input(\"enter elements:\")))\n",
    "s2=set(eval(input(\"enter elements:\")))\n",
    "s3=set(eval(input(\"enter elements:\")))\n",
    "print(\"Set I:\",s1)\n",
    "print(\"Set II:\",s2)\n",
    "print(\"Set III:\",s3)\n",
    "print(\"Merged set using {| operator(union)}: \",s1|s2|s3)\n",
    "\n",
    "s1.update(s2,s3)\n",
    "print(\"Merged set using update:\",s1)"
   ]
  },
  {
   "cell_type": "code",
   "execution_count": null,
   "id": "49500a29",
   "metadata": {},
   "outputs": [],
   "source": []
  }
 ],
 "metadata": {
  "kernelspec": {
   "display_name": "Python 3 (ipykernel)",
   "language": "python",
   "name": "python3"
  },
  "language_info": {
   "codemirror_mode": {
    "name": "ipython",
    "version": 3
   },
   "file_extension": ".py",
   "mimetype": "text/x-python",
   "name": "python",
   "nbconvert_exporter": "python",
   "pygments_lexer": "ipython3",
   "version": "3.11.5"
  }
 },
 "nbformat": 4,
 "nbformat_minor": 5
}
