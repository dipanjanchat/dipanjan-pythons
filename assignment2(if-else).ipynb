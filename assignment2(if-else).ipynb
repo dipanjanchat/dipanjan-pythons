{
 "cells": [
  {
   "cell_type": "code",
   "execution_count": 2,
   "id": "89ca3e20",
   "metadata": {},
   "outputs": [
    {
     "name": "stdout",
     "output_type": "stream",
     "text": [
      "Enter a number: -5\n",
      "-5 is negative\n"
     ]
    }
   ],
   "source": [
    "#checking if a number is positive or negative:\n",
    "\n",
    "num=int(input(\"Enter a number: \"))\n",
    "if(num>0):\n",
    "    print(f\"{num} is positive\")\n",
    "else:\n",
    "    print(f\"{num} is negative\")"
   ]
  },
  {
   "cell_type": "code",
   "execution_count": 4,
   "id": "46b39a60",
   "metadata": {},
   "outputs": [
    {
     "name": "stdout",
     "output_type": "stream",
     "text": [
      "Enter age of the voter:18\n",
      "voter is eligible to give vote\n"
     ]
    }
   ],
   "source": [
    "#creating a program to check if a person is elligible to vote based on their age:\n",
    "\n",
    "age=int(input(\"Enter age of the voter:\"))\n",
    "if(age>=18):\n",
    "    print(\"voter is eligible to give vote\")\n",
    "else:\n",
    "    print(\"voter is underage\")"
   ]
  },
  {
   "cell_type": "code",
   "execution_count": 5,
   "id": "31122044",
   "metadata": {},
   "outputs": [
    {
     "name": "stdout",
     "output_type": "stream",
     "text": [
      "Enter first number: 5\n",
      "Enter first number: 3\n",
      "5 is greater than 3\n"
     ]
    }
   ],
   "source": [
    "#create a program to find the maximum number using if-else:\n",
    "\n",
    "a=int(input(\"Enter first number: \"))\n",
    "b=int(input(\"Enter first number: \"))\n",
    "if(a>b):\n",
    "    print(f\"{a} is greater than {b}\")\n",
    "else:\n",
    "    print(f\"{b} is greater than {a}\")"
   ]
  },
  {
   "cell_type": "code",
   "execution_count": 6,
   "id": "804be63c",
   "metadata": {},
   "outputs": [
    {
     "name": "stdout",
     "output_type": "stream",
     "text": [
      "Enter the year:1600\n",
      "1600 is leap year\n"
     ]
    }
   ],
   "source": [
    "#leap year checking:\n",
    "\n",
    "year=int(input(\"Enter the year:\"))\n",
    "if(year%400==0 or year%4==0 and year%100!=0):\n",
    "    print(f\"{year} is leap year\")\n",
    "else:\n",
    "    print(f\"{year} is not leap year\")"
   ]
  },
  {
   "cell_type": "code",
   "execution_count": 8,
   "id": "97917b5a",
   "metadata": {},
   "outputs": [
    {
     "name": "stdout",
     "output_type": "stream",
     "text": [
      "Enter a character: b\n",
      "the character is consonant...\n"
     ]
    }
   ],
   "source": [
    "#check whether a character is vowel or consonant:\n",
    "\n",
    "c=str(input(\"Enter a character: \"))\n",
    "if(c=='a' or c=='e' or c=='i' or c=='o' or c=='u' or c=='A' or c=='E' or c=='O' or c=='U'):\n",
    "    print(\"the character is vowel...\")\n",
    "else:\n",
    "    print(\"the character is consonant...\")"
   ]
  },
  {
   "cell_type": "code",
   "execution_count": 9,
   "id": "3d6b7ec0",
   "metadata": {},
   "outputs": [
    {
     "name": "stdout",
     "output_type": "stream",
     "text": [
      "Enter a number:5\n",
      "5 is odd\n"
     ]
    }
   ],
   "source": [
    "#check whether a given number is even or odd:\n",
    "\n",
    "num=int(input(\"Enter a number:\"))\n",
    "if(num%2==0):\n",
    "    print(f\"{num} is even...\")\n",
    "else:\n",
    "    print(f\"{num} is odd\")"
   ]
  },
  {
   "cell_type": "code",
   "execution_count": 20,
   "id": "8aa97c47",
   "metadata": {},
   "outputs": [
    {
     "name": "stdout",
     "output_type": "stream",
     "text": [
      "Enter a number:-15\n",
      "\n",
      "Actual value: -15\n",
      "Absolute value: 15\n"
     ]
    }
   ],
   "source": [
    "#calculate the absolute value of a number:\n",
    "\n",
    "num=int(input(\"Enter a number:\"))\n",
    "def abs_value(num):\n",
    "    if(num>0):\n",
    "        return num\n",
    "    else:\n",
    "        return -num\n",
    "result=abs_value(num)\n",
    "print(\"\\nActual value:\",num)\n",
    "print(\"Absolute value:\",result)"
   ]
  },
  {
   "cell_type": "code",
   "execution_count": 18,
   "id": "5635b2d1",
   "metadata": {},
   "outputs": [
    {
     "name": "stdout",
     "output_type": "stream",
     "text": [
      "Enter first number:12\n",
      "Enter second number:7\n",
      "Enter third number:18\n",
      "18 is largest...\n",
      "7 is smallest...\n"
     ]
    }
   ],
   "source": [
    "#largest and smallest among three numbers:\n",
    "\n",
    "a=int(input(\"Enter first number:\"))\n",
    "b=int(input(\"Enter second number:\"))\n",
    "c=int(input(\"Enter third number:\"))\n",
    "if(a>b and a>c):\n",
    "    print(f\"{a} is largest...\")\n",
    "if(b>a and b>c):\n",
    "    print(f\"{b} is largest...\")\n",
    "if(c>a and c>b):\n",
    "    print(f\"{c} is largest...\")\n",
    "if(a<b and a<c):\n",
    "    print(f\"{a} is smallest...\")\n",
    "if(b<a and b<c):\n",
    "    print(f\"{b} is smallest...\")\n",
    "if(c<a and c<b):\n",
    "    print(f\"{c} is smallest...\")"
   ]
  },
  {
   "cell_type": "code",
   "execution_count": 4,
   "id": "76c4b917",
   "metadata": {},
   "outputs": [
    {
     "name": "stdout",
     "output_type": "stream",
     "text": [
      "Enter marks:40\n",
      "'E' Grade\n"
     ]
    }
   ],
   "source": [
    "#calculate student grade by their marks:\n",
    "\n",
    "marks=int(input(\"Enter marks:\"))\n",
    "if(marks>=80 and marks<=100):\n",
    "    print(\"'A' Grade\")\n",
    "if(marks<=79 and marks>=70):\n",
    "    print(\"'B' Grade\")\n",
    "if(marks<=69 and marks>=60):\n",
    "    print(\"'C' Grade\")\n",
    "if(marks<=59 and marks>=50):\n",
    "    print(\"'D' Grade\")\n",
    "if(marks<=49 and marks>=40):\n",
    "    print(\"'E' Grade\")\n",
    "if(marks<=39):\n",
    "    print(\"'F' Grade\")"
   ]
  },
  {
   "cell_type": "code",
   "execution_count": null,
   "id": "a41494f0",
   "metadata": {},
   "outputs": [],
   "source": [
    "#                   -----:NESTED IF ELSE STATEMENTS:-----"
   ]
  },
  {
   "cell_type": "code",
   "execution_count": 17,
   "id": "68c288b5",
   "metadata": {},
   "outputs": [
    {
     "name": "stdout",
     "output_type": "stream",
     "text": [
      "Enter first number:1\n",
      "Enter second number:9\n",
      "Enter third number:6\n",
      "9 is largest...\n"
     ]
    }
   ],
   "source": [
    "a=int(input(\"Enter first number:\"))\n",
    "b=int(input(\"Enter second number:\"))\n",
    "c=int(input(\"Enter third number:\"))\n",
    "\n",
    "if(a>b and a>c):\n",
    "    print(f\"{a} is largest...\")\n",
    "else:\n",
    "    if(b>a and b>c):\n",
    "        print(f\"{b} is largest...\")\n",
    "    else:\n",
    "        if(c>a and c>b):\n",
    "            print(f\"{c} is largest...\")"
   ]
  },
  {
   "cell_type": "code",
   "execution_count": 16,
   "id": "dbb4dcf3",
   "metadata": {},
   "outputs": [
    {
     "name": "stdout",
     "output_type": "stream",
     "text": [
      "Enter side1: 5\n",
      "Enter side2: 10\n",
      "Enter side3: 5\n",
      "\n",
      "\t the triangle is isosceles...\n"
     ]
    }
   ],
   "source": [
    "#check if a triangle is equilateral,isosceles or scalene:\n",
    "\n",
    "a=int(input(\"Enter side1: \"))\n",
    "b=int(input(\"Enter side2: \"))\n",
    "c=int(input(\"Enter side3: \"))\n",
    "\n",
    "if(a==b):\n",
    "    if(b==c):\n",
    "        print(\"\\n\\t the triangle is equilateral....\")\n",
    "else:\n",
    "    if(a==b or b==c or c==a):\n",
    "        print(\"\\n\\t the triangle is isosceles...\")\n",
    "    else:\n",
    "        if(a!=b!=c):\n",
    "            print(\"\\n\\t the triangle is scalene...\")"
   ]
  },
  {
   "cell_type": "code",
   "execution_count": 26,
   "id": "9267eca4",
   "metadata": {},
   "outputs": [
    {
     "name": "stdout",
     "output_type": "stream",
     "text": [
      "Enter the year:1600\n",
      "1600 is a century year and a leap year\n"
     ]
    }
   ],
   "source": [
    "#check if a year is leap-year or not:\n",
    "\n",
    "year=int(input(\"Enter the year:\"))\n",
    "if(year%400==0 or year%4==0):\n",
    "    if(year%100==0 and year%400==0):\n",
    "        print(f\"{year} is a century year and a leap year\")\n",
    "    else:\n",
    "        print(f\"{year} is century year but not leap year\")\n",
    "else:\n",
    "    print(f\"{year} is not leap year\")\n",
    "    "
   ]
  },
  {
   "cell_type": "code",
   "execution_count": 14,
   "id": "2d4ca764",
   "metadata": {},
   "outputs": [
    {
     "name": "stdout",
     "output_type": "stream",
     "text": [
      "enter age: 19\n",
      "the person is a teenager as his/her age is 19\n"
     ]
    }
   ],
   "source": [
    "#check if a person is a teenager or not:\n",
    "\n",
    "age=int(input(\"enter age: \"))\n",
    "if(age>=13 and age<=19):\n",
    "    print(f\"the person is a teenager as his/her age is {age}\")\n",
    "else:\n",
    "    if(age>19):\n",
    "        print(f\"the person passed the teenage\")\n",
    "    else:\n",
    "        print(f\"the person is under the age of teenage\")"
   ]
  },
  {
   "cell_type": "code",
   "execution_count": 11,
   "id": "b36ce869",
   "metadata": {},
   "outputs": [
    {
     "name": "stdout",
     "output_type": "stream",
     "text": [
      "enter angle:180\n",
      "180.0 degree is Straight angle...\n"
     ]
    }
   ],
   "source": [
    "#check if a angle of a triangle is acute,right or obtuse:\n",
    "\n",
    "angle=float(input(\"enter angle:\"))\n",
    "if(angle>0 and angle<90):\n",
    "    print(f\"{angle} degree is Acute angle...\")\n",
    "    \n",
    "else:\n",
    "    if(angle==90):\n",
    "        print(f\"{angle} degree is Right angle...\")\n",
    "    else:\n",
    "        if(angle>90 and angle<180):\n",
    "            print(f\"{angle} degree is Obtuse angle...\")\n",
    "        else:\n",
    "            if(angle==180):\n",
    "                print(f\"{angle} degree is Straight angle...\")\n",
    "                \n",
    "            else:\n",
    "                if(angle>180 and angle<360):\n",
    "                    print(f\"{angle} degree is Reflex angle...\")\n",
    "                else:\n",
    "                    if(angle==360):\n",
    "                        print(f\"{angle} degree is full rotation angle...\")"
   ]
  },
  {
   "cell_type": "code",
   "execution_count": 13,
   "id": "e8378dd1",
   "metadata": {},
   "outputs": [
    {
     "name": "stdout",
     "output_type": "stream",
     "text": [
      "Enter coefficient of a:5\n",
      "Enter coefficient of b:-3\n",
      "Enter coefficient of c:8\n",
      "Roots are imaginary and unequal...\n",
      "root1:0.3+1.2288205727444508\n",
      "root2:0.3-1.2288205727444508\n"
     ]
    }
   ],
   "source": [
    "#calculate the quadratic equation:\n",
    "\n",
    "import math\n",
    "\n",
    "a=float(input(\"Enter coefficient of a:\"))\n",
    "b=float(input(\"Enter coefficient of b:\"))\n",
    "c=float(input(\"Enter coefficient of c:\"))\n",
    "\n",
    "d= (b**2 -4*a*c)\n",
    "\n",
    "if(d>0):\n",
    "    print(\"Roots are real but unequal...\")\n",
    "    root1= ((-b+ math.sqrt(d)))/(2*a)\n",
    "    root2= ((-b-math.sqrt(d)))/(2*a)\n",
    "    \n",
    "    print(\"root1:\",root1)\n",
    "    print(\"root2:\",root2)\n",
    "    \n",
    "else:\n",
    "    if(d==0):\n",
    "        print(\"Roots are real but equal...\")\n",
    "        root1=root2=-b/(2*a)\n",
    "        print(\"Root:\",root1)\n",
    "    else:\n",
    "        print(\"Roots are imaginary and unequal...\")\n",
    "        real= -b/(2*a)\n",
    "        imaginary= math.sqrt(abs(d))/(2*a)\n",
    "        print(f\"root1:{real}+{imaginary}\")\n",
    "        print(f\"root2:{real}-{imaginary}\")\n",
    "    "
   ]
  },
  {
   "cell_type": "code",
   "execution_count": 47,
   "id": "99f8d10c",
   "metadata": {},
   "outputs": [
    {
     "name": "stdout",
     "output_type": "stream",
     "text": [
      "Enter the day:15\n",
      "\t Monday...\n"
     ]
    }
   ],
   "source": [
    "#program to determine a day of the week based on user provided number(1 for Monday,2 for Tuesday....)\n",
    "\n",
    "day=int(input(\"Enter the day:\"))\n",
    "\n",
    "if(day==1 or day== 8 or day == 15 or day== 22 or day== 29):\n",
    "    print(\"\\t Monday...\")\n",
    "elif(day==2 or day==9 or day==16 or day==23 or day==30):\n",
    "    print(\"\\t Tuesday...\")\n",
    "elif(day==3 or day==10 or day==17 or day==24):\n",
    "    print(\"\\t Wednesday...\")\n",
    "elif(day==4 or day==11 or day==18 or day==25):\n",
    "    print(\"\\t Thursday...\")\n",
    "elif(day==5 or day==12 or day==19 or day==26):\n",
    "    print(\"\\t Friday...\")\n",
    "elif(day==6 or day==13 or day==20 or day==27):\n",
    "    print(\"\\t Saturday...\")\n",
    "elif(day==7 or day==14 or day==21 or day==28):\n",
    "    print(\"\\t Sunday...\")"
   ]
  },
  {
   "cell_type": "code",
   "execution_count": 21,
   "id": "795959c0",
   "metadata": {},
   "outputs": [
    {
     "name": "stdout",
     "output_type": "stream",
     "text": [
      "Enter number:19\n",
      "19  is Prime....\n"
     ]
    }
   ],
   "source": [
    "#check if a number is prime or not:\n",
    "\n",
    "num=int(input(\"Enter number:\"))\n",
    "flag=0\n",
    "\n",
    "for i in range(2,num):\n",
    "    if(num%i==0):\n",
    "        flag=1\n",
    "if(flag==0):\n",
    "    print(f\"{num}  is Prime....\")\n",
    "else:\n",
    "    if(flag!=0):\n",
    "        print(f\"{num} is Non-prime....\")"
   ]
  },
  {
   "cell_type": "code",
   "execution_count": null,
   "id": "cca16c2c",
   "metadata": {},
   "outputs": [],
   "source": []
  },
  {
   "cell_type": "code",
   "execution_count": 1,
   "id": "0474dda4",
   "metadata": {},
   "outputs": [],
   "source": [
    "                     #----:ELIF STATEMENT:----"
   ]
  },
  {
   "cell_type": "code",
   "execution_count": 5,
   "id": "40d20339",
   "metadata": {},
   "outputs": [
    {
     "name": "stdout",
     "output_type": "stream",
     "text": [
      "Enter marks:79\n",
      "'B' Grade\n"
     ]
    }
   ],
   "source": [
    "#asign grades based on their score using elif:\n",
    "\n",
    "marks=int(input(\"Enter marks:\"))\n",
    "if(marks>=80 and marks<=100):\n",
    "    print(\"'A' Grade\")\n",
    "elif(marks<=79 and marks>=70):\n",
    "    print(\"'B' Grade\")\n",
    "elif(marks<=69 and marks>=60):\n",
    "    print(\"'C' Grade\")\n",
    "elif(marks<=59 and marks>=50):\n",
    "    print(\"'D' Grade\")\n",
    "elif(marks<=49 and marks>=40):\n",
    "    print(\"'E' Grade\")\n",
    "elif(marks<=39):\n",
    "    print(\"'F' Grade\")"
   ]
  },
  {
   "cell_type": "code",
   "execution_count": 12,
   "id": "56371d84",
   "metadata": {},
   "outputs": [
    {
     "name": "stdout",
     "output_type": "stream",
     "text": [
      "enter angle:279\n",
      "279.0 degree is Reflex angle...\n"
     ]
    }
   ],
   "source": [
    "#check if a angle of a triangle is acute,right or obtuse:\n",
    "\n",
    "angle=float(input(\"enter angle:\"))\n",
    "if(angle>0 and angle<90):\n",
    "    print(f\"{angle} degree is Acute angle...\")\n",
    "    \n",
    "elif(angle==90):\n",
    "    print(f\"{angle} degree is Right angle...\")\n",
    "    \n",
    "elif(angle>90 and angle<180):\n",
    "    print(f\"{angle} degree is Obtuse angle...\")\n",
    "    \n",
    "elif(angle==180):\n",
    "    print(f\"{angle} degree is Straight angle...\")\n",
    "    \n",
    "elif(angle>180 and angle<360):\n",
    "    print(f\"{angle} degree is Reflex angle...\")\n",
    "    \n",
    "elif(angle==360):\n",
    "    print(f\"{angle} degree is full rotation angle...\")"
   ]
  },
  {
   "cell_type": "code",
   "execution_count": 3,
   "id": "635a74cf",
   "metadata": {},
   "outputs": [
    {
     "name": "stdout",
     "output_type": "stream",
     "text": [
      "Enter weight(kgs):85.6\n",
      "Enter height(meters):1.55728\n",
      "\t B.M.I. is 35.297207873947535 .Person is overweight...\n"
     ]
    }
   ],
   "source": [
    "#Check if a person is normal weight, underweight or overweight according to  their bmi rate:\n",
    "\n",
    "weight=float(input(\"Enter weight(kgs):\"))\n",
    "height=float(input(\"Enter height(meters):\"))\n",
    "bmi= weight / (height**2)\n",
    "#bmi=float(input(\"enter bmi:\"))\n",
    "if(bmi<18.5):\n",
    "    print(f\"\\t B.M.I. is {bmi} .Person is underweight...\")\n",
    "elif(bmi>=18.5 and bmi<=24.5):\n",
    "    print(f\"\\t B.M.I. is {bmi} .Person is normal...\")\n",
    "elif(bmi>=25.0 and bmi<=39.9):\n",
    "    print(f\"\\t B.M.I. is {bmi} .Person is overweight...\")\n",
    "elif(bmi>=40.0):\n",
    "    print(f\"\\t B.M.I. is {bmi} . Person is obese...\")"
   ]
  },
  {
   "cell_type": "code",
   "execution_count": 4,
   "id": "fe4d7748",
   "metadata": {},
   "outputs": [
    {
     "name": "stdout",
     "output_type": "stream",
     "text": [
      "Enter  a number:-6\n",
      "-6.0 is negative...\n"
     ]
    }
   ],
   "source": [
    "#check if a number is +ve,-ve, or 0:\n",
    "\n",
    "num=float(input(\"Enter  a number:\"))\n",
    "\n",
    "if(num>0):\n",
    "    print(f\"{num} is positive...\")\n",
    "elif(num==0):\n",
    "    print(f\"{num} is zero...\")\n",
    "else:\n",
    "    print(f\"{num} is negative...\")"
   ]
  },
  {
   "cell_type": "code",
   "execution_count": 7,
   "id": "48778f81",
   "metadata": {},
   "outputs": [
    {
     "name": "stdout",
     "output_type": "stream",
     "text": [
      "Enter character:Z\n",
      "\n",
      " Uppercase character....\n"
     ]
    }
   ],
   "source": [
    "# check whether  a character is uppercase,lowercase or special character:\n",
    "\n",
    "char=str(input(\"Enter character:\"))\n",
    "if(char>='A' and char<='Z'):\n",
    "    print(\"\\n Uppercase character....\")\n",
    "elif(char>='a' and char<='z'):\n",
    "    print(\"\\n Lowercase....\")\n",
    "else:\n",
    "    print(\"\\n special character...\")"
   ]
  },
  {
   "cell_type": "code",
   "execution_count": null,
   "id": "a41142ed",
   "metadata": {},
   "outputs": [],
   "source": [
    "#calculate discount price on different purchase amounts:\n",
    "\n",
    "price=int(input(\"listed price:\"))\n",
    "discount=0.0\n",
    "if(price>=500):\n",
    "    discount=45.0\n",
    "elif(price>=300 and price<=400):\n",
    "    discount=35.0\n",
    "elif(price>=200 and price<=300):\n",
    "    discount=30.0\n",
    "elif(price>=100 and price<=200):\n",
    "    discount=25.0\n",
    "elif(price<=100):\n",
    "    discount=20.0\n",
    "dis_price=price*((100-discount)/100)\n",
    "print(\"discount price:\",dis_price)"
   ]
  },
  {
   "cell_type": "code",
   "execution_count": 8,
   "id": "4c8183ba",
   "metadata": {},
   "outputs": [
    {
     "name": "stdout",
     "output_type": "stream",
     "text": [
      "Enter  units(kWh):679\n",
      "electricity bill: 15370\n"
     ]
    }
   ],
   "source": [
    "#calculate the electricity bill based on different consumption slabs using elif:\n",
    "\n",
    "#1 to 100 units: 10/- per unit\n",
    "#100 to 200 units: 15/- \" \"\n",
    "#200 to 300 units: 20/- \" \"\n",
    "#300 to 400 units: 25/- \" \"\n",
    "#>400 units:       30/- \" \"\n",
    "\n",
    "units=int(input(\"Enter  units(kWh):\"))\n",
    "bill=0\n",
    "\n",
    "if(units<=100 and units>=1):\n",
    "    bill= (units*10)\n",
    "    \n",
    "elif(units>100 and units<=200):\n",
    "    bill= (100*10)+(units-100)*15\n",
    "    \n",
    "elif(units>200 and units<=300):\n",
    "    bill= (100*10)+(100*15)+(units-200)*20    \n",
    "    \n",
    "elif(units>300 and units<=400):\n",
    "    bill= (100*10)+(100*15)+(100*20)+(units-300)*25\n",
    "        \n",
    "elif(units>400):\n",
    "    bill= (100*10)+(100*15)+(100*20)+(100*25)+(units-400)*30\n",
    "    \n",
    "print(\"electricity bill:\",bill)"
   ]
  },
  {
   "cell_type": "code",
   "execution_count": 1,
   "id": "ad1ee45a",
   "metadata": {},
   "outputs": [
    {
     "name": "stdout",
     "output_type": "stream",
     "text": [
      "enter 1st angle:90\n",
      "enter 2nd angle:90\n",
      "enter 3rd angle:90\n",
      "enter 4th angle:90\n",
      "\n",
      "enter 1st side:13\n",
      "enter 2nd side:13\n",
      "enter 3rd side:13\n",
      "enter 4th side:13\n",
      "slope1: 1.0\n",
      "slope2 1.0\n",
      "\n",
      "\t Square...\n"
     ]
    }
   ],
   "source": [
    "#type of quadrilateral based on their angles and sides:\n",
    "\n",
    "angle1= float(input(\"enter 1st angle:\"))\n",
    "angle2= float(input(\"enter 2nd angle:\"))\n",
    "angle3= float(input(\"enter 3rd angle:\"))\n",
    "angle4= float(input(\"enter 4th angle:\"))\n",
    "\n",
    "side1= float(input(\"\\nenter 1st side:\"))\n",
    "side2= float(input(\"enter 2nd side:\"))\n",
    "side3= float(input(\"enter 3rd side:\"))\n",
    "side4= float(input(\"enter 4th side:\"))\n",
    "\n",
    "#diag1=float(input(\"\\nenter 1st diagonal:\"))\n",
    "#diag2=float(input(\"enter 2nd diagonal:\"))\n",
    "\n",
    "slope1=(side1/side3)\n",
    "slope2=(side2/side4)\n",
    "print(\"slope1:\",slope1)\n",
    "print(\"slope2\",slope2)\n",
    "\n",
    "if(angle1==angle2==angle3==angle4==90.0):\n",
    "    if(side1==side3 and side2==side4 and side1!=side2 and side3!=side4):\n",
    "        print(\"\\n\\t Rectangle...\")\n",
    "    elif(side1==side2==side3==side4):\n",
    "        print(\"\\n\\t Square...\")\n",
    "        \n",
    "elif(slope1==slope2):\n",
    "    if(side1==side2==side3==side4 and (angle1+angle2)==(angle3+angle4)==180.0):\n",
    "        if(angle1!=90.0 and angle2!=90.0 and angle3!=90.0 and angle4!=90.0):\n",
    "            print(\"\\n\\t Rhombus...\")\n",
    "    elif(side1==side3 and side2==side4 and side1!=side2 and side3!=side4):\n",
    "        print(\"\\n\\t Parallelogram...\")\n",
    "        "
   ]
  },
  {
   "cell_type": "code",
   "execution_count": 3,
   "id": "db913a7f",
   "metadata": {},
   "outputs": [
    {
     "name": "stdout",
     "output_type": "stream",
     "text": [
      "enter  month:July\n",
      "it's Monsoon...\n"
     ]
    }
   ],
   "source": [
    "#determine the type of season based on month:\n",
    "\n",
    "month=str(input(\"enter  month:\"))\n",
    "season=0\n",
    "if(month=='March' or month=='April' or month=='May'):\n",
    "    print(\"it's Summer...\")\n",
    "elif(month=='June' or month=='July' or month=='August'):\n",
    "    print(\"it's Monsoon...\")\n",
    "elif(month=='September' or month=='October'):\n",
    "    print(\"it's Autumn\")\n",
    "elif(month=='November' or month=='December' or month=='January'):\n",
    "    print(\"it's Winter...\")\n",
    "elif(month=='February' or month=='March'):\n",
    "    print(\"it's Spring\")"
   ]
  },
  {
   "cell_type": "code",
   "execution_count": null,
   "id": "3b0324fa",
   "metadata": {},
   "outputs": [],
   "source": []
  },
  {
   "cell_type": "code",
   "execution_count": 4,
   "id": "1780ca40",
   "metadata": {},
   "outputs": [],
   "source": [
    "#          ----:Basic Level:----"
   ]
  },
  {
   "cell_type": "code",
   "execution_count": 1,
   "id": "00cfec4d",
   "metadata": {},
   "outputs": [],
   "source": [
    "#all are included among the above program"
   ]
  },
  {
   "cell_type": "code",
   "execution_count": 2,
   "id": "e3113935",
   "metadata": {},
   "outputs": [],
   "source": [
    "#          ----:Intermediate level:-----"
   ]
  },
  {
   "cell_type": "code",
   "execution_count": 8,
   "id": "d630142d",
   "metadata": {},
   "outputs": [
    {
     "name": "stdout",
     "output_type": "stream",
     "text": [
      "enter number:7\n",
      "Factorial of 7: 5040\n"
     ]
    }
   ],
   "source": [
    "#calculate the factorial of a number using recursion:\n",
    "\n",
    "def factorial(n):\n",
    "    if n==1:\n",
    "        return n;\n",
    "    else:\n",
    "        return n*factorial(n-1)\n",
    "    \n",
    "num=int(input(\"enter number:\"))\n",
    "\n",
    "if num<0:\n",
    "    print(\"\\n Factorial doesn't exist for -ve numbers...\")\n",
    "    \n",
    "elif num==0:\n",
    "    print(\"Factorial of 0: 1\")\n",
    "    \n",
    "else:\n",
    "    print(f\"Factorial of {num}: {factorial(num)}\")"
   ]
  },
  {
   "cell_type": "code",
   "execution_count": null,
   "id": "59f115b1",
   "metadata": {},
   "outputs": [
    {
     "name": "stdout",
     "output_type": "stream",
     "text": [
      "\t ****Welcome to State Bank of India****\n",
      "\n",
      "Enter your 4 digit pin:45000\n",
      "enter your total savings: Rs.309900\n",
      "\n",
      "\t 1.Withdraw money \n",
      "\t 2.Balance Enquiiry \n",
      "\t 3.Fast Cash\n"
     ]
    }
   ],
   "source": [
    "#atm simulator:\n",
    "\n",
    "print(\"\\t ****Welcome to State Bank of India****\\n\")\n",
    "pin=int(input(\"Enter your 4 digit pin:\"))\n",
    "m=int(input(\"enter your total savings: Rs.\"))\n",
    "av=0\n",
    "\n",
    "if(pin<0):\n",
    "    print(\"Pin doesn't exist.Pin must be of 4 digits...\")\n",
    "elif(pin>=1000):\n",
    "    print(\"\\n\\t 1.Withdraw money \\n\\t 2.Balance Enquiiry \\n\\t 3.Fast Cash\")\n",
    "    c=int(input(\"\\n Enter your choice:\"))\n",
    "    \n",
    "    if(c==1):\n",
    "        print(\"\\t Withdraw Cash \\n\")\n",
    "        w=int(input(\"Enter withdraw amount: Rs.\"))\n",
    "        \n",
    "        if(w<m and w%100==0):\n",
    "            m=m-w\n",
    "            print(f\"Please take your amount:Rs.{w}/- \\nAvailable amount:Rs.{m}/-\")\n",
    "        else:\n",
    "            print(\"Invalid cash...\")\n",
    "            \n",
    "    elif(c==2):\n",
    "        print(\"\\t Balance Enquiry \\n\")\n",
    "        print(f\"Your available amount:Rs.{m}/-\")\n",
    "        \n",
    "    elif(c==3):\n",
    "        print(\"\\t Fast Cash \\n\")\n",
    "        print(\"1. Rs.5000/-\")\n",
    "        print(\"2. Rs.10,000/-\")\n",
    "        print(\"3. Rs.15,000/-\")\n",
    "        print(\"4. Rs.20,000/-\")\n",
    "        \n",
    "        f=int(input(\"\\nenter fast cash option: Rs.\"))\n",
    "        if(f==1 and m>5000):\n",
    "            av=m-5000\n",
    "            print(f\"please take out your cash Rs.5000/-.\\nAvailable amount:Rs.{av}/-\")\n",
    "            \n",
    "        elif(f==2 and m>10000):\n",
    "            av=m-10000\n",
    "            print(f\"please take out your cash Rs.10,000/- \\n Available amount:{av}/-\")\n",
    "            \n",
    "        elif(f==3 and m>15000):\n",
    "            av=m-15000\n",
    "            print(f\"please take out your cash Rs.15,000/- \\nAvailable amount:{av}/-\")\n",
    "            \n",
    "        elif(f==4 and m>20000):\n",
    "            av=m-20000\n",
    "            print(f\"please take out your cash Rs.20000/- \\nAvailable amount:{av}/-\")\n",
    "            \n",
    "        else:\n",
    "            print(\"invalid fast cash option...\")\n",
    "            "
   ]
  },
  {
   "cell_type": "code",
   "execution_count": 39,
   "id": "8435ad13",
   "metadata": {},
   "outputs": [
    {
     "name": "stdout",
     "output_type": "stream",
     "text": [
      "Enter list elements:1,5,9,14,23\n",
      "Original list:  (1, 5, 9, 14, 23)\n",
      "\n",
      "Average of the list excluding max and min value: 9.333333333333334\n"
     ]
    }
   ],
   "source": [
    "#Find the avverage of a list of numbers, excluding largest and smallest:\n",
    "\n",
    "k=0\n",
    "x=0\n",
    "list=eval(input(\"Enter list elements:\"))\n",
    "print(\"Original list: \",list)\n",
    "i=max(list)\n",
    "j=min(list)\n",
    "for k in range(len(list)):\n",
    "    if(list[k]<i):\n",
    "        i=list[k]\n",
    "    elif(list[k]>j):\n",
    "        j=list[k]\n",
    "\n",
    "x=float((sum(list)-i-j)/(len(list)-2))\n",
    "print(\"\\nAverage of the list excluding max and min value:\",x)"
   ]
  },
  {
   "cell_type": "code",
   "execution_count": 46,
   "id": "e122a87e",
   "metadata": {},
   "outputs": [
    {
     "name": "stdout",
     "output_type": "stream",
     "text": [
      "Temperature in Celcius:58.981\n",
      "Temperature in Farenhite:138.16580000000002\n"
     ]
    }
   ],
   "source": [
    "#Converting Celcius to Farenhite:\n",
    "\n",
    "faren=0.0\n",
    "cel=float(input(\"Temperature in Celcius:\"))\n",
    "faren= ((cel*9/5)+32)\n",
    "print(f\"Temperature in Farenhite:{faren}\")"
   ]
  },
  {
   "cell_type": "code",
   "execution_count": 53,
   "id": "8dc2f790",
   "metadata": {},
   "outputs": [
    {
     "name": "stdout",
     "output_type": "stream",
     "text": [
      "\t= :CALCULATOR :=\n",
      "\n",
      "\t1.Addition\n",
      "\n",
      "\t2.Subtraction\n",
      "\n",
      "\t3.Multiplication\n",
      "\n",
      "\t4.Division\n",
      "\n",
      "enter choice:4\n",
      "\n",
      "\tDivision\n",
      "\n",
      "Enter num1:279.4589126\n",
      "Enter num2:3.145692331908\n",
      "\n",
      "Result:88.83860311618459\n"
     ]
    }
   ],
   "source": [
    "#calculator:\n",
    "\n",
    "print(\"\\t= :CALCULATOR :=\\n\")\n",
    "print(\"\\t1.Addition\\n\")\n",
    "print(\"\\t2.Subtraction\\n\")\n",
    "print(\"\\t3.Multiplication\\n\")\n",
    "print(\"\\t4.Division\\n\")\n",
    "\n",
    "c=int(input(\"enter choice:\"))\n",
    "\n",
    "result=0\n",
    "\n",
    "if c==1:\n",
    "    print(\"\\n\\tAddition\\n\")\n",
    "    a=float(input(\"Enter num1:\"))\n",
    "    b=float(input(\"Enter num2:\"))\n",
    "\n",
    "    result= a+b\n",
    "    \n",
    "elif c==2:\n",
    "    print(\"\\n\\tSubtraction\\n\")\n",
    "    a=float(input(\"Enter num1:\"))\n",
    "    b=float(input(\"Enter num2:\"))\n",
    "    \n",
    "    result=a-b\n",
    "        \n",
    "elif c==3:\n",
    "    print(\"\\n\\tMultiplication\\n\")\n",
    "    a=float(input(\"Enter num1:\"))\n",
    "    b=float(input(\"Enter num2:\"))\n",
    "\n",
    "    result= a*b\n",
    "    \n",
    "elif c==4:\n",
    "    print(\"\\n\\tDivision\\n\")\n",
    "    a=float(input(\"Enter num1:\"))\n",
    "    b=float(input(\"Enter num2:\"))\n",
    "    \n",
    "    result=a/b\n",
    "        \n",
    "else:\n",
    "    print(\"invalid choice!!\")\n",
    "    \n",
    "print(f\"\\nResult:{result}\")"
   ]
  },
  {
   "cell_type": "code",
   "execution_count": 54,
   "id": "fa5806ee",
   "metadata": {},
   "outputs": [],
   "source": [
    "#Cardano Formula:"
   ]
  },
  {
   "cell_type": "code",
   "execution_count": null,
   "id": "a94e90c2",
   "metadata": {},
   "outputs": [],
   "source": []
  },
  {
   "cell_type": "code",
   "execution_count": 55,
   "id": "75bac402",
   "metadata": {},
   "outputs": [],
   "source": [
    "#             -------: ADVANCED LEVEL :-------"
   ]
  },
  {
   "cell_type": "code",
   "execution_count": 3,
   "id": "b82df64a",
   "metadata": {},
   "outputs": [
    {
     "name": "stdout",
     "output_type": "stream",
     "text": [
      "Enter a choice (rock, paper, scissors): rock\n",
      "\n",
      "You chose rock, computer chose rock.\n",
      "\n",
      "Both players selected rock. It's a tie!\n",
      "Play again? (y/n): y\n",
      "Enter a choice (rock, paper, scissors): paper\n",
      "\n",
      "You chose paper, computer chose scissors.\n",
      "\n",
      "Scissors cuts paper! You lose.\n",
      "Play again? (y/n): y\n",
      "Enter a choice (rock, paper, scissors): scissors\n",
      "\n",
      "You chose scissors, computer chose paper.\n",
      "\n",
      "Scissors cuts paper! You win!\n",
      "Play again? (y/n): y\n",
      "Enter a choice (rock, paper, scissors): paper\n",
      "\n",
      "You chose paper, computer chose rock.\n",
      "\n",
      "Paper covers rock! You win!\n",
      "Play again? (y/n): n\n"
     ]
    }
   ],
   "source": [
    "import random\n",
    "\n",
    "while True:\n",
    "    user_action = input(\"Enter a choice (rock, paper, scissors): \")\n",
    "    possible_actions = [\"rock\", \"paper\", \"scissors\"]\n",
    "    computer_action = random.choice(possible_actions)\n",
    "    print(f\"\\nYou chose {user_action}, computer chose {computer_action}.\\n\")\n",
    "\n",
    "    if user_action == computer_action:\n",
    "        print(f\"Both players selected {user_action}. It's a tie!\")\n",
    "        \n",
    "    elif user_action == \"rock\":\n",
    "        \n",
    "        if computer_action == \"scissors\":\n",
    "            print(\"Rock smashes scissors! You win!\")\n",
    "        else:\n",
    "            print(\"Paper covers rock! You lose.\")\n",
    "            \n",
    "    elif user_action == \"paper\":\n",
    "        \n",
    "        if computer_action == \"rock\":\n",
    "            print(\"Paper covers rock! You win!\")\n",
    "        else:\n",
    "            print(\"Scissors cuts paper! You lose.\")\n",
    "            \n",
    "    elif user_action == \"scissors\":\n",
    "        \n",
    "        if computer_action == \"paper\":\n",
    "            print(\"Scissors cuts paper! You win!\")\n",
    "        else:\n",
    "            print(\"Rock smashes scissors! You lose.\")\n",
    "            \n",
    "    else:\n",
    "        print(\"Invalid choice...\")\n",
    "\n",
    "    play_again = input(\"Play again? (y/n): \")\n",
    "    if play_again.lower() != \"y\":\n",
    "        break"
   ]
  },
  {
   "cell_type": "code",
   "execution_count": 16,
   "id": "1077e0ea",
   "metadata": {},
   "outputs": [
    {
     "name": "stdout",
     "output_type": "stream",
     "text": [
      "Enter your annual income: Rs.5900000\n",
      "Your tax rate is:30%\n",
      "Total tax applicable: Rs.4130000.0/-\n"
     ]
    }
   ],
   "source": [
    "#income tax based user's income and tax brackets\n",
    "\n",
    "total=int(input(\"Enter your annual income: Rs.\"))\n",
    "tax_rate= (tax)\n",
    "tax=0\n",
    "amount=0\n",
    "if(total<=250000):\n",
    "    tax_rate=5\n",
    "    print(f\"Your tax rate is:{tax_rate}%\")\n",
    "    amount=float(total*tax_rate)/100\n",
    "    tax=(total-amount)\n",
    "\n",
    "elif(total<=500000):\n",
    "    tax_rate=15\n",
    "    print(f\"Your tax rate is:{tax_rate}%\")\n",
    "    amount=float(total*tax_rate)/100\n",
    "    tax=(total-amount)\n",
    "\n",
    "elif(total<=750000):\n",
    "    tax_rate=20\n",
    "    print(f\"Your tax rate is:{tax_rate}%\")\n",
    "    amount=float(total*tax_rate)/100\n",
    "    tax=(total-amount)\n",
    "\n",
    "elif(total<=1000000):\n",
    "    tax_rate=25\n",
    "    print(f\"Your tax rate is:{tax_rate}%\")\n",
    "    amount=float(total*tax_rate)/100\n",
    "    tax=(total-amount)\n",
    "\n",
    "elif(total<=1200000):\n",
    "    tax_rate=30\n",
    "    print(f\"Your tax rate is:{tax_rate}%\")\n",
    "    tax=(total-amount)\n",
    "    amount=float(total*tax_rate)/100\n",
    "    \n",
    "elif(total<=2500000):\n",
    "    tax_rate=25\n",
    "    print(f\"Your tax rate is:{tax_rate}%\")\n",
    "    amount=float(total*tax_rate)/100\n",
    "    tax=(total-amount)\n",
    "\n",
    "elif(total>2500000):\n",
    "    tax_rate=30\n",
    "    print(f\"Your tax rate is:{tax_rate}%\")\n",
    "    amount=float(total*tax_rate)/100\n",
    "    tax=(total-amount)\n",
    "\n",
    "print(f\"Total tax applicable: Rs.{tax}/-\")    "
   ]
  },
  {
   "cell_type": "code",
   "execution_count": 1,
   "id": "dc251113",
   "metadata": {},
   "outputs": [
    {
     "name": "stdout",
     "output_type": "stream",
     "text": [
      "enter password length:8\n",
      "Choose characterset for password from this: \n",
      "\t1.Digits\n",
      "\t2.Characters\n",
      "\t3.Special Characters\n",
      "\t4.Exit\n",
      "\n",
      "Enter your choice:1\n",
      "\tDigits\n",
      "\n",
      "Enter your choice:3\n",
      "\tSpecial Characters\n",
      "\n",
      "Enter your choice:2\n",
      "\tLetters\n",
      "\n",
      "Enter your choice:3\n",
      "\tSpecial Characters\n",
      "\n",
      "Enter your choice:4\n",
      "\t...Exit from loop...\n",
      "\n",
      "\n",
      "A random strong password is }O\"]'6+m\n"
     ]
    }
   ],
   "source": [
    "#develop a program that generates a password based on user preferences:\n",
    "\n",
    "import string\n",
    "import random\n",
    "\n",
    "length=int(input(\"enter password length:\"))\n",
    "print(\"Choose characterset for password from this: \\n\\t1.Digits\\n\\t2.Characters\\n\\t3.Special Characters\\n\\t4.Exit\")\n",
    "combo= \"\"\n",
    "\n",
    "while True:\n",
    "    choice=int(input(\"\\nEnter your choice:\"))\n",
    "    if(choice==1):\n",
    "        print(\"\\tDigits\")\n",
    "        combo += string.digits\n",
    "    elif(choice==2):\n",
    "        print(\"\\tLetters\")\n",
    "        combo += string.ascii_letters\n",
    "    elif(choice==3):\n",
    "        print(\"\\tSpecial Characters\")\n",
    "        combo += string.punctuation\n",
    "    elif(choice==4):\n",
    "        print(\"\\t...Exit from loop...\\n\")\n",
    "        break\n",
    "    else:\n",
    "        print(\"Invalid choice!!!\")\n",
    "    \n",
    "    password=[]\n",
    "    \n",
    "for i in range(length):\n",
    "    randomchar = random.choice(combo)\n",
    "    password.append(randomchar)\n",
    "    \n",
    "print(\"\\nA random strong password is \" + \"\".join(password))"
   ]
  },
  {
   "cell_type": "code",
   "execution_count": null,
   "id": "63b22715",
   "metadata": {},
   "outputs": [],
   "source": []
  }
 ],
 "metadata": {
  "kernelspec": {
   "display_name": "Python 3 (ipykernel)",
   "language": "python",
   "name": "python3"
  },
  "language_info": {
   "codemirror_mode": {
    "name": "ipython",
    "version": 3
   },
   "file_extension": ".py",
   "mimetype": "text/x-python",
   "name": "python",
   "nbconvert_exporter": "python",
   "pygments_lexer": "ipython3",
   "version": "3.11.4"
  }
 },
 "nbformat": 4,
 "nbformat_minor": 5
}
